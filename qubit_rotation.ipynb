{
  "nbformat": 4,
  "nbformat_minor": 0,
  "metadata": {
    "colab": {
      "provenance": [],
      "authorship_tag": "ABX9TyN5mY5OPcNFCN+rvmzMl0GI",
      "include_colab_link": true
    },
    "kernelspec": {
      "name": "python3",
      "display_name": "Python 3"
    },
    "language_info": {
      "name": "python"
    }
  },
  "cells": [
    {
      "cell_type": "markdown",
      "metadata": {
        "id": "view-in-github",
        "colab_type": "text"
      },
      "source": [
        "<a href=\"https://colab.research.google.com/github/shreyasat27/pennylane-27524/blob/main/qubit_rotation.ipynb\" target=\"_parent\"><img src=\"https://colab.research.google.com/assets/colab-badge.svg\" alt=\"Open In Colab\"/></a>"
      ]
    },
    {
      "cell_type": "code",
      "execution_count": 19,
      "metadata": {
        "colab": {
          "base_uri": "https://localhost:8080/"
        },
        "id": "lLDrErZeFuCl",
        "outputId": "c616d12c-e6c7-4dc2-a9d1-8175e7bcc420"
      },
      "outputs": [
        {
          "output_type": "stream",
          "name": "stdout",
          "text": [
            "Requirement already satisfied: pennylane in /usr/local/lib/python3.10/dist-packages (0.36.0)\n",
            "Requirement already satisfied: numpy<2.0 in /usr/local/lib/python3.10/dist-packages (from pennylane) (1.25.2)\n",
            "Requirement already satisfied: scipy in /usr/local/lib/python3.10/dist-packages (from pennylane) (1.11.4)\n",
            "Requirement already satisfied: networkx in /usr/local/lib/python3.10/dist-packages (from pennylane) (3.3)\n",
            "Requirement already satisfied: rustworkx in /usr/local/lib/python3.10/dist-packages (from pennylane) (0.14.2)\n",
            "Requirement already satisfied: autograd in /usr/local/lib/python3.10/dist-packages (from pennylane) (1.6.2)\n",
            "Requirement already satisfied: toml in /usr/local/lib/python3.10/dist-packages (from pennylane) (0.10.2)\n",
            "Requirement already satisfied: appdirs in /usr/local/lib/python3.10/dist-packages (from pennylane) (1.4.4)\n",
            "Requirement already satisfied: semantic-version>=2.7 in /usr/local/lib/python3.10/dist-packages (from pennylane) (2.10.0)\n",
            "Requirement already satisfied: autoray>=0.6.1 in /usr/local/lib/python3.10/dist-packages (from pennylane) (0.6.12)\n",
            "Requirement already satisfied: cachetools in /usr/local/lib/python3.10/dist-packages (from pennylane) (5.3.3)\n",
            "Requirement already satisfied: pennylane-lightning>=0.36 in /usr/local/lib/python3.10/dist-packages (from pennylane) (0.36.0)\n",
            "Requirement already satisfied: requests in /usr/local/lib/python3.10/dist-packages (from pennylane) (2.31.0)\n",
            "Requirement already satisfied: typing-extensions in /usr/local/lib/python3.10/dist-packages (from pennylane) (4.12.2)\n",
            "Requirement already satisfied: future>=0.15.2 in /usr/local/lib/python3.10/dist-packages (from autograd->pennylane) (0.18.3)\n",
            "Requirement already satisfied: charset-normalizer<4,>=2 in /usr/local/lib/python3.10/dist-packages (from requests->pennylane) (3.3.2)\n",
            "Requirement already satisfied: idna<4,>=2.5 in /usr/local/lib/python3.10/dist-packages (from requests->pennylane) (3.7)\n",
            "Requirement already satisfied: urllib3<3,>=1.21.1 in /usr/local/lib/python3.10/dist-packages (from requests->pennylane) (2.0.7)\n",
            "Requirement already satisfied: certifi>=2017.4.17 in /usr/local/lib/python3.10/dist-packages (from requests->pennylane) (2024.6.2)\n"
          ]
        }
      ],
      "source": [
        "!pip install pennylane"
      ]
    },
    {
      "cell_type": "code",
      "source": [
        "import pennylane as qml\n",
        "from jax import numpy as np\n",
        "import jax"
      ],
      "metadata": {
        "id": "Po2sQLhHGS67"
      },
      "execution_count": 20,
      "outputs": []
    },
    {
      "cell_type": "markdown",
      "source": [
        "create a device"
      ],
      "metadata": {
        "id": "7uQYa5TCGbTX"
      }
    },
    {
      "cell_type": "code",
      "source": [
        "dev1= qml.device(\"lightning.qubit\", wires=1)"
      ],
      "metadata": {
        "id": "ken3n-03Gciy"
      },
      "execution_count": 21,
      "outputs": []
    },
    {
      "cell_type": "markdown",
      "source": [
        "construct a QNode"
      ],
      "metadata": {
        "id": "TOraRvmJGidc"
      }
    },
    {
      "cell_type": "code",
      "source": [
        "def circuit(params):\n",
        "    qml.RX(params[0], wires=0)\n",
        "    qml.RY(params[1], wires=0)\n",
        "    return qml.expval(qml.PauliZ(0))"
      ],
      "metadata": {
        "id": "nwUPA31yGkLm"
      },
      "execution_count": 22,
      "outputs": []
    },
    {
      "cell_type": "markdown",
      "source": [
        "we convert it into a QNode running on device dev1 by applying the qnode() decorator. directly above the function definition:"
      ],
      "metadata": {
        "id": "NrhNHCX0HJI_"
      }
    },
    {
      "cell_type": "code",
      "source": [
        "@qml.qnode(dev1)\n",
        "def circuit(params):\n",
        "    qml.RX(params[0], wires=0)\n",
        "    qml.RY(params[1], wires=0)\n",
        "    return qml.expval(qml.PauliZ(0))"
      ],
      "metadata": {
        "id": "KgoMf8GtHJe2"
      },
      "execution_count": 23,
      "outputs": []
    },
    {
      "cell_type": "markdown",
      "source": [
        "quantum fucntion is now a QNode. now we will simply all the function with some appropriate numerical values"
      ],
      "metadata": {
        "id": "oLznaIdyHUWM"
      }
    },
    {
      "cell_type": "code",
      "source": [
        "params = np.array([0.54, 0.12])\n"
      ],
      "metadata": {
        "id": "NMOiPydBHUp_"
      },
      "execution_count": 28,
      "outputs": []
    },
    {
      "cell_type": "code",
      "source": [
        "print(circuit(params))"
      ],
      "metadata": {
        "colab": {
          "base_uri": "https://localhost:8080/"
        },
        "id": "HLOsJUUlKIGO",
        "outputId": "41d4f4dd-fb5a-4664-808f-b060e0219ffe"
      },
      "execution_count": 29,
      "outputs": [
        {
          "output_type": "stream",
          "name": "stdout",
          "text": [
            "0.85154057\n"
          ]
        }
      ]
    },
    {
      "cell_type": "markdown",
      "source": [
        "**Calculating quantum gradients**\n",
        "\n",
        "PennyLane incorporates both analytic differentiation, as well as numerical methods (such as the method of finite differences). Both of these are done automatically.\n",
        "\n",
        "We can differentiate by using the jax.grad function. This returns another function, representing the gradient (i.e., the vector of partial derivatives) of circuit. The gradient can be evaluated in the same way as the original function:"
      ],
      "metadata": {
        "id": "oTdrUriUH0WH"
      }
    },
    {
      "cell_type": "code",
      "source": [
        "dcircuit= jax.grad(circuit, argnums=0)\n",
        "print(dcircuit(params))"
      ],
      "metadata": {
        "colab": {
          "base_uri": "https://localhost:8080/"
        },
        "id": "An92E1KwH8Xa",
        "outputId": "988f022f-fee9-4501-b039-1f76a861b367"
      },
      "execution_count": 25,
      "outputs": [
        {
          "output_type": "stream",
          "name": "stdout",
          "text": [
            "[-0.5104387  -0.10267819]\n"
          ]
        }
      ]
    },
    {
      "cell_type": "code",
      "source": [
        "@qml.qnode(dev1)\n",
        "def circuit2(phi1, phi2):\n",
        "    qml.RX(phi1, wires=0)\n",
        "    qml.RY(phi2, wires=0)\n",
        "    return qml.expval(qml.PauliZ(0))"
      ],
      "metadata": {
        "id": "6_zuh7lrJ8U0"
      },
      "execution_count": 26,
      "outputs": []
    },
    {
      "cell_type": "code",
      "source": [
        "phi1 = np.array([0.54])\n",
        "phi2 = np.array([0.12])\n",
        "\n",
        "dcircuit = jax.grad(circuit2, argnums=[0, 1])\n",
        "print(dcircuit(phi1, phi2))"
      ],
      "metadata": {
        "colab": {
          "base_uri": "https://localhost:8080/"
        },
        "id": "fkpqJBnbJ_p1",
        "outputId": "30a3292b-bb5c-449c-dfb8-7c1d7c5f40f2"
      },
      "execution_count": 27,
      "outputs": [
        {
          "output_type": "stream",
          "name": "stdout",
          "text": [
            "(Array([-0.5104387], dtype=float32), Array([-0.10267819], dtype=float32))\n"
          ]
        }
      ]
    },
    {
      "cell_type": "markdown",
      "source": [
        "Optimization"
      ],
      "metadata": {
        "id": "TTHVG9ViKMvG"
      }
    },
    {
      "cell_type": "code",
      "source": [
        "def cost(x):\n",
        "    return circuit(x)"
      ],
      "metadata": {
        "id": "9khKA7QlKOKg"
      },
      "execution_count": 32,
      "outputs": []
    },
    {
      "cell_type": "code",
      "source": [
        "init_params =np.array([0.011, 0.012])\n",
        "print(cost(init_params))"
      ],
      "metadata": {
        "colab": {
          "base_uri": "https://localhost:8080/"
        },
        "id": "gmmqILDwKSA_",
        "outputId": "ad6dbabc-3c52-4aa2-85af-8d628b818bf2"
      },
      "execution_count": 33,
      "outputs": [
        {
          "output_type": "stream",
          "name": "stdout",
          "text": [
            "0.9998675\n"
          ]
        }
      ]
    },
    {
      "cell_type": "markdown",
      "source": [
        "We can see that, for these initial parameter values, the cost function is close to  \n",
        "1\n",
        " .\n",
        "\n",
        "Finally, we use an optimizer to update the circuit parameters for 100 steps. We can use the gradient descent optimizer:\n",
        "\n"
      ],
      "metadata": {
        "id": "ZXetqaJdKfaA"
      }
    },
    {
      "cell_type": "code",
      "source": [
        "!pip install jaxopt"
      ],
      "metadata": {
        "colab": {
          "base_uri": "https://localhost:8080/"
        },
        "id": "sWkMfhAjLkaK",
        "outputId": "bdd85fad-d047-4b7b-dde3-97dd1cc17b41"
      },
      "execution_count": 35,
      "outputs": [
        {
          "output_type": "stream",
          "name": "stdout",
          "text": [
            "Collecting jaxopt\n",
            "  Downloading jaxopt-0.8.3-py3-none-any.whl (172 kB)\n",
            "\u001b[?25l     \u001b[90m━━━━━━━━━━━━━━━━━━━━━━━━━━━━━━━━━━━━━━━━\u001b[0m \u001b[32m0.0/172.3 kB\u001b[0m \u001b[31m?\u001b[0m eta \u001b[36m-:--:--\u001b[0m\r\u001b[2K     \u001b[90m━━━━━━━━━━━━━━━━━━━━━━━━━━━━━━━━━━━━━━━━\u001b[0m \u001b[32m172.3/172.3 kB\u001b[0m \u001b[31m5.4 MB/s\u001b[0m eta \u001b[36m0:00:00\u001b[0m\n",
            "\u001b[?25hRequirement already satisfied: jax>=0.2.18 in /usr/local/lib/python3.10/dist-packages (from jaxopt) (0.4.26)\n",
            "Requirement already satisfied: jaxlib>=0.1.69 in /usr/local/lib/python3.10/dist-packages (from jaxopt) (0.4.26+cuda12.cudnn89)\n",
            "Requirement already satisfied: numpy>=1.18.4 in /usr/local/lib/python3.10/dist-packages (from jaxopt) (1.25.2)\n",
            "Requirement already satisfied: scipy>=1.0.0 in /usr/local/lib/python3.10/dist-packages (from jaxopt) (1.11.4)\n",
            "Requirement already satisfied: ml-dtypes>=0.2.0 in /usr/local/lib/python3.10/dist-packages (from jax>=0.2.18->jaxopt) (0.2.0)\n",
            "Requirement already satisfied: opt-einsum in /usr/local/lib/python3.10/dist-packages (from jax>=0.2.18->jaxopt) (3.3.0)\n",
            "Installing collected packages: jaxopt\n",
            "Successfully installed jaxopt-0.8.3\n"
          ]
        }
      ]
    },
    {
      "cell_type": "code",
      "source": [
        "import jaxopt\n",
        "\n",
        "#initialise the optimizer\n",
        "opt = jaxopt.GradientDescent(cost, stepsize=0.4, acceleration = False)\n",
        "\n",
        "#set the number of steps\n",
        "steps = 40\n",
        "\n",
        "#se the initial parameter values\n",
        "params = init_params\n",
        "opt_state = opt.init_state(params)\n",
        "\n",
        "for i in range(steps):\n",
        "  #update the circuit parameters\n",
        "    params, opt_state = opt.update(params, opt_state)\n",
        "\n",
        "    if (i+1) % 5 == 0:\n",
        "      print(\"cost after step {:5f}: {: .7f}\".format(i+1, cost(params)))\n",
        "print(\"optimized totation angels: {}\".format(params))"
      ],
      "metadata": {
        "colab": {
          "base_uri": "https://localhost:8080/"
        },
        "id": "6eowq1cOKgBg",
        "outputId": "d7cad6ce-32f2-4c2d-b770-2059825d4cf0"
      },
      "execution_count": 41,
      "outputs": [
        {
          "output_type": "stream",
          "name": "stdout",
          "text": [
            "cost after step 5.000000:  0.9961779\n",
            "cost after step 10.000000:  0.8974943\n",
            "cost after step 15.000000:  0.1440490\n",
            "cost after step 20.000000: -0.1536721\n",
            "cost after step 25.000000: -0.9152496\n",
            "cost after step 30.000000: -0.9994046\n",
            "cost after step 35.000000: -0.9999964\n",
            "cost after step 40.000000: -1.0000000\n",
            "optimized totation angels: [1.4634992e-04 3.1414437e+00]\n"
          ]
        }
      ]
    }
  ]
}