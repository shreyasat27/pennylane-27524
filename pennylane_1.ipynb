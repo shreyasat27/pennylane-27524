{
  "nbformat": 4,
  "nbformat_minor": 0,
  "metadata": {
    "colab": {
      "provenance": [],
      "authorship_tag": "ABX9TyMyvSoY66dHT50Gm+1fJbO8",
      "include_colab_link": true
    },
    "kernelspec": {
      "name": "python3",
      "display_name": "Python 3"
    },
    "language_info": {
      "name": "python"
    }
  },
  "cells": [
    {
      "cell_type": "markdown",
      "metadata": {
        "id": "view-in-github",
        "colab_type": "text"
      },
      "source": [
        "<a href=\"https://colab.research.google.com/github/shreyasat27/pennylane-27524/blob/main/pennylane_1.ipynb\" target=\"_parent\"><img src=\"https://colab.research.google.com/assets/colab-badge.svg\" alt=\"Open In Colab\"/></a>"
      ]
    },
    {
      "cell_type": "markdown",
      "source": [
        "*Codercise l.1.1*"
      ],
      "metadata": {
        "id": "mNG2XBF_IOkE"
      }
    },
    {
      "cell_type": "code",
      "execution_count": null,
      "metadata": {
        "id": "5z9JWV8F_XAz"
      },
      "outputs": [],
      "source": [
        "import numpy as np\n",
        "# Here are the vector representations of |0> and |1>, for convenience\n",
        "ket_0 = np.array([1, 0])\n",
        "ket_1 = np.array([0, 1])\n",
        "\n",
        "\n",
        "def normalize_state(alpha, beta):\n",
        "    \"\"\"Compute a normalized quantum state given arbitrary amplitudes.\n",
        "\n",
        "    Args:\n",
        "        alpha (complex): The amplitude associated with the |0> state.\n",
        "        beta (complex): The amplitude associated with the |1> state.\n",
        "\n",
        "    Returns:\n",
        "        np.array[complex]: A vector (numpy array) with 2 elements that represents\n",
        "        a normalized quantum state.\n",
        "    \"\"\"\n",
        "    # Compute the normalization factor\n",
        "    norm = np.sqrt(np.abs(alpha)**2 + np.abs(beta)**2)\n",
        "\n",
        "    # Create the normalized state vector\n",
        "    normalized_state = np.array([alpha / norm, beta / norm])\n",
        "\n",
        "    # CREATE A VECTOR [a', b'] BASED ON alpha AND beta SUCH THAT |a'|^2 + |b'|^2 = 1\n",
        "\n",
        "    # RETURN A VECTOR\n",
        "    return normalized_state\n",
        "    pass\n"
      ]
    },
    {
      "cell_type": "markdown",
      "source": [
        "*Codercise l.1.2*"
      ],
      "metadata": {
        "id": "uD8QBhv-4GsT"
      }
    },
    {
      "cell_type": "code",
      "source": [
        "def inner_product(state_1, state_2):\n",
        "    \"\"\"Compute the inner product between two states.\n",
        "\n",
        "    Args:\n",
        "        state_1 (np.array[complex]): A normalized quantum state vector\n",
        "        state_2 (np.array[complex]): A second normalized quantum state vector\n",
        "\n",
        "    Returns:\n",
        "        complex: The value of the inner product <state_1 | state_2>.\n",
        "    \"\"\"\n",
        "\n",
        "\n",
        "    # COMPUTE AND RETURN THE INNER PRODUCT\n",
        "\n",
        "    return np.vdot(state_1, state_2)\n",
        "\n",
        "\n",
        "\n",
        "# Test your results with this code\n",
        "ket_0 = np.array([1, 0])\n",
        "ket_1 = np.array([0, 1])\n",
        "\n",
        "print(f\"<0|0> = {inner_product(ket_0, ket_0)}\")\n",
        "print(f\"<0|1> = {inner_product(ket_0, ket_1)}\")\n",
        "print(f\"<1|0> = {inner_product(ket_1, ket_0)}\")\n",
        "print(f\"<1|1> = {inner_product(ket_1, ket_1)}\")"
      ],
      "metadata": {
        "colab": {
          "base_uri": "https://localhost:8080/"
        },
        "id": "SYqnM4w24M8z",
        "outputId": "0c51b970-af4a-4b31-b12e-d8479e5dd622"
      },
      "execution_count": null,
      "outputs": [
        {
          "output_type": "stream",
          "name": "stdout",
          "text": [
            "<0|0> = 1\n",
            "<0|1> = 0\n",
            "<1|0> = 0\n",
            "<1|1> = 1\n"
          ]
        }
      ]
    },
    {
      "cell_type": "markdown",
      "source": [
        "*Codercise l.1.3*"
      ],
      "metadata": {
        "id": "cywowQpW4SVX"
      }
    },
    {
      "cell_type": "code",
      "source": [
        "def measure_state(state, num_meas):\n",
        "    \"\"\"Simulate a quantum measurement process.\n",
        "\n",
        "    Args:\n",
        "        state (array[complex]): A normalized qubit state vector.\n",
        "        num_meas (int): The number of measurements to take\n",
        "\n",
        "    Returns:\n",
        "        array[int]: A set of num_meas samples, 0 or 1, chosen according to the probability\n",
        "        distribution defined by the input state.\n",
        "    \"\"\"\n",
        "\n",
        "    return np.random.choice(2, num_meas, p=[np.abs(state[0])**2, np.abs(state[1])**2])\n",
        "\n"
      ],
      "metadata": {
        "id": "Lj2RUran4W1Z"
      },
      "execution_count": null,
      "outputs": []
    },
    {
      "cell_type": "code",
      "source": [
        "state = np.array([0.6, 0.8])\n",
        "U = np.array(([[1, 1], [1, -1]]) / np.sqrt(2))"
      ],
      "metadata": {
        "id": "sitjbBOe78Pl"
      },
      "execution_count": null,
      "outputs": []
    },
    {
      "cell_type": "code",
      "source": [
        "measure_state(state,10)"
      ],
      "metadata": {
        "colab": {
          "base_uri": "https://localhost:8080/"
        },
        "id": "-IUkkDhI8UbJ",
        "outputId": "9c6baf2b-5f1f-45f0-9190-4122de7c711c"
      },
      "execution_count": null,
      "outputs": [
        {
          "output_type": "execute_result",
          "data": {
            "text/plain": [
              "array([1, 0, 1, 1, 1, 1, 1, 1, 1, 1])"
            ]
          },
          "metadata": {},
          "execution_count": 137
        }
      ]
    },
    {
      "cell_type": "markdown",
      "source": [
        "*Codercise I.1.4*"
      ],
      "metadata": {
        "id": "wJLuu7XD8rZY"
      }
    },
    {
      "cell_type": "code",
      "source": [
        "U = np.array([[1, 1], [1, -1]]) / np.sqrt(2)\n",
        "\n",
        "\n",
        "def apply_u(state):\n",
        "    \"\"\"Apply a quantum operation.\n",
        "\n",
        "    Args:\n",
        "        state (np.array[complex]): A normalized quantum state vector.\n",
        "\n",
        "    Returns:\n",
        "        np.array[complex]: The output state after applying U.\n",
        "    \"\"\"\n",
        "\n",
        "    return np.dot(U,state)\n",
        "\n",
        "    # APPLY U TO THE INPUT STATE AND RETURN THE NEW STATE\n",
        "    pass"
      ],
      "metadata": {
        "id": "ZCuVJfuD8xiE"
      },
      "execution_count": null,
      "outputs": []
    },
    {
      "cell_type": "markdown",
      "source": [
        "*Codercise l.1.5*"
      ],
      "metadata": {
        "id": "A_oQ4F70-6xN"
      }
    },
    {
      "cell_type": "code",
      "source": [
        "U = np.array([[1, 1], [1, -1]]) / np.sqrt(2)\n",
        "\n",
        "\n",
        "def initialize_state():\n",
        "    \"\"\"Prepare a qubit in state |0>.\n",
        "\n",
        "    Returns:\n",
        "        np.array[float]: the vector representation of state |0>.\n",
        "    \"\"\"\n",
        "\n",
        "\n",
        "\n",
        "    # PREPARE THE STATE |0>\n",
        "    return np.array([1,0])\n",
        "    pass\n",
        "\n",
        "def apply_u(state):\n",
        "    \"\"\"Apply a quantum operation.\"\"\"\n",
        "    return np.dot(U, state)\n",
        "\n",
        "\n",
        "def measure_state(state, num_meas):\n",
        "    \"\"\"Measure a quantum state num_meas times.\"\"\"\n",
        "    p_alpha = np.abs(state[0]) ** 2\n",
        "    p_beta = np.abs(state[1]) ** 2\n",
        "    meas_outcome = np.random.choice([0, 1], p=[p_alpha, p_beta], size=num_meas)\n",
        "    return meas_outcome\n",
        "\n",
        "\n",
        "def quantum_algorithm():\n",
        "    \"\"\"Use the functions above to implement the quantum algorithm described above.\n",
        "\n",
        "    Try and do so using three lines of code or less!\n",
        "\n",
        "    Returns:\n",
        "        np.array[int]: the measurement results after running the algorithm 100 times\n",
        "    \"\"\"\n",
        "    # PREPARE THE STATE, APPLY U, THEN TAKE 100 MEASUREMENT SAMPLES\n",
        "\n",
        "    state = np.array([1, 0])\n",
        "    final_state = apply_u(state)\n",
        "    meas_outcome = measure_state(final_state, 100)\n",
        "    return meas_outcome\n",
        "    pass"
      ],
      "metadata": {
        "id": "55m7ITd0_EDI"
      },
      "execution_count": null,
      "outputs": []
    },
    {
      "cell_type": "code",
      "source": [
        "quantum_algorithm()\n"
      ],
      "metadata": {
        "colab": {
          "base_uri": "https://localhost:8080/"
        },
        "id": "DqjCT62QAOJc",
        "outputId": "9d6258c1-24ff-4e8e-f836-30b68ef0d77a"
      },
      "execution_count": null,
      "outputs": [
        {
          "output_type": "execute_result",
          "data": {
            "text/plain": [
              "array([1, 1, 0, 1, 0, 1, 0, 1, 0, 1, 0, 0, 1, 0, 0, 0, 0, 0, 0, 1, 1, 1,\n",
              "       1, 1, 1, 0, 1, 1, 1, 1, 1, 0, 1, 0, 0, 1, 1, 0, 0, 1, 1, 0, 1, 1,\n",
              "       1, 0, 0, 1, 0, 0, 1, 0, 0, 0, 0, 0, 0, 0, 1, 1, 1, 1, 1, 1, 0, 1,\n",
              "       0, 0, 1, 0, 1, 1, 0, 1, 0, 0, 0, 0, 0, 1, 1, 1, 1, 0, 1, 1, 0, 1,\n",
              "       1, 0, 1, 0, 1, 0, 1, 0, 1, 1, 1, 1])"
            ]
          },
          "metadata": {},
          "execution_count": 140
        }
      ]
    },
    {
      "cell_type": "code",
      "source": [
        "!pip install pennylane"
      ],
      "metadata": {
        "colab": {
          "base_uri": "https://localhost:8080/"
        },
        "id": "6BUmYWY5Myah",
        "outputId": "edda177a-d750-4ea7-e94b-a77de3619da3"
      },
      "execution_count": null,
      "outputs": [
        {
          "output_type": "stream",
          "name": "stdout",
          "text": [
            "Requirement already satisfied: pennylane in /usr/local/lib/python3.10/dist-packages (0.36.0)\n",
            "Requirement already satisfied: numpy<2.0 in /usr/local/lib/python3.10/dist-packages (from pennylane) (1.25.2)\n",
            "Requirement already satisfied: scipy in /usr/local/lib/python3.10/dist-packages (from pennylane) (1.11.4)\n",
            "Requirement already satisfied: networkx in /usr/local/lib/python3.10/dist-packages (from pennylane) (3.3)\n",
            "Requirement already satisfied: rustworkx in /usr/local/lib/python3.10/dist-packages (from pennylane) (0.14.2)\n",
            "Requirement already satisfied: autograd in /usr/local/lib/python3.10/dist-packages (from pennylane) (1.6.2)\n",
            "Requirement already satisfied: toml in /usr/local/lib/python3.10/dist-packages (from pennylane) (0.10.2)\n",
            "Requirement already satisfied: appdirs in /usr/local/lib/python3.10/dist-packages (from pennylane) (1.4.4)\n",
            "Requirement already satisfied: semantic-version>=2.7 in /usr/local/lib/python3.10/dist-packages (from pennylane) (2.10.0)\n",
            "Requirement already satisfied: autoray>=0.6.1 in /usr/local/lib/python3.10/dist-packages (from pennylane) (0.6.12)\n",
            "Requirement already satisfied: cachetools in /usr/local/lib/python3.10/dist-packages (from pennylane) (5.3.3)\n",
            "Requirement already satisfied: pennylane-lightning>=0.36 in /usr/local/lib/python3.10/dist-packages (from pennylane) (0.36.0)\n",
            "Requirement already satisfied: requests in /usr/local/lib/python3.10/dist-packages (from pennylane) (2.31.0)\n",
            "Requirement already satisfied: typing-extensions in /usr/local/lib/python3.10/dist-packages (from pennylane) (4.11.0)\n",
            "Requirement already satisfied: future>=0.15.2 in /usr/local/lib/python3.10/dist-packages (from autograd->pennylane) (0.18.3)\n",
            "Requirement already satisfied: charset-normalizer<4,>=2 in /usr/local/lib/python3.10/dist-packages (from requests->pennylane) (3.3.2)\n",
            "Requirement already satisfied: idna<4,>=2.5 in /usr/local/lib/python3.10/dist-packages (from requests->pennylane) (3.7)\n",
            "Requirement already satisfied: urllib3<3,>=1.21.1 in /usr/local/lib/python3.10/dist-packages (from requests->pennylane) (2.0.7)\n",
            "Requirement already satisfied: certifi>=2017.4.17 in /usr/local/lib/python3.10/dist-packages (from requests->pennylane) (2024.2.2)\n"
          ]
        }
      ]
    },
    {
      "cell_type": "markdown",
      "source": [
        " *Codercise l.2.1*"
      ],
      "metadata": {
        "id": "IwhWZix5NHlN"
      }
    },
    {
      "cell_type": "code",
      "source": [
        "#quantum circuits in pennylane\n",
        "\n",
        "import pennylane as qml\n",
        "\n",
        "def my_quantum_function(params):\n",
        "\n",
        "    # Single-qubit operations with no input parameters\n",
        "    qml.Gate1(wires=0)\n",
        "    qml.Gate2(wires=1)\n",
        "\n",
        "    # A single-qubit operation with an input parameter\n",
        "    qml.Gate3(params[0], wires=0)\n",
        "\n",
        "    # Two-qubit operation with no input parameter on wires 0 and 1\n",
        "    qml.TwoQubitGate1(wires=[0, 1])\n",
        "\n",
        "    # Two-qubit operation with an input parameter on wires 0 and 1\n",
        "    qml.TwoQubitGate2(params[1], wires=[0, 1])\n",
        "\n",
        "    # Return the result of a measurement\n",
        "    return qml.Measurement(wires=[0, 1])"
      ],
      "metadata": {
        "id": "JJdUXI8oHTyU"
      },
      "execution_count": null,
      "outputs": []
    },
    {
      "cell_type": "code",
      "source": [
        "#creating a quantum circuit using quantum gates Rz, H and CNOT\n",
        "\n",
        "#build a quantum fuction 'my_first_circuit' yo\n",
        "\n",
        "def my_first_circuit(theta):\n",
        "\n",
        "    qml.Hadamard(wires =0)\n",
        "    qml.CNOT(wires = [0,1])\n",
        "    qml.RZ(theta, wires =0)\n",
        "\n",
        "    return qml.probs(wires = [0,1])\n",
        "\n",
        "    pass\n",
        "\n"
      ],
      "metadata": {
        "id": "ZifWH0lwN5ZQ"
      },
      "execution_count": null,
      "outputs": []
    },
    {
      "cell_type": "markdown",
      "source": [
        "*Method-1 to execute the circuit*"
      ],
      "metadata": {
        "id": "jMvw4YiGSlE3"
      }
    },
    {
      "cell_type": "code",
      "source": [
        "dev = qml.device('default.qubit', wires= [0,1])\n",
        "theta = 90\n",
        "def my_first_circuit(theta):\n",
        "    qml.Hadamard(wires =0)\n",
        "    qml.CNOT(wires =[0,1])\n",
        "    qml.RZ(theta, wires=0)\n",
        "\n",
        "    return qml.probs(wires = [0,1])\n",
        "\n",
        "my_first_QNode = qml.QNode(my_first_circuit, dev)\n",
        "\n"
      ],
      "metadata": {
        "id": "UY9iyOuDSflX"
      },
      "execution_count": null,
      "outputs": []
    },
    {
      "cell_type": "markdown",
      "source": [
        "*Method-2 to execute the circuit*"
      ],
      "metadata": {
        "id": "iMtmU2ejIN_n"
      }
    },
    {
      "cell_type": "code",
      "source": [
        "dev = qml.device('default.qubit', wires =[0,1])\n",
        "\n",
        "@qml.qnode(dev)\n",
        "def my_first_circuit(theta):\n",
        "\n",
        "    qml.Hadamard(wires =0)\n",
        "    qml.CNOT(wires =[0,1])\n",
        "    qml.RZ(theta, wires=0)\n",
        "\n",
        "    return qml.probs(wires = [0,1])\n",
        "\n"
      ],
      "metadata": {
        "id": "RMBXri4FUn0Q"
      },
      "execution_count": null,
      "outputs": []
    },
    {
      "cell_type": "markdown",
      "source": [
        "*Codercise l.2.2* Building a QNode"
      ],
      "metadata": {
        "id": "Uqw-l2rwA-3L"
      }
    },
    {
      "cell_type": "code",
      "source": [
        "#using the qml.QNode function\n",
        "\n",
        "# This creates a device with three wires on which PennyLane can run computations\n",
        "dev = qml.device(\"default.qubit\", wires=3)\n",
        "\n",
        "\n",
        "def my_circuit(theta, phi, omega):\n",
        "\n",
        "    # IMPLEMENT THE CIRCUIT BY ADDING THE GATES\n",
        "\n",
        "    qml.RX(theta, wires=0)\n",
        "    qml.RY(phi, wires=1)\n",
        "    qml.RZ(omega, wires=2)\n",
        "    qml.CNOT(wires=[0, 1])\n",
        "    qml.CNOT(wires=[1, 2])\n",
        "    qml.CNOT(wires=[2, 0])\n",
        "\n",
        "\n",
        "    return qml.probs(wires=[0, 1, 2])\n",
        "\n",
        "\n",
        "# This creates a QNode, binding the function and device\n",
        "my_qnode = qml.QNode(my_circuit, dev)\n",
        "\n",
        "# We set up some values for the input parameters\n",
        "theta, phi, omega = 0.1, 0.2, 0.3\n",
        "\n",
        "# Now we can execute the QNode by calling it like we would a regular function\n",
        "my_qnode(theta, phi, omega)"
      ],
      "metadata": {
        "colab": {
          "base_uri": "https://localhost:8080/"
        },
        "id": "gR0ynpldBDDe",
        "outputId": "2fb97739-2e9c-489c-968f-c883ba62a230"
      },
      "execution_count": null,
      "outputs": [
        {
          "output_type": "execute_result",
          "data": {
            "text/plain": [
              "tensor([9.87560268e-01, 0.00000000e+00, 0.00000000e+00, 2.47302134e-03,\n",
              "        2.48960206e-05, 0.00000000e+00, 0.00000000e+00, 9.94181506e-03], requires_grad=True)"
            ]
          },
          "metadata": {},
          "execution_count": 146
        }
      ]
    },
    {
      "cell_type": "markdown",
      "source": [
        "*Codercise l.2.3* The QNode Decorator"
      ],
      "metadata": {
        "id": "giEcPyHYExm3"
      }
    },
    {
      "cell_type": "code",
      "source": [
        "dev = qml.device(\"default.qubit\", wires=3)\n",
        "\n",
        "@qml.qnode(dev)\n",
        "# DECORATE THE FUNCTION BELOW TO TURN IT INTO A QNODE\n",
        "\n",
        "\n",
        "def my_circuit(theta, phi, omega):\n",
        "    qml.RX(theta, wires=0)\n",
        "    qml.RY(phi, wires=1)\n",
        "    qml.RZ(omega, wires=2)\n",
        "    qml.CNOT(wires=[0, 1])\n",
        "    qml.CNOT(wires=[1, 2])\n",
        "    qml.CNOT(wires=[2, 0])\n",
        "    return qml.probs(wires=[0, 1, 2])\n",
        "\n",
        "\n",
        "theta, phi, omega = 0.1, 0.2, 0.3\n",
        "\n",
        "##################\n",
        "# YOUR CODE HERE #\n",
        "##################\n",
        "\n",
        "# RUN THE QNODE WITH THE PROVIDED PARAMETERS\n",
        "my_circuit(theta, phi,omega)"
      ],
      "metadata": {
        "colab": {
          "base_uri": "https://localhost:8080/"
        },
        "id": "wZZiTcr9E7x-",
        "outputId": "21c3d498-1c1b-4af3-faa7-034abc99e80e"
      },
      "execution_count": null,
      "outputs": [
        {
          "output_type": "execute_result",
          "data": {
            "text/plain": [
              "tensor([9.87560268e-01, 0.00000000e+00, 0.00000000e+00, 2.47302134e-03,\n",
              "        2.48960206e-05, 0.00000000e+00, 0.00000000e+00, 9.94181506e-03], requires_grad=True)"
            ]
          },
          "metadata": {},
          "execution_count": 147
        }
      ]
    },
    {
      "cell_type": "markdown",
      "source": [
        "*Codercise l.2.4*"
      ],
      "metadata": {
        "id": "z6oXr-yiJKOk"
      }
    },
    {
      "cell_type": "code",
      "source": [
        "dev = qml.device(\"default.qubit\", wires=3)\n",
        "\n",
        "\n",
        "@qml.qnode(dev)\n",
        "def my_circuit(theta, phi, omega):\n",
        "    qml.RX(theta, wires=0)\n",
        "    qml.RY(phi, wires=1)\n",
        "    qml.RZ(omega, wires=2)\n",
        "    qml.CNOT(wires=[0, 1])\n",
        "    qml.CNOT(wires=[1, 2])\n",
        "    qml.CNOT(wires=[2, 0])\n",
        "    return qml.probs(wires=[0, 1, 2])\n",
        "\n",
        "\n",
        "##################\n",
        "# YOUR CODE HERE #\n",
        "##################\n",
        "\n",
        "# FILL IN THE CORRECT CIRCUIT DEPTH\n",
        "depth = 4"
      ],
      "metadata": {
        "id": "dYIjbMWhJMCL"
      },
      "execution_count": null,
      "outputs": []
    },
    {
      "cell_type": "markdown",
      "source": [
        "*Codercise l.3.1*"
      ],
      "metadata": {
        "id": "sR-IQERFzdYn"
      }
    },
    {
      "cell_type": "code",
      "source": [
        "dev = qml.device(\"default.qubit\", wires=1)\n",
        "\n",
        "U = np.array([[1, 1], [1, -1]]) / np.sqrt(2)\n",
        "\n",
        "\n",
        "@qml.qnode(dev)\n",
        "def apply_u():\n",
        "\n",
        "    # USE QubitUnitary TO APPLY U TO THE QUBIT\n",
        "    qml.QubitUnitary(U, wires=0)\n",
        "\n",
        "    # Return the state\n",
        "    return qml.state()\n"
      ],
      "metadata": {
        "id": "lIDKS4JDzkKt"
      },
      "execution_count": null,
      "outputs": []
    },
    {
      "cell_type": "markdown",
      "source": [
        "*Coderise l.3.2* Parametrized"
      ],
      "metadata": {
        "id": "ARNaSjeJJ4TN"
      }
    },
    {
      "cell_type": "code",
      "source": [
        "dev = qml.device(\"default.qubit\", wires=1)\n",
        "\n",
        "\n",
        "@qml.qnode(dev)\n",
        "def apply_u_as_rot(phi, theta, omega):\n",
        "\n",
        "    # APPLY A ROT GATE USING THE PROVIDED INPUT PARAMETERS\n",
        "    qml.Rot(phi, theta, omega, wires =0)\n",
        "    # RETURN THE QUANTUM STATE VECTOR\n",
        "\n",
        "    return qml.state()"
      ],
      "metadata": {
        "id": "_7y2sjDnJ9OV"
      },
      "execution_count": null,
      "outputs": []
    },
    {
      "cell_type": "markdown",
      "source": [
        "*Codercise l.4.1* Flipping bits"
      ],
      "metadata": {
        "id": "RQ3Ivda_8ZFV"
      }
    },
    {
      "cell_type": "code",
      "source": [
        "dev = qml.device(\"default.qubit\", wires=1)\n",
        "\n",
        "U = np.array([[1, 1], [1, -1]]) / np.sqrt(2)\n",
        "\n",
        "\n",
        "@qml.qnode(dev)\n",
        "def varied_initial_state(state):\n",
        "    \"\"\"Complete the function such that we can apply the operation U to\n",
        "    either |0> or |1> depending on the input argument flag.\n",
        "\n",
        "    Args:\n",
        "        state (int): Either 0 or 1. If 1, prepare the qubit in state |1>,\n",
        "            otherwise, leave it in state 0.\n",
        "\n",
        "    Returns:\n",
        "        np.array[complex]: The state of the qubit after the operations.\n",
        "    \"\"\"\n",
        "\n",
        "\n",
        "    # KEEP THE QUBIT IN |0> OR CHANGE IT TO |1> DEPENDING ON THE state PARAMETER\n",
        "    if (state ==1):\n",
        "       qml.PauliX(wires =0)\n",
        "\n",
        "    # APPLY U TO THE STATE\n",
        "    qml.QubitUnitary(U, wires=0)\n",
        "    return qml.state()\n"
      ],
      "metadata": {
        "id": "3hTfOjeJ8gj3"
      },
      "execution_count": null,
      "outputs": []
    },
    {
      "cell_type": "markdown",
      "source": [
        "*Codercise l.4.2* Uniform Superpostion (Hadamard gate)"
      ],
      "metadata": {
        "id": "cA7wHWpB-doq"
      }
    },
    {
      "cell_type": "code",
      "source": [
        "dev = qml.device(\"default.qubit\", wires=1)\n",
        "\n",
        "\n",
        "@qml.qnode(dev)\n",
        "def apply_hadamard():\n",
        "\n",
        "    # APPLY THE HADAMARD GATE\n",
        "    qml.Hadamard(wires =0)\n",
        "\n",
        "    # RETURN THE STATE\n",
        "\n",
        "    return qml.state()"
      ],
      "metadata": {
        "id": "oRh2Yigu-ifl"
      },
      "execution_count": null,
      "outputs": []
    },
    {
      "cell_type": "markdown",
      "source": [
        "*Codercise l.4.3* Combining X and H Gates"
      ],
      "metadata": {
        "id": "XW9iJJRo-sqH"
      }
    },
    {
      "cell_type": "code",
      "source": [
        "dev = qml.device(\"default.qubit\", wires=1)\n",
        "\n",
        "\n",
        "@qml.qnode(dev)\n",
        "def apply_hadamard_to_state(state):\n",
        "    \"\"\"Complete the function such that we can apply the Hadamard to\n",
        "    either |0> or |1> depending on the input argument flag.\n",
        "\n",
        "    Args:\n",
        "        state (int): Either 0 or 1. If 1, prepare the qubit in state |1>,\n",
        "            otherwise, leave it in state 0.\n",
        "\n",
        "    Returns:\n",
        "        np.array[complex]: The state of the qubit after the operations.\n",
        "    \"\"\"\n",
        "\n",
        "\n",
        "    # KEEP THE QUBIT IN |0> OR CHANGE IT TO |1> DEPENDING ON state\n",
        "    if (state ==1):\n",
        "        qml.PauliX(wires =0)\n",
        "\n",
        "    # APPLY THE HADAMARD\n",
        "    qml.Hadamard(wires =0)\n",
        "\n",
        "    # RETURN THE STATE\n",
        "\n",
        "    return qml.state()\n",
        "\n",
        "\n",
        "print(apply_hadamard_to_state(0))\n",
        "print(apply_hadamard_to_state(1))"
      ],
      "metadata": {
        "colab": {
          "base_uri": "https://localhost:8080/"
        },
        "id": "V7V_uwSf-3s3",
        "outputId": "39141d84-a8b5-4552-8b16-a45fbbd01313"
      },
      "execution_count": null,
      "outputs": [
        {
          "output_type": "stream",
          "name": "stdout",
          "text": [
            "[0.70710678+0.j 0.70710678+0.j]\n",
            "[ 0.70710678+0.j -0.70710678+0.j]\n"
          ]
        }
      ]
    },
    {
      "cell_type": "markdown",
      "source": [
        "*Codercise l.4.4* A QNode with X and H"
      ],
      "metadata": {
        "id": "_creG2Vo_nt-"
      }
    },
    {
      "cell_type": "code",
      "source": [
        "# CREATE A DEVICE\n",
        "dev = qml.device('default.qubit', wires =1)\n",
        "# CREATE A QNODE CALLED apply_hxh THAT APPLIES THE CIRCUIT ABOVE\n",
        "@qml.qnode(dev)\n",
        "\n",
        "def apply_hxh(state):\n",
        "\n",
        "    if (state ==1):\n",
        "        qml.PauliX(wires=0)\n",
        "\n",
        "\n",
        "    qml.Hadamard(wires =0)\n",
        "    qml.PauliX(wires =0)\n",
        "    qml.Hadamard(wires =0)\n",
        "\n",
        "    return qml.state()\n",
        "\n",
        "# Print your results\n",
        "print(apply_hxh(0))\n",
        "print(apply_hxh(1))"
      ],
      "metadata": {
        "colab": {
          "base_uri": "https://localhost:8080/"
        },
        "id": "KGuSkNUo_s5S",
        "outputId": "a1647998-7d7e-468b-a508-8934f613abc9"
      },
      "execution_count": null,
      "outputs": [
        {
          "output_type": "stream",
          "name": "stdout",
          "text": [
            "[1.+0.j 0.+0.j]\n",
            "[ 0.+0.j -1.+0.j]\n"
          ]
        }
      ]
    },
    {
      "cell_type": "markdown",
      "source": [
        "*Codercise l.5.1*"
      ],
      "metadata": {
        "id": "q5xdJsfHD7b_"
      }
    },
    {
      "cell_type": "code",
      "source": [
        "dev = qml.device(\"default.qubit\", wires=1)\n",
        "\n",
        "\n",
        "@qml.qnode(dev)\n",
        "def apply_z_to_plus():\n",
        "    \"\"\"Write a circuit that applies PauliZ to the |+> state and returns\n",
        "    the state.\n",
        "\n",
        "    Returns:\n",
        "        np.array[complex]: The state of the qubit after the operations.\n",
        "    \"\"\"\n",
        "\n",
        "    # CREATE THE |+> STATE\n",
        "    qml.Hadamard(wires =0)\n",
        "    # APPLY PAULI Z\n",
        "    qml.PauliZ(wires=0)\n",
        "\n",
        "    # RETURN THE STATE\n",
        "    return qml.state()\n",
        "\n",
        "\n",
        "print(apply_z_to_plus())"
      ],
      "metadata": {
        "colab": {
          "base_uri": "https://localhost:8080/"
        },
        "id": "-40TN9PWEALp",
        "outputId": "d84591be-d1c0-4e7d-f09a-8d19ff18fa95"
      },
      "execution_count": null,
      "outputs": [
        {
          "output_type": "stream",
          "name": "stdout",
          "text": [
            "[ 0.70710678+0.j -0.70710678+0.j]\n"
          ]
        }
      ]
    },
    {
      "cell_type": "markdown",
      "source": [
        "*Codercise l.5.2*"
      ],
      "metadata": {
        "id": "iDvWiFjSKtiY"
      }
    },
    {
      "cell_type": "code",
      "source": [
        "dev = qml.device(\"default.qubit\", wires=1)\n",
        "\n",
        "\n",
        "@qml.qnode(dev)\n",
        "def fake_z():\n",
        "    \"\"\"Use RZ to produce the same action as Pauli Z on the |+> state.\n",
        "\n",
        "    Returns:\n",
        "        np.array[complex]: The state of the qubit after the operations.\n",
        "    \"\"\"\n",
        "\n",
        "    # CREATE THE |+> STATE\n",
        "    qml.Hadamard(wires =0)\n",
        "\n",
        "    # APPLY RZ\n",
        "    qml.RZ(theta, wires = 0)\n",
        "\n",
        "    # RETURN THE STATE\n",
        "    return qml.state()\n",
        "\n",
        "theta = np.pi"
      ],
      "metadata": {
        "id": "VzXvMTwQKt7X"
      },
      "execution_count": null,
      "outputs": []
    },
    {
      "cell_type": "markdown",
      "source": [
        "*Codercise l.5.3* S, T Gates"
      ],
      "metadata": {
        "id": "SHRnO1B5NZcF"
      }
    },
    {
      "cell_type": "code",
      "source": [
        "dev = qml.device(\"default.qubit\", wires=1)\n",
        "\n",
        "\n",
        "@qml.qnode(dev)\n",
        "def many_rotations():\n",
        "    \"\"\"Implement the circuit depicted above and return the quantum state.\n",
        "\n",
        "    Returns:\n",
        "        np.array[complex]: The state of the qubit after the operations.\n",
        "    \"\"\"\n",
        "\n",
        "    # IMPLEMENT THE CIRCUIT\n",
        "\n",
        "\n",
        "    qml.Hadamard(wires=0)\n",
        "    qml.S(wires =0)\n",
        "    qml.adjoint(qml.T)(wires=0)\n",
        "    qml.RZ(0.3,wires =0)\n",
        "    qml.adjoint(qml.S)(wires=0)\n",
        "\n",
        "    # RETURN THE STATE\n",
        "\n",
        "    return qml.state()"
      ],
      "metadata": {
        "id": "04DMMRNSNZzg"
      },
      "execution_count": null,
      "outputs": []
    },
    {
      "cell_type": "markdown",
      "source": [
        "*Codercise l.6.1*"
      ],
      "metadata": {
        "id": "-0d-Kiv_XX64"
      }
    },
    {
      "cell_type": "code",
      "source": [
        "dev = qml.device(\"default.qubit\", wires=1)\n",
        "\n",
        "\n",
        "@qml.qnode(dev)\n",
        "def apply_rx_pi(state):\n",
        "    \"\"\"Apply an RX gate with an angle of \\pi to a particular basis state.\n",
        "\n",
        "    Args:\n",
        "        state (int): Either 0 or 1. If 1, initialize the qubit to state |1>\n",
        "            before applying other operations.\n",
        "\n",
        "    Returns:\n",
        "        np.array[complex]: The state of the qubit after the operations.\n",
        "    \"\"\"\n",
        "    if state == 1:\n",
        "        qml.PauliX(wires=0)\n",
        "\n",
        "    # APPLY RX(pi) AND RETURN THE STATE\n",
        "\n",
        "    qml.RX(theta, wires =0)\n",
        "\n",
        "    return qml.state()\n",
        "\n",
        "theta = np.pi\n",
        "\n",
        "print(apply_rx_pi(0))\n",
        "print(apply_rx_pi(1))"
      ],
      "metadata": {
        "colab": {
          "base_uri": "https://localhost:8080/"
        },
        "id": "zMf9yiyhXVut",
        "outputId": "b0b80ba7-52b4-4a6c-9049-6c02ca1a06bd"
      },
      "execution_count": null,
      "outputs": [
        {
          "output_type": "stream",
          "name": "stdout",
          "text": [
            "[6.123234e-17+0.j 0.000000e+00-1.j]\n",
            "[0.000000e+00-1.j 6.123234e-17+0.j]\n"
          ]
        }
      ]
    },
    {
      "cell_type": "markdown",
      "source": [
        "*Codercise l.6.2*"
      ],
      "metadata": {
        "id": "YS8q3jHwXint"
      }
    },
    {
      "cell_type": "code",
      "source": [
        "\n",
        "import matplotlib.pyplot as plt"
      ],
      "metadata": {
        "id": "twEHNtl_YHyK"
      },
      "execution_count": null,
      "outputs": []
    },
    {
      "cell_type": "code",
      "source": [
        "dev = qml.device(\"default.qubit\", wires=1)\n",
        "\n",
        "\n",
        "@qml.qnode(dev)\n",
        "def apply_rx(theta, state):\n",
        "    \"\"\"Apply an RX gate with an angle of theta to a particular basis state.\n",
        "\n",
        "    Args:\n",
        "        theta (float): A rotation angle.\n",
        "        state (int): Either 0 or 1. If 1, initialize the qubit to state |1>\n",
        "            before applying other operations.\n",
        "\n",
        "    Returns:\n",
        "        np.array[complex]: The state of the qubit after the operations.\n",
        "    \"\"\"\n",
        "    if state == 1:\n",
        "        qml.PauliX(wires=0)\n",
        "\n",
        "    # APPLY RX(theta) AND RETURN THE STATE\n",
        "    qml.RX(theta, wires =0)\n",
        "\n",
        "    return qml.state()\n",
        "\n",
        "#theta = np.pi\n",
        "\n",
        "\n",
        "\n",
        "# Code for plotting\n",
        "angles = np.linspace(0, 4 * np.pi, 200)\n",
        "output_states = np.array([apply_rx(t, 0) for t in angles])\n",
        "\n",
        "plt.plot(angles, output_states)"
      ],
      "metadata": {
        "colab": {
          "base_uri": "https://localhost:8080/",
          "height": 521
        },
        "id": "Vu-4LTknXnGs",
        "outputId": "0acdf22d-b096-4498-aaea-bab4528d76d4"
      },
      "execution_count": null,
      "outputs": [
        {
          "output_type": "stream",
          "name": "stderr",
          "text": [
            "/usr/local/lib/python3.10/dist-packages/matplotlib/cbook/__init__.py:1335: ComplexWarning: Casting complex values to real discards the imaginary part\n",
            "  return np.asarray(x, float)\n"
          ]
        },
        {
          "output_type": "execute_result",
          "data": {
            "text/plain": [
              "[<matplotlib.lines.Line2D at 0x7b3c5b1e5a50>,\n",
              " <matplotlib.lines.Line2D at 0x7b3c5b1e4fa0>]"
            ]
          },
          "metadata": {},
          "execution_count": 160
        },
        {
          "output_type": "display_data",
          "data": {
            "text/plain": [
              "<Figure size 640x480 with 1 Axes>"
            ],
            "image/png": "[encoded data removed]"
          },
          "metadata": {}
        }
      ]
    },
    {
      "cell_type": "markdown",
      "source": [
        "*Codercise l.6.3*"
      ],
      "metadata": {
        "id": "D4tDmg4ZXnbh"
      }
    },
    {
      "cell_type": "code",
      "source": [
        "dev = qml.device(\"default.qubit\", wires=1)\n",
        "\n",
        "\n",
        "@qml.qnode(dev)\n",
        "def apply_ry(theta, state):\n",
        "    \"\"\"Apply an RY gate with an angle of theta to a particular basis state.\n",
        "\n",
        "    Args:\n",
        "        theta (float): A rotation angle.\n",
        "        state (int): Either 0 or 1. If 1, initialize the qubit to state |1>\n",
        "            before applying other operations.\n",
        "\n",
        "    Returns:\n",
        "        np.array[complex]: The state of the qubit after the operations.\n",
        "    \"\"\"\n",
        "    if state == 1:\n",
        "        qml.PauliX(wires=0)\n",
        "\n",
        "\n",
        "    # APPLY RY(theta) AND RETURN THE STATE\n",
        "    qml.RY(theta, wires =0)\n",
        "\n",
        "    return qml.state()\n",
        "\n",
        "\n",
        "\n",
        "\n",
        "# Code for plotting\n",
        "angles = np.linspace(0, 4 * np.pi, 200)\n",
        "output_states = np.array([apply_ry(t, 0) for t in angles])\n",
        "\n",
        "plt.plot(angles, output_states)"
      ],
      "metadata": {
        "colab": {
          "base_uri": "https://localhost:8080/",
          "height": 466
        },
        "id": "4dP38xGRYj45",
        "outputId": "68234e03-cd3a-489a-81de-52a79a071485"
      },
      "execution_count": null,
      "outputs": [
        {
          "output_type": "execute_result",
          "data": {
            "text/plain": [
              "[<matplotlib.lines.Line2D at 0x7b3c5a295180>,\n",
              " <matplotlib.lines.Line2D at 0x7b3c5a2951e0>]"
            ]
          },
          "metadata": {},
          "execution_count": 161
        },
        {
          "output_type": "display_data",
          "data": {
            "text/plain": [
              "<Figure size 640x480 with 1 Axes>"
            ],
            "image/png": "[encoded data removed]"
          },
          "metadata": {}
        }
      ]
    },
    {
      "cell_type": "markdown",
      "source": [
        "*Codercise l.7.1* Universality of rotations"
      ],
      "metadata": {
        "id": "IXR1fG952V_V"
      }
    },
    {
      "cell_type": "code",
      "source": [
        "dev = qml.device(\"default.qubit\", wires=1)\n",
        "\n",
        "\n",
        "# ADJUST THE VALUES OF PHI, THETA, AND OMEGA\n",
        "phi, theta, omega = np.pi/2, np.pi/2, np.pi/2\n",
        "\n",
        "\n",
        "@qml.qnode(dev)\n",
        "def hadamard_with_rz_rx():\n",
        "    qml.RZ(phi, wires=0)\n",
        "    qml.RX(theta, wires=0)\n",
        "    qml.RZ(omega, wires=0)\n",
        "    return qml.state()"
      ],
      "metadata": {
        "id": "ihtjv2982gny"
      },
      "execution_count": null,
      "outputs": []
    },
    {
      "cell_type": "markdown",
      "source": [
        "*Codercise l.7.2*"
      ],
      "metadata": {
        "id": "0Tu5ZElZ9plf"
      }
    },
    {
      "cell_type": "code",
      "source": [
        "dev = qml.device(\"default.qubit\", wires=1)\n",
        "phi, theta, omega = np.pi/2, np.pi/2, np.pi/2\n",
        "\n",
        "@qml.qnode(dev)\n",
        "def convert_to_rz_rx():\n",
        "    # IMPLEMENT THE CIRCUIT IN THE PICTURE USING ONLY RZ AND RX\n",
        "    #H gate\n",
        "    qml.RZ(phi, wires=0)\n",
        "    qml.RX(theta, wires=0)\n",
        "    qml.RZ(omega, wires=0)\n",
        "\n",
        "    #S gate\n",
        "    qml.RZ(np.pi/2, wires=0)\n",
        "\n",
        "    #T gate\n",
        "    qml.RZ(-np.pi/4, wires=0)\n",
        "\n",
        "    #Y gate\n",
        "    qml.RZ(np.pi,  wires=0)\n",
        "    qml.RX(np.pi, wires=0)\n",
        "\n",
        "\n",
        "\n",
        "    return qml.state()"
      ],
      "metadata": {
        "id": "rwwjTjdX9uk5"
      },
      "execution_count": null,
      "outputs": []
    },
    {
      "cell_type": "markdown",
      "source": [
        "*Codercise l.7.3*"
      ],
      "metadata": {
        "id": "r9iRAljn-DFL"
      }
    },
    {
      "cell_type": "markdown",
      "source": [
        "Because in Hadamard gate we have 1/root 2 in denominator so from looking at that we can say that there are 3 H gate used in the circuit. From ie^ipi/4 we can see that to get a i, two Ts have been used together and for that single ipi/4 phase one T is used alone. so now we will form pairs\n",
        "\n",
        "HTTHTH\n",
        "HTHTTH\n",
        "\n",
        "The circuit has first gate as H not T so keeping this condition, we get the previous pairs. now let's try both pairs."
      ],
      "metadata": {
        "id": "OpnEgylsCb6I"
      }
    },
    {
      "cell_type": "code",
      "source": [
        "#pair #1 HTTHTH\n",
        "\n",
        "dev = qml.device(\"default.qubit\", wires=1)\n",
        "\n",
        "\n",
        "@qml.qnode(dev)\n",
        "def unitary_with_h_and_t():\n",
        "\n",
        "    # APPLY ONLY H AND T TO PRODUCE A CIRCUIT THAT EFFECTS THE GIVEN MATRIX\n",
        "    qml.Hadamard(wires =0)\n",
        "    qml.T(np.pi/4, wires =0)\n",
        "    qml.T(np.pi/4, wires =0)\n",
        "    qml.Hadamard(wires =0)\n",
        "    qml.T(np.pi/4, wires =0)\n",
        "    qml.Hadamard(wires =0)\n",
        "\n",
        "\n",
        "    return qml.state()\n",
        "\n",
        "#Error: Error: Your resulting output doesn't look quite right."
      ],
      "metadata": {
        "id": "pN2DFGgS-jMO"
      },
      "execution_count": null,
      "outputs": []
    },
    {
      "cell_type": "code",
      "source": [
        "#Pair #2 HTHTTH\n",
        "dev = qml.device(\"default.qubit\", wires=1)\n",
        "\n",
        "\n",
        "@qml.qnode(dev)\n",
        "def unitary_with_h_and_t():\n",
        "\n",
        "    # APPLY ONLY H AND T TO PRODUCE A CIRCUIT THAT EFFECTS THE GIVEN MATRIX\n",
        "    qml.Hadamard(wires =0)\n",
        "    qml.T(wires =0)\n",
        "    qml.Hadamard(wires =0)\n",
        "    qml.T(wires =0)\n",
        "    qml.T(wires =0)\n",
        "    qml.Hadamard(wires =0)\n",
        "\n",
        "\n",
        "    return qml.state()"
      ],
      "metadata": {
        "id": "JrkN1h5LD08l"
      },
      "execution_count": null,
      "outputs": []
    },
    {
      "cell_type": "markdown",
      "source": [
        "*Codercise l.8.1*"
      ],
      "metadata": {
        "id": "cQqG0YU8PHol"
      }
    },
    {
      "cell_type": "code",
      "source": [
        "dev = qml.device(\"default.qubit\", wires=1)\n",
        "\n",
        "\n",
        "@qml.qnode(dev)\n",
        "def prepare_state():\n",
        "\n",
        "    # APPLY OPERATIONS TO PREPARE THE TARGET STATE\n",
        "    qml.Hadamard(wires =0)\n",
        "    qml.T(wires =0)\n",
        "    qml.T(wires =0)\n",
        "    qml.T(wires =0)\n",
        "    qml.T(wires =0)\n",
        "    qml.T(wires =0)\n",
        "\n",
        "    return qml.state()"
      ],
      "metadata": {
        "id": "PkyE818LPLhu"
      },
      "execution_count": null,
      "outputs": []
    },
    {
      "cell_type": "markdown",
      "source": [
        "*Codercise l.8.2*"
      ],
      "metadata": {
        "id": "qM9DDu6TP_fm"
      }
    },
    {
      "cell_type": "code",
      "source": [
        "dev = qml.device(\"default.qubit\", wires=1)\n",
        "\n",
        "\n",
        "@qml.qnode(dev)\n",
        "def prepare_state():\n",
        "    #if state ==1:\n",
        "        #qml.PauliX(wires=0)\n",
        "\n",
        "\n",
        "\n",
        "    # APPLY OPERATIONS TO PREPARE THE TARGET STATE\n",
        "    qml.RX(np.pi/3, wires=0)\n",
        "\n",
        "    return qml.state()"
      ],
      "metadata": {
        "id": "d8RmP9S2P-xP"
      },
      "execution_count": null,
      "outputs": []
    },
    {
      "cell_type": "markdown",
      "source": [
        "*Codercise l.8.3* (State Preparation with Mottonen's Method)"
      ],
      "metadata": {
        "id": "ZKplHwDPQIU-"
      }
    },
    {
      "cell_type": "code",
      "source": [
        "v = np.array([0.52889389 - 0.14956775j, 0.67262317 + 0.49545818j])\n",
        "\n",
        "# CREATE A DEVICE\n",
        "dev = qml.device('default.qubit', wires=1)\n",
        "\n",
        "# CONSTRUCT A QNODE THAT USES qml.MottonenStatePreparation\n",
        "@qml.qnode(dev)\n",
        "\n",
        "# TO PREPARE A QUBIT IN STATE V, AND RETURN THE STATE\n",
        "\n",
        "\n",
        "def prepare_state(state=v):\n",
        "    qml.MottonenStatePreparation(v, wires =0)\n",
        "    return qml.state()\n",
        "\n",
        "\n",
        "# This will draw the quantum circuit and allow you to inspect the output gates\n",
        "print(prepare_state(v))\n",
        "print()\n",
        "print(qml.draw(prepare_state, expansion_strategy=\"device\")(v))\n"
      ],
      "metadata": {
        "colab": {
          "base_uri": "https://localhost:8080/"
        },
        "id": "zmA89HyrQIsq",
        "outputId": "a606db8f-b5a5-40b3-e1a8-7462ca770447"
      },
      "execution_count": null,
      "outputs": [
        {
          "output_type": "stream",
          "name": "stdout",
          "text": [
            "[0.52889389-0.14956775j 0.67262317+0.49545818j]\n",
            "\n",
            "0: ──RY(1.98)──RZ(0.91)──GlobalPhase(-0.18)─┤  State\n"
          ]
        }
      ]
    },
    {
      "cell_type": "markdown",
      "source": [
        "*Codercise l.9.1*"
      ],
      "metadata": {
        "id": "Vrs0Xes-UF9p"
      }
    },
    {
      "cell_type": "code",
      "source": [
        "dev = qml.device(\"default.qubit\", wires=1)\n",
        "\n",
        "\n",
        "@qml.qnode(dev)\n",
        "def apply_h_and_measure(state):\n",
        "    \"\"\"Complete the function such that we apply the Hadamard gate\n",
        "    and measure in the computational basis.\n",
        "\n",
        "    Args:\n",
        "        state (int): Either 0 or 1. If 1, prepare the qubit in state |1>,\n",
        "            otherwise leave it in state 0.\n",
        "\n",
        "    Returns:\n",
        "        np.array[float]: The measurement outcome probabilities.\n",
        "    \"\"\"\n",
        "    if state == 1:\n",
        "        qml.PauliX(wires=0)\n",
        "\n",
        "\n",
        "\n",
        "    # APPLY HADAMARD AND MEASURE\n",
        "\n",
        "    qml.Hadamard(wires =0)\n",
        "\n",
        "    return qml.probs(wires =0)\n",
        "\n",
        "\n",
        "print(apply_h_and_measure(0))\n",
        "print(apply_h_and_measure(1))"
      ],
      "metadata": {
        "colab": {
          "base_uri": "https://localhost:8080/"
        },
        "id": "NJfhofW1UI4H",
        "outputId": "e67ae06d-6e83-4406-a0c6-f899c1588e1b"
      },
      "execution_count": null,
      "outputs": [
        {
          "output_type": "stream",
          "name": "stdout",
          "text": [
            "[0.5 0.5]\n",
            "[0.5 0.5]\n"
          ]
        }
      ]
    },
    {
      "cell_type": "markdown",
      "source": [
        "*Codercise l.9.2*"
      ],
      "metadata": {
        "id": "GAlm7Q8aVzEh"
      }
    },
    {
      "cell_type": "code",
      "source": [
        "# WRITE A QUANTUM FUNCTION THAT PREPARES (1/2)|0> + i(sqrt(3)/2)|1>\n",
        "def prepare_psi():\n",
        "    qml.RX(-2*np.pi/3, wires =0)\n",
        "    pass\n",
        "\n",
        "\n",
        "# WRITE A QUANTUM FUNCTION THAT SENDS BOTH |0> TO |y_+> and |1> TO |y_->\n",
        "def y_basis_rotation():\n",
        "    qml.Hadamard(wires =0)\n",
        "    qml.S(wires=0)\n",
        "    pass\n"
      ],
      "metadata": {
        "id": "u81DheC5V2tm"
      },
      "execution_count": null,
      "outputs": []
    },
    {
      "cell_type": "markdown",
      "source": [
        "*Codercise l.9.3*"
      ],
      "metadata": {
        "id": "l9ludo1tZAE8"
      }
    },
    {
      "cell_type": "code",
      "source": [
        "dev = qml.device(\"default.qubit\", wires=1)\n",
        "\n",
        "\n",
        "@qml.qnode(dev)\n",
        "def measure_in_y_basis():\n",
        "\n",
        "    # PREPARE THE STATE\n",
        "    prepare_psi()\n",
        "\n",
        "    # PERFORM THE ROTATION BACK TO COMPUTATIONAL BASIS\n",
        "    qml.adjoint(qml.S)(wires=0) #rotation back\n",
        "    qml.Hadamard(wires=0) #computational basis\n",
        "\n",
        "\n",
        "\n",
        "    # RETURN THE MEASUREMENT OUTCOME PROBABILITIES\n",
        "\n",
        "    return qml.probs(wires=0)\n",
        "\n",
        "\n",
        "\n",
        "\n",
        "print(measure_in_y_basis())"
      ],
      "metadata": {
        "colab": {
          "base_uri": "https://localhost:8080/"
        },
        "id": "dB43GDEmaneR",
        "outputId": "ee864b0b-1e78-47d3-e57b-d9117e59a166"
      },
      "execution_count": null,
      "outputs": [
        {
          "output_type": "stream",
          "name": "stdout",
          "text": [
            "[0.9330127 0.0669873]\n"
          ]
        }
      ]
    },
    {
      "cell_type": "markdown",
      "source": [
        "*I.10.1*"
      ],
      "metadata": {
        "id": "8ZHZ108Xc2cq"
      }
    },
    {
      "cell_type": "code",
      "source": [
        "dev = qml.device(\"default.qubit\", wires=1)\n",
        "\n",
        "\n",
        "@qml.qnode(dev)\n",
        "def circuit():\n",
        "\n",
        "    # IMPLEMENT THE CIRCUIT IN THE PICTURE AND MEASURE PAULI Y\n",
        "    qml.RX(np.pi/4, wires =0)\n",
        "    qml.Hadamard(wires=0)\n",
        "    qml.PauliZ(wires=0)\n",
        "\n",
        "    return qml.expval(qml.PauliY(wires=0))\n",
        "\n",
        "\n",
        "print(circuit())"
      ],
      "metadata": {
        "colab": {
          "base_uri": "https://localhost:8080/"
        },
        "id": "VcH1M-xsbp5s",
        "outputId": "f1c23cc5-ccfd-4bd0-a12b-02d34ccce1f1"
      },
      "execution_count": null,
      "outputs": [
        {
          "output_type": "stream",
          "name": "stdout",
          "text": [
            "-0.7071067811865471\n"
          ]
        }
      ]
    },
    {
      "cell_type": "markdown",
      "source": [
        "*I.10.2*"
      ],
      "metadata": {
        "id": "27ODbu7IcO6E"
      }
    },
    {
      "cell_type": "code",
      "source": [
        "# An array to store your results\n",
        "shot_results = []\n",
        "\n",
        "# Different numbers of shots\n",
        "shot_values = [100, 1000, 10000, 100000, 1000000]\n",
        "\n",
        "for shots in shot_values:\n",
        "\n",
        "    # CREATE A DEVICE, CREATE A QNODE, AND RUN IT\n",
        "    dev = qml.device(\"default.qubit\", wires=1)\n",
        "\n",
        "    @qml.qnode(dev)\n",
        "    def circuit():\n",
        "\n",
        "    # IMPLEMENT THE CIRCUIT IN THE PICTURE AND MEASURE PAULI Y\n",
        "         qml.RX(np.pi/4, wires =0)\n",
        "         qml.Hadamard(wires=0)\n",
        "         qml.PauliZ(wires=0)\n",
        "\n",
        "         return qml.expval(qml.PauliY(wires=0))\n",
        "\n",
        "    # STORE RESULT IN SHOT_RESULTS ARRAY\n",
        "\n",
        "    shot_results.append(circuit())\n",
        "\n",
        "\n",
        "print(qml.math.unwrap(shot_results))\n"
      ],
      "metadata": {
        "colab": {
          "base_uri": "https://localhost:8080/"
        },
        "id": "GVVqlwYpcOWr",
        "outputId": "beef81c9-c58c-4ef2-81af-fc2f2377b1e2"
      },
      "execution_count": null,
      "outputs": [
        {
          "output_type": "stream",
          "name": "stdout",
          "text": [
            "[-0.7071067811865471, -0.7071067811865471, -0.7071067811865471, -0.7071067811865471, -0.7071067811865471]\n"
          ]
        }
      ]
    },
    {
      "cell_type": "markdown",
      "source": [
        "*I.10.3*"
      ],
      "metadata": {
        "id": "gAHxgxpHcRwY"
      }
    },
    {
      "cell_type": "code",
      "source": [
        "dev = qml.device(\"default.qubit\", wires=1, shots=100000)\n",
        "\n",
        "\n",
        "@qml.qnode(dev)\n",
        "def circuit():\n",
        "    qml.RX(np.pi / 4, wires=0)\n",
        "    qml.Hadamard(wires=0)\n",
        "    qml.PauliZ(wires=0)\n",
        "\n",
        "\n",
        "    # RETURN THE MEASUREMENT SAMPLES OF THE CORRECT OBSERVABLE\n",
        "\n",
        "    return qml.sample(qml.PauliY(wires=0))\n",
        "\n",
        "\n",
        "def compute_expval_from_samples(samples):\n",
        "    \"\"\"Compute the expectation value of an observable given a set of\n",
        "    sample outputs. You can assume that there are two possible outcomes,\n",
        "    1 and -1.\n",
        "\n",
        "    Args:\n",
        "        samples (np.array[float]): 100000 samples representing the results of\n",
        "            running the above circuit.\n",
        "\n",
        "    Returns:\n",
        "        float: the expectation value computed based on samples.\n",
        "    \"\"\"\n",
        "\n",
        "    estimated_expval = 0\n",
        "\n",
        "\n",
        "    # USE THE SAMPLES TO ESTIMATE THE EXPECTATION VALUE\n",
        "\n",
        "    estimated_expval =np.mean(samples)\n",
        "\n",
        "    return estimated_expval\n",
        "\n",
        "\n",
        "samples = circuit()\n",
        "print(compute_expval_from_samples(samples))"
      ],
      "metadata": {
        "colab": {
          "base_uri": "https://localhost:8080/"
        },
        "id": "VB6DAFThcSsR",
        "outputId": "657d06f8-8441-4449-88f9-408ee403ee15"
      },
      "execution_count": null,
      "outputs": [
        {
          "output_type": "stream",
          "name": "stdout",
          "text": [
            "-0.7076\n"
          ]
        }
      ]
    },
    {
      "cell_type": "markdown",
      "source": [
        "*I.10.4*"
      ],
      "metadata": {
        "id": "PSp9RiqXcS7X"
      }
    },
    {
      "cell_type": "code",
      "source": [
        "def variance_experiment(n_shots):\n",
        "    \"\"\"Run an experiment to determine the variance in an expectation\n",
        "    value computed with a given number of shots.\n",
        "\n",
        "    Args:\n",
        "        n_shots (int): The number of shots\n",
        "\n",
        "    Returns:\n",
        "        float: The variance in expectation value we obtain running the\n",
        "        circuit 100 times with n_shots shots each.\n",
        "    \"\"\"\n",
        "\n",
        "    # To obtain a variance, we run the circuit multiple times at each shot value.\n",
        "    n_trials = 100\n",
        "\n",
        "    ##################\n",
        "    # YOUR CODE HERE #\n",
        "    ##################\n",
        "\n",
        "    # CREATE A DEVICE WITH GIVEN NUMBER OF SHOTS\n",
        "    dev = qml.device(\"default.qubit\", wires=1, shots=n_shots)\n",
        "\n",
        "    # DECORATE THE CIRCUIT BELOW TO CREATE A QNODE\n",
        "    @qml.qnode(dev)\n",
        "\n",
        "    def circuit():\n",
        "        qml.Hadamard(wires=0)\n",
        "        return qml.expval(qml.PauliZ(wires=0))\n",
        "\n",
        "    # RUN THE QNODE N_TRIALS TIMES AND RETURN THE VARIANCE OF THE RESULTS\n",
        "    results = [circuit().numpy() for _ in range(n_trials)]\n",
        "    return np.var(results)\n",
        "\n",
        "\n",
        "\n",
        "def variance_scaling(n_shots):\n",
        "    \"\"\"Once you have determined how the variance in expectation value scales\n",
        "    with the number of shots, complete this function to programmatically\n",
        "    represent the relationship.\n",
        "\n",
        "    Args:\n",
        "        n_shots (int): The number of shots\n",
        "\n",
        "    Returns:\n",
        "        float: The variance in expectation value we expect to see when we run\n",
        "        an experiment with n_shots shots.\n",
        "    \"\"\"\n",
        "\n",
        "    estimated_variance = 0\n",
        "\n",
        "\n",
        "    # ESTIMATE THE VARIANCE BASED ON SHOT NUMBER\n",
        "\n",
        "    return 1/n_shots\n",
        "\n",
        "\n",
        "\n",
        "# Various numbers of shots; you can change this\n",
        "shot_vals = [10, 20, 40, 100, 200, 400, 1000, 2000, 4000]\n",
        "\n",
        "# Used to plot your results\n",
        "results_experiment = [variance_experiment(shots) for shots in shot_vals]\n",
        "results_scaling = [variance_scaling(shots) for shots in shot_vals]\n",
        "plt.plot(shot_vals, results_experiment, results_scaling)\n"
      ],
      "metadata": {
        "colab": {
          "base_uri": "https://localhost:8080/",
          "height": 466
        },
        "id": "C0iT2Hy4dtJ1",
        "outputId": "87447865-70a3-4046-d03d-5880758a6442"
      },
      "execution_count": null,
      "outputs": [
        {
          "output_type": "execute_result",
          "data": {
            "text/plain": [
              "[<matplotlib.lines.Line2D at 0x7b3c5a1191e0>,\n",
              " <matplotlib.lines.Line2D at 0x7b3c5a119240>]"
            ]
          },
          "metadata": {},
          "execution_count": 175
        },
        {
          "output_type": "display_data",
          "data": {
            "text/plain": [
              "<Figure size 640x480 with 1 Axes>"
            ],
            "image/png": "[encoded data removed]"
          },
          "metadata": {}
        }
      ]
    },
    {
      "cell_type": "markdown",
      "source": [
        "**Multi-Qubit Systems**"
      ],
      "metadata": {
        "id": "udcSQmGllsYl"
      }
    },
    {
      "cell_type": "markdown",
      "source": [
        "*I.11.1*"
      ],
      "metadata": {
        "id": "veQq7SmIl05V"
      }
    },
    {
      "cell_type": "code",
      "source": [
        "num_wires = 3\n",
        "dev = qml.device(\"default.qubit\", wires=num_wires)\n",
        "\n",
        "\n",
        "@qml.qnode(dev)\n",
        "def make_basis_state(basis_id):\n",
        "    \"\"\"Produce the 3-qubit basis state corresponding to |basis_id>.\n",
        "\n",
        "    Note that the system starts in |000>.\n",
        "\n",
        "    Args:\n",
        "        basis_id (int): An integer value identifying the basis state to construct.\n",
        "\n",
        "    Returns:\n",
        "        np.array[complex]: The computational basis state |basis_id>.\n",
        "    \"\"\"\n",
        "\n",
        "    # CREATE THE BASIS STATE\n",
        "\n",
        "    number = np.binary_repr(basis_id,width = 3)\n",
        "    if (number[0] == '1'):\n",
        "        qml.PauliX(wires=0)\n",
        "\n",
        "\n",
        "    if (number[1] == '1'):\n",
        "        qml.PauliX(wires=1)\n",
        "\n",
        "\n",
        "    if (number[2] == '1'):\n",
        "        qml.PauliX(wires=2)\n",
        "\n",
        "\n",
        "\n",
        "    # CREATE THE BASIS STATE\n",
        "\n",
        "    return qml.state()\n",
        "\n",
        "\n",
        "basis_id = 3\n",
        "print(f\"Output state = {make_basis_state(basis_id)}\")\n"
      ],
      "metadata": {
        "colab": {
          "base_uri": "https://localhost:8080/"
        },
        "id": "KyPgNRl2l4iE",
        "outputId": "3bfa1942-b815-4f1a-f3d9-9ff1bde97894"
      },
      "execution_count": null,
      "outputs": [
        {
          "output_type": "stream",
          "name": "stdout",
          "text": [
            "Output state = [0.+0.j 0.+0.j 0.+0.j 1.+0.j 0.+0.j 0.+0.j 0.+0.j 0.+0.j]\n"
          ]
        }
      ]
    },
    {
      "cell_type": "markdown",
      "source": [
        "*I.11.2*"
      ],
      "metadata": {
        "id": "I7CVJFa4MTEc"
      }
    },
    {
      "cell_type": "code",
      "source": [
        "# Creates a device with *two* qubits\n",
        "dev = qml.device(\"default.qubit\", wires=2)\n",
        "\n",
        "\n",
        "@qml.qnode(dev)\n",
        "def two_qubit_circuit():\n",
        "\n",
        "    # PREPARE |+>|1>\n",
        "    qml.Hadamard(wires=0)\n",
        "    qml.PauliX(wires=1)\n",
        "    # RETURN TWO EXPECTATION VALUES, Y ON FIRST QUBIT, Z ON SECOND QUBIT\n",
        "    return [qml.expval(qml.PauliY(wires=0)),qml.expval(qml.PauliZ(wires=1))]\n",
        "\n",
        "\n",
        "\n",
        "print(two_qubit_circuit())"
      ],
      "metadata": {
        "colab": {
          "base_uri": "https://localhost:8080/"
        },
        "id": "0P48qdSPMWQl",
        "outputId": "1a8a0388-0358-41c1-ebb4-498e26b8e859"
      },
      "execution_count": null,
      "outputs": [
        {
          "output_type": "stream",
          "name": "stdout",
          "text": [
            "[tensor(0., requires_grad=True), tensor(-1., requires_grad=True)]\n"
          ]
        }
      ]
    },
    {
      "cell_type": "markdown",
      "source": [
        "*I.11.3*"
      ],
      "metadata": {
        "id": "zSIgMCNVM8mf"
      }
    },
    {
      "cell_type": "code",
      "source": [
        "dev = qml.device(\"default.qubit\", wires=2)\n",
        "\n",
        "\n",
        "@qml.qnode(dev)\n",
        "def create_one_minus():\n",
        "\n",
        "    # PREPARE |1>|->\n",
        "    qml.PauliX(wires =0)\n",
        "    qml.PauliX(wires=1)\n",
        "    qml.Hadamard(wires=1)\n",
        "\n",
        "\n",
        "    # RETURN A SINGLE EXPECTATION VALUE Z \\otimes X\n",
        "\n",
        "    return qml.expval(qml.PauliZ(wires =0) @ qml.PauliX(wires =1))\n",
        "\n",
        "print(create_one_minus())"
      ],
      "metadata": {
        "colab": {
          "base_uri": "https://localhost:8080/"
        },
        "id": "CX4FGT6_M8_g",
        "outputId": "3b580360-d504-4f4c-d08c-94530cbbdd53"
      },
      "execution_count": null,
      "outputs": [
        {
          "output_type": "stream",
          "name": "stdout",
          "text": [
            "0.9999999999999996\n"
          ]
        }
      ]
    },
    {
      "cell_type": "markdown",
      "source": [
        "*I.11.4*"
      ],
      "metadata": {
        "id": "QDsINNzUNcpB"
      }
    },
    {
      "cell_type": "code",
      "source": [
        "dev = qml.device(\"default.qubit\", wires=2)\n",
        "\n",
        "\n",
        "@qml.qnode(dev)\n",
        "def circuit_1(theta):\n",
        "    \"\"\"Implement the circuit and measure Z I and I Z.\n",
        "\n",
        "    Args:\n",
        "        theta (float): a rotation angle.\n",
        "\n",
        "    Returns:\n",
        "        float, float: The expectation values of the observables Z I, and I Z\n",
        "    \"\"\"\n",
        "    qml.RX(theta, wires=0)\n",
        "    qml.RY(2*theta, wires=1)\n",
        "\n",
        "\n",
        "    return qml.expval(qml.PauliZ(wires =0)), qml.expval(qml.PauliZ(wires=1))\n",
        "\n",
        "\n",
        "\n",
        "@qml.qnode(dev)\n",
        "def circuit_2(theta):\n",
        "    \"\"\"Implement the circuit and measure Z Z.\n",
        "\n",
        "    Args:\n",
        "        theta (float): a rotation angle.\n",
        "\n",
        "    Returns:\n",
        "        float: The expectation value of the observable Z Z\n",
        "    \"\"\"\n",
        "    qml.RX(theta,wires=0)\n",
        "    qml.RY(2*theta, wires=1)\n",
        "\n",
        "    return qml.expval(qml.PauliZ(wires=0) @ qml.PauliZ(wires=1))\n",
        "\n",
        "\n",
        "def zi_iz_combination(ZI_results, IZ_results):\n",
        "    \"\"\"Implement a function that acts on the ZI and IZ results to\n",
        "    produce the ZZ results. How do you think they should combine?\n",
        "\n",
        "    Args:\n",
        "        ZI_results (np.array[float]): Results from the expectation value of\n",
        "            ZI in circuit_1.\n",
        "        IZ_results (np.array[float]): Results from the expectation value of\n",
        "            IZ in circuit_2.\n",
        "\n",
        "    Returns:\n",
        "        np.array[float]: A combination of ZI_results and IZ_results that\n",
        "        produces results equivalent to measuring ZZ.\n",
        "    \"\"\"\n",
        "\n",
        "    combined_results = np.zeros(len(ZI_results))\n",
        "\n",
        "\n",
        "    return ZI_results * IZ_results\n",
        "\n",
        "\n",
        "\n",
        "theta = np.linspace(0, 2 * np.pi, 100)\n",
        "\n",
        "# Run circuit 1, and process the results\n",
        "circuit_1_results = np.array([circuit_1(t) for t in theta])\n",
        "\n",
        "ZI_results = circuit_1_results[:, 0]\n",
        "IZ_results = circuit_1_results[:, 1]\n",
        "combined_results = zi_iz_combination(ZI_results, IZ_results)\n",
        "\n",
        "# Run circuit 2\n",
        "ZZ_results = np.array([circuit_2(t) for t in theta])\n",
        "\n",
        "# Plot your results\n",
        "plt.plot(theta, ZI_results, IZ_results, ZZ_results, combined_results)\n"
      ],
      "metadata": {
        "colab": {
          "base_uri": "https://localhost:8080/",
          "height": 484
        },
        "id": "hu1eeWbGNedt",
        "outputId": "15f42511-70e6-4f69-cd4d-99b52dfe8ab2"
      },
      "execution_count": null,
      "outputs": [
        {
          "output_type": "execute_result",
          "data": {
            "text/plain": [
              "[<matplotlib.lines.Line2D at 0x7b3c5a196140>,\n",
              " <matplotlib.lines.Line2D at 0x7b3c5a1961a0>,\n",
              " <matplotlib.lines.Line2D at 0x7b3c5a1961d0>]"
            ]
          },
          "metadata": {},
          "execution_count": 179
        },
        {
          "output_type": "display_data",
          "data": {
            "text/plain": [
              "<Figure size 640x480 with 1 Axes>"
            ],
            "image/png": "[encoded data removed]"
          },
          "metadata": {}
        }
      ]
    },
    {
      "cell_type": "markdown",
      "source": [
        "*Codercise I.12.1*"
      ],
      "metadata": {
        "id": "vMzvI98sTPV3"
      }
    },
    {
      "cell_type": "code",
      "source": [
        "num_wires = 2\n",
        "dev = qml.device(\"default.qubit\", wires=num_wires)\n",
        "\n",
        "\n",
        "@qml.qnode(dev)\n",
        "def apply_cnot(basis_id):\n",
        "    \"\"\"Apply a CNOT to |basis_id>.\n",
        "\n",
        "    Args:\n",
        "        basis_id (int): An integer value identifying the basis state to construct.\n",
        "\n",
        "    Returns:\n",
        "        np.array[complex]: The resulting state after applying CNOT|basis_id>.\n",
        "    \"\"\"\n",
        "\n",
        "    # Prepare the basis state |basis_id>\n",
        "    bits = [int(x) for x in np.binary_repr(basis_id, width=num_wires)]\n",
        "    qml.BasisStatePreparation(bits, wires=[0, 1])\n",
        "\n",
        "    # APPLY THE CNOT\n",
        "\n",
        "    qml.CNOT(wires =[0,1])\n",
        "\n",
        "    return qml.state()\n",
        "\n",
        "# REPLACE THE BIT STRINGS VALUES BELOW WITH THE CORRECT ONES\n",
        "cnot_truth_table = {\"00\": \"00\", \"01\": \"01\", \"10\": \"11\", \"11\": \"10\"}\n",
        "\n",
        "\n",
        "# Run your QNode with various inputs to help fill in your truth table\n",
        "print(apply_cnot(0))"
      ],
      "metadata": {
        "colab": {
          "base_uri": "https://localhost:8080/"
        },
        "id": "e5gkKxozTUwO",
        "outputId": "b7c61147-974c-463c-8284-8ebc4b36def1"
      },
      "execution_count": null,
      "outputs": [
        {
          "output_type": "stream",
          "name": "stdout",
          "text": [
            "[1.+0.j 0.+0.j 0.+0.j 0.+0.j]\n"
          ]
        }
      ]
    },
    {
      "cell_type": "markdown",
      "source": [
        "*Codercise I.12.2*"
      ],
      "metadata": {
        "id": "oz5TW3FPTVAF"
      }
    },
    {
      "cell_type": "code",
      "source": [
        "dev = qml.device(\"default.qubit\", wires=2)\n",
        "\n",
        "\n",
        "@qml.qnode(dev)\n",
        "def apply_h_cnot():\n",
        "\n",
        "    # APPLY THE OPERATIONS IN THE CIRCUIT\n",
        "    qml.Hadamard(wires=0)\n",
        "    qml.CNOT(wires=[0,1])\n",
        "\n",
        "    return qml.state()\n",
        "\n",
        "\n",
        "print(apply_h_cnot())\n",
        "\n",
        "\n",
        "# SET THIS AS 'separable' OR 'entangled' BASED ON YOUR OUTCOME\n",
        "state_status = \"entangled\""
      ],
      "metadata": {
        "colab": {
          "base_uri": "https://localhost:8080/"
        },
        "id": "zCnWLPEETaZa",
        "outputId": "4d8af971-a5d7-440c-ddc3-f82da71c82e0"
      },
      "execution_count": null,
      "outputs": [
        {
          "output_type": "stream",
          "name": "stdout",
          "text": [
            "[0.70710678+0.j 0.        +0.j 0.        +0.j 0.70710678+0.j]\n"
          ]
        }
      ]
    },
    {
      "cell_type": "markdown",
      "source": [
        "*Codercise I.12.3*"
      ],
      "metadata": {
        "id": "he0VZ7ErTap1"
      }
    },
    {
      "cell_type": "code",
      "source": [
        "dev = qml.device(\"default.qubit\", wires=3)\n",
        "\n",
        "\n",
        "@qml.qnode(dev)\n",
        "def controlled_rotations(theta, phi, omega):\n",
        "    \"\"\"Implement the circuit above and return measurement outcome probabilities.\n",
        "\n",
        "    Args:\n",
        "        theta (float): A rotation angle\n",
        "        phi (float): A rotation angle\n",
        "        omega (float): A rotation angle\n",
        "\n",
        "    Returns:\n",
        "        np.array[float]: Measurement outcome probabilities of the 3-qubit\n",
        "        computational basis states.\n",
        "    \"\"\"\n",
        "\n",
        "    # APPLY THE OPERATIONS IN THE CIRCUIT AND RETURN MEASUREMENT PROBABILITIES\n",
        "    qml.Hadamard(wires=0)\n",
        "    qml.CRX(theta, wires=[0,1])\n",
        "    qml.CRY(phi, wires =[1,2])\n",
        "    qml.CRZ(omega, wires=[2,0])\n",
        "    return qml.probs(wires=[0,1,2])\n",
        "\n",
        "\n",
        "theta, phi, omega = 0.1, 0.2, 0.3\n",
        "print(controlled_rotations(theta, phi, omega))"
      ],
      "metadata": {
        "colab": {
          "base_uri": "https://localhost:8080/"
        },
        "id": "xtsDMdvXTeyr",
        "outputId": "5a89a502-f6ef-493e-bf2f-c81ff2b78198"
      },
      "execution_count": null,
      "outputs": [
        {
          "output_type": "stream",
          "name": "stdout",
          "text": [
            "[5.00000000e-01 0.00000000e+00 0.00000000e+00 0.00000000e+00\n",
            " 4.98751041e-01 0.00000000e+00 1.23651067e-03 1.24480103e-05]\n"
          ]
        }
      ]
    },
    {
      "cell_type": "markdown",
      "source": [
        "*Codercise I.13.1* The imposter CZ gate"
      ],
      "metadata": {
        "id": "_IdqNfkIZhB5"
      }
    },
    {
      "cell_type": "code",
      "source": [
        "def prepare_states(phi, theta, omega):\n",
        "    qml.RX(phi, wires=0)\n",
        "    qml.RY(theta, wires=0)\n",
        "    qml.RZ(omega, wires=0)"
      ],
      "metadata": {
        "id": "mM3ylEW5Bs52"
      },
      "execution_count": 195,
      "outputs": []
    },
    {
      "cell_type": "code",
      "source": [
        "dev = qml.device(\"default.qubit\", wires=2)\n",
        "\n",
        "# Prepare a two-qubit state; change up the angles if you like\n",
        "phi, theta, omega = 1.2, 2.3, 3.4\n",
        "\n",
        "\n",
        "@qml.qnode(device=dev)\n",
        "\n",
        "\n",
        "\n",
        "\n",
        "def true_cz(phi, theta, omega):\n",
        "    prepare_states(phi, theta, omega)\n",
        "\n",
        "    # IMPLEMENT THE REGULAR CZ GATE HERE\n",
        "    qml.CZ(wires=[0,1])\n",
        "\n",
        "    return qml.state()\n",
        "\n",
        "\n",
        "@qml.qnode(dev)\n",
        "def imposter_cz(phi, theta, omega):\n",
        "    prepare_states(phi, theta, omega)\n",
        "\n",
        "\n",
        "    # IMPLEMENT CZ USING ONLY H AND CNOT\n",
        "\n",
        "    qml.Hadamard(wires=1)\n",
        "    qml.CNOT(wires=[0,1])\n",
        "    qml.Hadamard(wires=1)\n",
        "\n",
        "    return qml.state()\n",
        "\n",
        "\n",
        "print(f\"True CZ output state {true_cz(phi, theta, omega)}\")\n",
        "print(f\"Imposter CZ output state {imposter_cz(phi, theta, omega)}\")"
      ],
      "metadata": {
        "colab": {
          "base_uri": "https://localhost:8080/"
        },
        "id": "HXlDVrjvZhbD",
        "outputId": "17b74dd8-8cb9-4a50-c0f6-dd758736b87c"
      },
      "execution_count": 196,
      "outputs": [
        {
          "output_type": "stream",
          "name": "stdout",
          "text": [
            "True CZ output state [0.46765092-0.40073367j 0.        +0.j         0.13166358+0.77677528j\n",
            " 0.        +0.j        ]\n",
            "Imposter CZ output state [0.46765092-0.40073367j 0.        +0.j         0.13166358+0.77677528j\n",
            " 0.        +0.j        ]\n"
          ]
        }
      ]
    },
    {
      "cell_type": "markdown",
      "source": [
        "*Codercise I.13.2* The SWAP Gate"
      ],
      "metadata": {
        "id": "tGegOhO8ZvCa"
      }
    },
    {
      "cell_type": "code",
      "source": [
        "dev = qml.device(\"default.qubit\", wires=2)\n",
        "\n",
        "# Prepare a two-qubit state; change up the angles if you like\n",
        "phi, theta, omega = 1.2, 2.3, 3.4\n",
        "\n",
        "\n",
        "@qml.qnode(dev)\n",
        "def apply_swap(phi, theta, omega):\n",
        "    prepare_states(phi, theta, omega)\n",
        "\n",
        "    # IMPLEMENT THE REGULAR SWAP GATE HERE\n",
        "    qml.SWAP(wires=[0,1])\n",
        "\n",
        "    return qml.state()\n",
        "\n",
        "\n",
        "@qml.qnode(dev)\n",
        "def apply_swap_with_cnots(phi, theta, omega):\n",
        "    prepare_states(phi, theta, omega)\n",
        "\n",
        "    # IMPLEMENT THE SWAP GATE USING A SEQUENCE OF CNOTS\n",
        "    qml.CNOT(wires=[0,1])\n",
        "    qml.CNOT(wires=[1,0])\n",
        "    qml.CNOT(wires=[0,1])\n",
        "    return qml.state()\n",
        "\n",
        "\n",
        "print(f\"Regular SWAP state = {apply_swap(phi, theta, omega)}\")\n",
        "print(f\"CNOT SWAP state = {apply_swap_with_cnots(phi, theta, omega)}\")\n"
      ],
      "metadata": {
        "id": "dh_3fHcrZ1X5",
        "colab": {
          "base_uri": "https://localhost:8080/"
        },
        "outputId": "e1ca04a2-4cfe-4907-c981-3a6afe79661c"
      },
      "execution_count": 197,
      "outputs": [
        {
          "output_type": "stream",
          "name": "stdout",
          "text": [
            "Regular SWAP state = [0.46765092-0.40073367j 0.13166358+0.77677528j 0.        +0.j\n",
            " 0.        +0.j        ]\n",
            "CNOT SWAP state = [0.46765092-0.40073367j 0.13166358+0.77677528j 0.        +0.j\n",
            " 0.        +0.j        ]\n"
          ]
        }
      ]
    },
    {
      "cell_type": "markdown",
      "source": [
        "*Codercise I.13.3*"
      ],
      "metadata": {
        "id": "TFjUV6R_B0am"
      }
    },
    {
      "cell_type": "code",
      "source": [
        "dev = qml.device(\"default.qubit\", wires=3)\n",
        "\n",
        "# Prepare first qubit in |1>, and arbitrary states on the second two qubits\n",
        "phi, theta, omega = 1.2, 2.3, 3.4\n",
        "\n",
        "\n",
        "# A helper function just so you can visualize the initial state\n",
        "# before the controlled SWAP occurs.\n",
        "@qml.qnode(dev)\n",
        "def no_swap(phi, theta, omega):\n",
        "    prepare_states(phi, theta, omega)\n",
        "    return qml.state()\n",
        "\n",
        "\n",
        "@qml.qnode(dev)\n",
        "def controlled_swap(phi, theta, omega):\n",
        "    prepare_states(phi, theta, omega)\n",
        "\n",
        "    # PERFORM A CONTROLLED SWAP USING A SEQUENCE OF TOFFOLIS\n",
        "    qml.Toffoli(wires=[0,2,1])\n",
        "    qml.Toffoli(wires=[0,1,2])\n",
        "    qml.Toffoli(wires=[0,2,1])\n",
        "\n",
        "    return qml.state()\n",
        "\n",
        "\n",
        "print(no_swap(phi, theta, omega))\n",
        "print(controlled_swap(phi, theta, omega))"
      ],
      "metadata": {
        "colab": {
          "base_uri": "https://localhost:8080/"
        },
        "id": "xlG7eV_VB4kL",
        "outputId": "190f418c-0140-4949-8b77-2361d7769805"
      },
      "execution_count": 194,
      "outputs": [
        {
          "output_type": "stream",
          "name": "stdout",
          "text": [
            "[ 0.05810991-0.37480694j  0.        +0.j          0.37285261+0.31049765j\n",
            "  0.        +0.j          0.37285261+0.31049765j  0.        +0.j\n",
            " -0.58604454+0.20454603j  0.        +0.j        ]\n",
            "[ 0.05810991-0.37480694j  0.        +0.j          0.37285261+0.31049765j\n",
            "  0.        +0.j          0.37285261+0.31049765j -0.58604454+0.20454603j\n",
            "  0.        +0.j          0.        +0.j        ]\n"
          ]
        }
      ]
    },
    {
      "cell_type": "markdown",
      "source": [
        "*Codercise I.13.4*"
      ],
      "metadata": {
        "id": "bzPDWQcNB8fU"
      }
    },
    {
      "cell_type": "code",
      "source": [
        "dev = qml.device(\"default.qubit\", wires=4)\n",
        "\n",
        "\n",
        "@qml.qnode(dev)\n",
        "def four_qubit_mcx():\n",
        "\n",
        "    # IMPLEMENT THE CIRCUIT ABOVE USING A 4-QUBIT MULTI-CONTROLLED X\n",
        "    qml.Hadamard(wires=0)\n",
        "    qml.Hadamard(wires=1)\n",
        "    qml.Hadamard(wires=2)\n",
        "    qml.MultiControlledX(control_wires=[0, 1, 2], wires=3, control_values=\"001\")\n",
        "    return qml.state()\n",
        "\n",
        "\n",
        "print(four_qubit_mcx())"
      ],
      "metadata": {
        "colab": {
          "base_uri": "https://localhost:8080/"
        },
        "id": "KG3ggEZwCB_u",
        "outputId": "78349235-ed9d-4a50-c6dc-b816b16366e7"
      },
      "execution_count": 198,
      "outputs": [
        {
          "output_type": "stream",
          "name": "stdout",
          "text": [
            "[0.35355339+0.j 0.        +0.j 0.        +0.j 0.35355339+0.j\n",
            " 0.35355339+0.j 0.        +0.j 0.35355339+0.j 0.        +0.j\n",
            " 0.35355339+0.j 0.        +0.j 0.35355339+0.j 0.        +0.j\n",
            " 0.35355339+0.j 0.        +0.j 0.35355339+0.j 0.        +0.j]\n"
          ]
        },
        {
          "output_type": "stream",
          "name": "stderr",
          "text": [
            "/usr/local/lib/python3.10/dist-packages/pennylane/ops/op_math/controlled_ops.py:1045: PennyLaneDeprecationWarning: Specifying control values using a bitstring is deprecated, and will not be supported in future releases, Use a list of booleans or integers instead.\n",
            "  warnings.warn(\n",
            "/usr/local/lib/python3.10/dist-packages/pennylane/ops/op_math/controlled_ops.py:1051: UserWarning: The control_wires keyword for MultiControlledX is deprecated, and will be removed soon. Use wires = (*control_wires, target_wire) instead.\n",
            "  warnings.warn(\n"
          ]
        }
      ]
    },
    {
      "cell_type": "markdown",
      "source": [
        "*Codercise I.13.5*"
      ],
      "metadata": {
        "id": "YpDetVjSCurh"
      }
    },
    {
      "cell_type": "code",
      "source": [
        "# Wires 0, 1, 2 are the control qubits\n",
        "# Wire 3 is the auxiliary qubit\n",
        "# Wire 4 is the target\n",
        "dev = qml.device(\"default.qubit\", wires=5)\n",
        "\n",
        "\n",
        "@qml.qnode(dev)\n",
        "def four_qubit_mcx_only_tofs():\n",
        "    # We will initialize the control qubits in state |1> so you can see\n",
        "    # how the output state gets changed.\n",
        "    qml.PauliX(wires=0)\n",
        "    qml.PauliX(wires=1)\n",
        "    qml.PauliX(wires=2)\n",
        "\n",
        "\n",
        "    # IMPLEMENT A 3-CONTROLLED NOT WITH TOFFOLIS\n",
        "\n",
        "    qml.Toffoli(wires=[0,1,3])\n",
        "    qml.Toffoli(wires=[2,3,4])\n",
        "    qml.Toffoli(wires=[0,1,3])\n",
        "    return qml.state()\n",
        "\n",
        "\n",
        "\n",
        "# print(four_qubit_mcx_only_tofs())\n"
      ],
      "metadata": {
        "id": "fIod085UCu9P"
      },
      "execution_count": 199,
      "outputs": []
    },
    {
      "cell_type": "markdown",
      "source": [
        "*Codercise I.14.1*"
      ],
      "metadata": {
        "id": "LvsCaVfCyLKC"
      }
    },
    {
      "cell_type": "code",
      "source": [
        "dev = qml.device(\"default.qubit\", wires=2)\n",
        "\n",
        "# Starting from the state |00>, implement a PennyLane circuit\n",
        "# to construct each of the Bell basis states.\n",
        "\n",
        "\n",
        "@qml.qnode(dev)\n",
        "def prepare_psi_plus():\n",
        "\n",
        "    # PREPARE (1/sqrt(2)) (|00> + |11>)\n",
        "    qml.Hadamard(wires=0)\n",
        "    qml.CNOT(wires=[0,1])\n",
        "\n",
        "    return qml.state()\n",
        "\n",
        "\n",
        "@qml.qnode(dev)\n",
        "def prepare_psi_minus():\n",
        "\n",
        "    # PREPARE (1/sqrt(2)) (|00> - |11>)\n",
        "    qml.PauliX(wires=0)\n",
        "    qml.Hadamard(wires=0)\n",
        "    qml.CNOT(wires=[0,1])\n",
        "\n",
        "    return qml.state()\n",
        "\n",
        "\n",
        "@qml.qnode(dev)\n",
        "def prepare_phi_plus():\n",
        "    qml.PauliX(wires=1)\n",
        "    qml.Hadamard(wires=0)\n",
        "    qml.CNOT(wires=[0,1])\n",
        "\n",
        "    # PREPARE  (1/sqrt(2)) (|01> + |10>)\n",
        "\n",
        "    return qml.state()\n",
        "\n",
        "\n",
        "@qml.qnode(dev)\n",
        "def prepare_phi_minus():\n",
        "    qml.PauliX(wires=0)\n",
        "    qml.PauliX(wires=1)\n",
        "    qml.Hadamard(wires=0)\n",
        "    qml.CNOT(wires=[0,1])\n",
        "\n",
        "    # PREPARE  (1/sqrt(2)) (|01> - |10>)\n",
        "\n",
        "    return qml.state()\n",
        "\n",
        "\n",
        "psi_plus = prepare_psi_plus()\n",
        "psi_minus = prepare_psi_minus()\n",
        "phi_plus = prepare_phi_plus()\n",
        "phi_minus = prepare_phi_minus()\n",
        "\n",
        "# Uncomment to print results\n",
        "print(f\"|ψ_+> = {psi_plus}\")\n",
        "print(f\"|ψ_-> = {psi_minus}\")\n",
        "print(f\"|ϕ_+> = {phi_plus}\")\n",
        "print(f\"|ϕ_-> = {phi_minus}\")\n"
      ],
      "metadata": {
        "colab": {
          "base_uri": "https://localhost:8080/"
        },
        "id": "t_iWRupbyPai",
        "outputId": "e0e293ed-2b71-4a7e-833e-b94d2d4058a0"
      },
      "execution_count": 188,
      "outputs": [
        {
          "output_type": "stream",
          "name": "stdout",
          "text": [
            "|ψ_+> = [0.70710678+0.j 0.        +0.j 0.        +0.j 0.70710678+0.j]\n",
            "|ψ_-> = [ 0.70710678+0.j  0.        +0.j  0.        +0.j -0.70710678+0.j]\n",
            "|ϕ_+> = [0.        +0.j 0.70710678+0.j 0.70710678+0.j 0.        +0.j]\n",
            "|ϕ_-> = [ 0.        +0.j  0.70710678+0.j -0.70710678+0.j  0.        +0.j]\n"
          ]
        }
      ]
    },
    {
      "cell_type": "markdown",
      "source": [
        "*Codercise I.14.2*"
      ],
      "metadata": {
        "id": "e6fUpQ54yXLG"
      }
    },
    {
      "cell_type": "code",
      "source": [
        "dev = qml.device(\"default.qubit\", wires=3)\n",
        "\n",
        "# State of first 2 qubits\n",
        "state = [0, 1]\n",
        "\n",
        "\n",
        "@qml.qnode(device=dev)\n",
        "def apply_control_sequence(state):\n",
        "    # Set up initial state of the first two qubits\n",
        "    if state[0] == 1:\n",
        "        qml.PauliX(wires=0)\n",
        "    if state[1] == 1:\n",
        "        qml.PauliX(wires=1)\n",
        "\n",
        "    # Set up initial state of the third qubit - use |->\n",
        "    # so we can see the effect on the output\n",
        "    qml.PauliX(wires=2)\n",
        "    qml.Hadamard(wires=2)\n",
        "\n",
        "    ##################\n",
        "    # YOUR CODE HERE #\n",
        "    ##################\n",
        "\n",
        "    # IMPLEMENT THE MULTIPLEXER\n",
        "    # IF STATE OF FIRST TWO QUBITS IS 01, APPLY X TO THIRD QUBIT\n",
        "    if state[0]== 0 and state [1]==1:\n",
        "        qml.PauliX(wires=2)\n",
        "\n",
        "    # IF STATE OF FIRST TWO QUBITS IS 10, APPLY Z TO THIRD QUBIT\n",
        "    if state[0]== 1 and state [1]==0:\n",
        "        qml.PauliZ(wires=2)\n",
        "    # IF STATE OF FIRST TWO QUBITS IS 11, APPLY Y TO THIRD QUBIT\n",
        "    if state[0]== 1 and state [1]==1:\n",
        "        qml.PauliY(wires=2)\n",
        "    return qml.state()\n",
        "\n",
        "\n",
        "print(apply_control_sequence(state))"
      ],
      "metadata": {
        "colab": {
          "base_uri": "https://localhost:8080/"
        },
        "id": "viQtR3CBybEb",
        "outputId": "8c1c69d4-0742-4047-e76a-7186ec0c6569"
      },
      "execution_count": 189,
      "outputs": [
        {
          "output_type": "stream",
          "name": "stdout",
          "text": [
            "[ 0.        +0.j  0.        +0.j -0.70710678+0.j  0.70710678+0.j\n",
            "  0.        +0.j  0.        +0.j  0.        +0.j  0.        +0.j]\n"
          ]
        }
      ]
    }
  ]
}