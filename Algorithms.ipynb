{
  "nbformat": 4,
  "nbformat_minor": 0,
  "metadata": {
    "colab": {
      "provenance": [],
      "authorship_tag": "ABX9TyMiPFmH3dlybGXM1mx3B61y",
      "include_colab_link": true
    },
    "kernelspec": {
      "name": "python3",
      "display_name": "Python 3"
    },
    "language_info": {
      "name": "python"
    }
  },
  "cells": [
    {
      "cell_type": "markdown",
      "metadata": {
        "id": "view-in-github",
        "colab_type": "text"
      },
      "source": [
        "<a href=\"https://colab.research.google.com/github/shreyasat27/pennylane-27524/blob/main/Algorithms.ipynb\" target=\"_parent\"><img src=\"https://colab.research.google.com/assets/colab-badge.svg\" alt=\"Open In Colab\"/></a>"
      ]
    },
    {
      "cell_type": "code",
      "execution_count": 1,
      "metadata": {
        "colab": {
          "base_uri": "https://localhost:8080/"
        },
        "id": "-JmY9H5xUpSO",
        "outputId": "b7b43245-b6e8-462c-c00c-c27f27800760"
      },
      "outputs": [
        {
          "output_type": "stream",
          "name": "stdout",
          "text": [
            "Collecting pennylane\n",
            "  Downloading PennyLane-0.36.0-py3-none-any.whl (1.7 MB)\n",
            "\u001b[2K     \u001b[90m━━━━━━━━━━━━━━━━━━━━━━━━━━━━━━━━━━━━━━━━\u001b[0m \u001b[32m1.7/1.7 MB\u001b[0m \u001b[31m10.3 MB/s\u001b[0m eta \u001b[36m0:00:00\u001b[0m\n",
            "\u001b[?25hRequirement already satisfied: numpy<2.0 in /usr/local/lib/python3.10/dist-packages (from pennylane) (1.25.2)\n",
            "Requirement already satisfied: scipy in /usr/local/lib/python3.10/dist-packages (from pennylane) (1.11.4)\n",
            "Requirement already satisfied: networkx in /usr/local/lib/python3.10/dist-packages (from pennylane) (3.3)\n",
            "Collecting rustworkx (from pennylane)\n",
            "  Downloading rustworkx-0.14.2-cp310-cp310-manylinux_2_17_x86_64.manylinux2014_x86_64.whl (2.1 MB)\n",
            "\u001b[2K     \u001b[90m━━━━━━━━━━━━━━━━━━━━━━━━━━━━━━━━━━━━━━━━\u001b[0m \u001b[32m2.1/2.1 MB\u001b[0m \u001b[31m21.2 MB/s\u001b[0m eta \u001b[36m0:00:00\u001b[0m\n",
            "\u001b[?25hRequirement already satisfied: autograd in /usr/local/lib/python3.10/dist-packages (from pennylane) (1.6.2)\n",
            "Requirement already satisfied: toml in /usr/local/lib/python3.10/dist-packages (from pennylane) (0.10.2)\n",
            "Collecting appdirs (from pennylane)\n",
            "  Downloading appdirs-1.4.4-py2.py3-none-any.whl (9.6 kB)\n",
            "Collecting semantic-version>=2.7 (from pennylane)\n",
            "  Downloading semantic_version-2.10.0-py2.py3-none-any.whl (15 kB)\n",
            "Collecting autoray>=0.6.1 (from pennylane)\n",
            "  Downloading autoray-0.6.12-py3-none-any.whl (50 kB)\n",
            "\u001b[2K     \u001b[90m━━━━━━━━━━━━━━━━━━━━━━━━━━━━━━━━━━━━━━━━\u001b[0m \u001b[32m51.0/51.0 kB\u001b[0m \u001b[31m5.7 MB/s\u001b[0m eta \u001b[36m0:00:00\u001b[0m\n",
            "\u001b[?25hRequirement already satisfied: cachetools in /usr/local/lib/python3.10/dist-packages (from pennylane) (5.3.3)\n",
            "Collecting pennylane-lightning>=0.36 (from pennylane)\n",
            "  Downloading PennyLane_Lightning-0.36.0-cp310-cp310-manylinux_2_17_x86_64.manylinux2014_x86_64.whl (19.1 MB)\n",
            "\u001b[2K     \u001b[90m━━━━━━━━━━━━━━━━━━━━━━━━━━━━━━━━━━━━━━━━\u001b[0m \u001b[32m19.1/19.1 MB\u001b[0m \u001b[31m49.9 MB/s\u001b[0m eta \u001b[36m0:00:00\u001b[0m\n",
            "\u001b[?25hRequirement already satisfied: requests in /usr/local/lib/python3.10/dist-packages (from pennylane) (2.31.0)\n",
            "Requirement already satisfied: typing-extensions in /usr/local/lib/python3.10/dist-packages (from pennylane) (4.12.1)\n",
            "Requirement already satisfied: future>=0.15.2 in /usr/local/lib/python3.10/dist-packages (from autograd->pennylane) (0.18.3)\n",
            "Requirement already satisfied: charset-normalizer<4,>=2 in /usr/local/lib/python3.10/dist-packages (from requests->pennylane) (3.3.2)\n",
            "Requirement already satisfied: idna<4,>=2.5 in /usr/local/lib/python3.10/dist-packages (from requests->pennylane) (3.7)\n",
            "Requirement already satisfied: urllib3<3,>=1.21.1 in /usr/local/lib/python3.10/dist-packages (from requests->pennylane) (2.0.7)\n",
            "Requirement already satisfied: certifi>=2017.4.17 in /usr/local/lib/python3.10/dist-packages (from requests->pennylane) (2024.6.2)\n",
            "Installing collected packages: appdirs, semantic-version, rustworkx, autoray, pennylane-lightning, pennylane\n",
            "Successfully installed appdirs-1.4.4 autoray-0.6.12 pennylane-0.36.0 pennylane-lightning-0.36.0 rustworkx-0.14.2 semantic-version-2.10.0\n"
          ]
        }
      ],
      "source": [
        "!pip install pennylane"
      ]
    },
    {
      "cell_type": "code",
      "source": [
        "import pennylane as qml\n",
        "import numpy as np"
      ],
      "metadata": {
        "id": "87yvuut1U-Ql"
      },
      "execution_count": 2,
      "outputs": []
    },
    {
      "cell_type": "markdown",
      "source": [
        "No Exponential Magic"
      ],
      "metadata": {
        "id": "BRLJNNv0VDgh"
      }
    },
    {
      "cell_type": "code",
      "source": [
        "n_bits = 4\n",
        "dev = qml.device(\"default.qubit\", wires=n_bits)\n",
        "\n",
        "@qml.qnode(dev)\n",
        "def naive_circuit():\n",
        "    \"\"\"Create a uniform superposition and return the probabilities.\n",
        "\n",
        "    Returns:\n",
        "        array[float]: Probabilities for observing different outcomes.\n",
        "    \"\"\"\n",
        "    for wire in range(n_bits):\n",
        "\n",
        "        qml.Hadamard(wires=wire)\n",
        "\n",
        "    return qml.probs(wires=range(n_bits))"
      ],
      "metadata": {
        "id": "T1h67OZsVCp1"
      },
      "execution_count": 3,
      "outputs": []
    },
    {
      "cell_type": "markdown",
      "source": [
        "The Magic 8-Ball"
      ],
      "metadata": {
        "id": "VR__RKV9VX4r"
      }
    },
    {
      "cell_type": "markdown",
      "source": [
        "The matrix form of the oracle"
      ],
      "metadata": {
        "id": "xYZSfqOIVaRk"
      }
    },
    {
      "cell_type": "code",
      "source": [
        "def oracle_matrix(combo):\n",
        "    \"\"\"Return the oracle matrix for a secret combination.\n",
        "\n",
        "    Args:\n",
        "        combo (list[int]): A list of bits representing a secret combination.\n",
        "\n",
        "    Returns:\n",
        "        array[float]: The matrix representation of the oracle.\n",
        "    \"\"\"\n",
        "    index = np.ravel_multi_index(combo, [2]*len(combo)) # Index of solution\n",
        "    my_array = np.identity(2**len(combo)) # Create the identity matrix\n",
        "\n",
        "    test=np.zeros(shape=(2**len(combo)))\n",
        "    test[index]=1\n",
        "    my_array = my_array - 2*np.outer(test,test)\n",
        "\n",
        "    return my_array"
      ],
      "metadata": {
        "id": "AGgQY4gQVcah"
      },
      "execution_count": 4,
      "outputs": []
    },
    {
      "cell_type": "code",
      "source": [
        "combo =[1 ,0 ,0]\n",
        "oracle_matrix(combo)"
      ],
      "metadata": {
        "colab": {
          "base_uri": "https://localhost:8080/"
        },
        "id": "Y9W5lHZdYwG3",
        "outputId": "4e88bfd4-7cb9-4ae6-874e-2f06c5d22b38"
      },
      "execution_count": 5,
      "outputs": [
        {
          "output_type": "execute_result",
          "data": {
            "text/plain": [
              "array([[ 1.,  0.,  0.,  0.,  0.,  0.,  0.,  0.],\n",
              "       [ 0.,  1.,  0.,  0.,  0.,  0.,  0.,  0.],\n",
              "       [ 0.,  0.,  1.,  0.,  0.,  0.,  0.,  0.],\n",
              "       [ 0.,  0.,  0.,  1.,  0.,  0.,  0.,  0.],\n",
              "       [ 0.,  0.,  0.,  0., -1.,  0.,  0.,  0.],\n",
              "       [ 0.,  0.,  0.,  0.,  0.,  1.,  0.,  0.],\n",
              "       [ 0.,  0.,  0.,  0.,  0.,  0.,  1.,  0.],\n",
              "       [ 0.,  0.,  0.,  0.,  0.,  0.,  0.,  1.]])"
            ]
          },
          "metadata": {},
          "execution_count": 5
        }
      ]
    },
    {
      "cell_type": "markdown",
      "source": [
        "The oracle in the circuit"
      ],
      "metadata": {
        "id": "8zb0ZzkfZR09"
      }
    },
    {
      "cell_type": "code",
      "source": [
        "n_bits = 4\n",
        "dev = qml.device(\"default.qubit\", wires=n_bits)\n",
        "\n",
        "@qml.qnode(dev)\n",
        "def oracle_circuit(combo):\n",
        "    \"\"\"Create a uniform superposition, apply the oracle, and return probabilities.\n",
        "\n",
        "    Args:\n",
        "        combo (list[int]): A list of bits representing a secret combination.\n",
        "\n",
        "    Returns:\n",
        "        list[float]: The output probabilities.\n",
        "    \"\"\"\n",
        "    for _ in range(n_bits):\n",
        "        qml.Hadamard(wires= _)\n",
        "\n",
        "    qml.QubitUnitary(oracle_matrix(combo), wires=[i for i in range(n_bits)])\n",
        "\n",
        "    return qml.probs(wires=range(n_bits))"
      ],
      "metadata": {
        "id": "I5PGe6e2ZUVp"
      },
      "execution_count": 6,
      "outputs": []
    },
    {
      "cell_type": "code",
      "source": [
        "n_bits = 4\n",
        "dev = qml.device(\"default.qubit\", wires=n_bits)\n",
        "\n",
        "@qml.qnode(dev)\n",
        "def pair_circuit(x_tilde, combo):\n",
        "    \"\"\"Test a pair labelled by x_tilde for the presence of a solution.\n",
        "\n",
        "    Args:\n",
        "        x_tilde (list[int]): An (n_bits - 1)-string labelling the pair to test.\n",
        "        combo (list[int]): A secret combination of n_bits 0s and 1s.\n",
        "\n",
        "    Returns:\n",
        "        array[float]: Probabilities on the last qubit.\n",
        "    \"\"\"\n",
        "    for i in range(n_bits-1): # Initialize x_tilde part of state\n",
        "        if x_tilde[i] == 1:\n",
        "            qml.PauliX(wires=i)\n",
        "    qml.Hadamard(wires=n_bits-1)\n",
        "    qml.QubitUnitary(oracle_matrix(combo), wires = [i for i in range(n_bits)])\n",
        "    qml.Hadamard(wires=n_bits-1)\n",
        "\n",
        "    return qml.probs(wires=n_bits-1)"
      ],
      "metadata": {
        "id": "NW_qbzRMdA8h"
      },
      "execution_count": 7,
      "outputs": []
    },
    {
      "cell_type": "markdown",
      "source": [
        "Breaking the lock a bit faster"
      ],
      "metadata": {
        "id": "3gMH1uH6fj0B"
      }
    },
    {
      "cell_type": "code",
      "source": [
        "\n",
        "def pair_lock_picker(trials):\n",
        "    \"\"\"Create a combo, run pair_circuit until it succeeds, and tally success rate.\n",
        "\n",
        "    Args:\n",
        "        trials (int): Number of times to test the lock picker.\n",
        "\n",
        "    Returns:\n",
        "        float: The average number of times the lock picker uses pair_circuit.\n",
        "    \"\"\"\n",
        "    x_tilde_strs = [np.binary_repr(n, n_bits-1) for n in range(2**(n_bits-1))]\n",
        "    x_tildes = [[int(s) for s in x_tilde_str] for x_tilde_str in x_tilde_strs]\n",
        "\n",
        "    test_numbers = []\n",
        "\n",
        "    for trial in range(trials):\n",
        "        combo = secret_combo(n_bits) # Random list of bits\n",
        "        counter = 0\n",
        "        for x_tilde in x_tildes:\n",
        "            counter += 1\n",
        "\n",
        "            pair = pair_circuit(x_tilde, combo)\n",
        "            if np.isclose (1, pair[1]):\n",
        "                break\n",
        "\n",
        "        test_numbers.append(counter)\n",
        "    return sum(test_numbers)/trials\n",
        "\n",
        "trials = 500\n",
        "output = pair_lock_picker(trials)\n",
        "\n",
        "print(f\"For {n_bits} bits, it takes\", output, \"pair tests on average.\")\n"
      ],
      "metadata": {
        "colab": {
          "base_uri": "https://localhost:8080/",
          "height": 341
        },
        "id": "Dq8PIlDPfiEa",
        "outputId": "252dc584-1096-4c2b-d4b7-bbe696567952"
      },
      "execution_count": 8,
      "outputs": [
        {
          "output_type": "error",
          "ename": "NameError",
          "evalue": "name 'secret_combo' is not defined",
          "traceback": [
            "\u001b[0;31m---------------------------------------------------------------------------\u001b[0m",
            "\u001b[0;31mNameError\u001b[0m                                 Traceback (most recent call last)",
            "\u001b[0;32m<ipython-input-8-d235ab6dfcb8>\u001b[0m in \u001b[0;36m<cell line: 29>\u001b[0;34m()\u001b[0m\n\u001b[1;32m     27\u001b[0m \u001b[0;34m\u001b[0m\u001b[0m\n\u001b[1;32m     28\u001b[0m \u001b[0mtrials\u001b[0m \u001b[0;34m=\u001b[0m \u001b[0;36m500\u001b[0m\u001b[0;34m\u001b[0m\u001b[0;34m\u001b[0m\u001b[0m\n\u001b[0;32m---> 29\u001b[0;31m \u001b[0moutput\u001b[0m \u001b[0;34m=\u001b[0m \u001b[0mpair_lock_picker\u001b[0m\u001b[0;34m(\u001b[0m\u001b[0mtrials\u001b[0m\u001b[0;34m)\u001b[0m\u001b[0;34m\u001b[0m\u001b[0;34m\u001b[0m\u001b[0m\n\u001b[0m\u001b[1;32m     30\u001b[0m \u001b[0;34m\u001b[0m\u001b[0m\n\u001b[1;32m     31\u001b[0m \u001b[0mprint\u001b[0m\u001b[0;34m(\u001b[0m\u001b[0;34mf\"For {n_bits} bits, it takes\"\u001b[0m\u001b[0;34m,\u001b[0m \u001b[0moutput\u001b[0m\u001b[0;34m,\u001b[0m \u001b[0;34m\"pair tests on average.\"\u001b[0m\u001b[0;34m)\u001b[0m\u001b[0;34m\u001b[0m\u001b[0;34m\u001b[0m\u001b[0m\n",
            "\u001b[0;32m<ipython-input-8-d235ab6dfcb8>\u001b[0m in \u001b[0;36mpair_lock_picker\u001b[0;34m(trials)\u001b[0m\n\u001b[1;32m     14\u001b[0m \u001b[0;34m\u001b[0m\u001b[0m\n\u001b[1;32m     15\u001b[0m     \u001b[0;32mfor\u001b[0m \u001b[0mtrial\u001b[0m \u001b[0;32min\u001b[0m \u001b[0mrange\u001b[0m\u001b[0;34m(\u001b[0m\u001b[0mtrials\u001b[0m\u001b[0;34m)\u001b[0m\u001b[0;34m:\u001b[0m\u001b[0;34m\u001b[0m\u001b[0;34m\u001b[0m\u001b[0m\n\u001b[0;32m---> 16\u001b[0;31m         \u001b[0mcombo\u001b[0m \u001b[0;34m=\u001b[0m \u001b[0msecret_combo\u001b[0m\u001b[0;34m(\u001b[0m\u001b[0mn_bits\u001b[0m\u001b[0;34m)\u001b[0m \u001b[0;31m# Random list of bits\u001b[0m\u001b[0;34m\u001b[0m\u001b[0;34m\u001b[0m\u001b[0m\n\u001b[0m\u001b[1;32m     17\u001b[0m         \u001b[0mcounter\u001b[0m \u001b[0;34m=\u001b[0m \u001b[0;36m0\u001b[0m\u001b[0;34m\u001b[0m\u001b[0;34m\u001b[0m\u001b[0m\n\u001b[1;32m     18\u001b[0m         \u001b[0;32mfor\u001b[0m \u001b[0mx_tilde\u001b[0m \u001b[0;32min\u001b[0m \u001b[0mx_tildes\u001b[0m\u001b[0;34m:\u001b[0m\u001b[0;34m\u001b[0m\u001b[0;34m\u001b[0m\u001b[0m\n",
            "\u001b[0;31mNameError\u001b[0m: name 'secret_combo' is not defined"
          ]
        }
      ]
    },
    {
      "cell_type": "markdown",
      "source": [
        "Hadamard Transformation"
      ],
      "metadata": {
        "id": "s9mspFwhFuIY"
      }
    },
    {
      "cell_type": "code",
      "source": [
        "\"\"\"The code template to supply to the front end. This is what the user will\n",
        "    be asked to complete and submit for grading.\n",
        "\n",
        "    Do not include any imports.\n",
        "\n",
        "    This is not a REPL environment so include explicit 'print' statements\n",
        "    for any outputs you want to be displayed back to the user.\n",
        "\n",
        "    Use triple single quotes to enclose the formatted code block.\n",
        "\"\"\"\n",
        "\n",
        "challenge_code = n_bits = 4\n",
        "dev = qml.device(\"default.qubit\", wires=n_bits)\n",
        "\n",
        "@qml.qnode(dev)\n",
        "def hoh_circuit(combo):\n",
        "    \"\"\"A circuit which applies Hadamard-oracle-Hadamard and returns probabilities.\n",
        "\n",
        "    Args:\n",
        "        combo (list[int]): A list of bits representing a secret combination.\n",
        "\n",
        "    Returns:\n",
        "        list[float]: Measurement outcome probabilities.\n",
        "    \"\"\"\n",
        "\n",
        "    qml.broadcast(unitary=qml.Hadamard, pattern=\"single\", wires=[0,1,2,3])\n",
        "\n",
        "    qml.QubitUnitary(oracle_matrix(combo), wires =[i for i in range(n_bits)])\n",
        "\n",
        "    qml.broadcast(unitary=qml.Hadamard, pattern=\"single\", wires=[0,1,2,3])\n",
        "\n",
        "    return qml.probs(wires=range(n_bits))"
      ],
      "metadata": {
        "id": "_c9Qe25KFwB7"
      },
      "execution_count": 9,
      "outputs": []
    },
    {
      "cell_type": "markdown",
      "source": [
        "The Hadamard transform for multiple solution"
      ],
      "metadata": {
        "id": "AloZhgomJMV2"
      }
    },
    {
      "cell_type": "code",
      "source": [
        "n_bits = 4\n",
        "dev = qml.device(\"default.qubit\", wires=n_bits)\n",
        "\n",
        "@qml.qnode(dev)\n",
        "def multisol_hoh_circuit(combos):\n",
        "    \"\"\"A circuit which applies Hadamard, multi-solution oracle, then Hadamard.\n",
        "\n",
        "    Args:\n",
        "        combos (list[list[int]]): A list of secret bit strings.\n",
        "\n",
        "    Returns:\n",
        "        array[float]: Probabilities for observing different outcomes.\n",
        "    \"\"\"\n",
        "\n",
        "    qml.broadcast(unitary=qml.Hadamard, pattern=\"single\", wires=[0,1,2,3])\n",
        "\n",
        "    qml.QubitUnitary(multisol_oracle_matrix(combos), wires =[i for i in range(n_bits)])\n",
        "\n",
        "    qml.broadcast(unitary=qml.Hadamard, pattern=\"single\", wires=[0,1,2,3])\n",
        "\n",
        "\n",
        "\n",
        "    return qml.probs(wires=range(n_bits))\n"
      ],
      "metadata": {
        "id": "17LXQyNWKDF1"
      },
      "execution_count": 10,
      "outputs": []
    },
    {
      "cell_type": "markdown",
      "source": [
        "The Deutsch-Jozsa Algorithm"
      ],
      "metadata": {
        "id": "gtaxhU6XKICW"
      }
    },
    {
      "cell_type": "code",
      "source": [
        "def deutsch_jozsa(promise_var):\n",
        "    \"\"\"Implement the Deutsch–Jozsa algorithm and guess the promise variable.\n",
        "\n",
        "    Args:\n",
        "        promise_var (int): Indicates whether the function is balanced (0) or constant (1).\n",
        "\n",
        "    Returns:\n",
        "        int: A guess at the promise variable.\n",
        "    \"\"\"\n",
        "    if promise_var == 0:\n",
        "        how_many = 2**(n_bits - 1)\n",
        "    else:\n",
        "        how_many = np.random.choice([0, 2**n_bits]) # Choose all or nothing randomly\n",
        "    combos = multisol_combo(n_bits, how_many) # Generate random combinations\n",
        "    probs = multisol_hoh_circuit(combos)\n",
        "    print(probs)\n",
        "\n",
        "    if np.isclose(probs[0],1):\n",
        "        return 1\n",
        "    else:\n",
        "        return 0\n",
        "\n",
        "    pass"
      ],
      "metadata": {
        "id": "tBC4wIhnKMCo"
      },
      "execution_count": 12,
      "outputs": []
    }
  ]
}