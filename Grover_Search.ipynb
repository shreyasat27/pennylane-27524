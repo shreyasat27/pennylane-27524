{
  "nbformat": 4,
  "nbformat_minor": 0,
  "metadata": {
    "colab": {
      "provenance": [],
      "authorship_tag": "ABX9TyPc1xvDV+/MAJh9H+TkRySB",
      "include_colab_link": true
    },
    "kernelspec": {
      "name": "python3",
      "display_name": "Python 3"
    },
    "language_info": {
      "name": "python"
    }
  },
  "cells": [
    {
      "cell_type": "markdown",
      "metadata": {
        "id": "view-in-github",
        "colab_type": "text"
      },
      "source": [
        "<a href=\"https://colab.research.google.com/github/shreyasat27/pennylane-27524/blob/main/Grover_Search.ipynb\" target=\"_parent\"><img src=\"https://colab.research.google.com/assets/colab-badge.svg\" alt=\"Open In Colab\"/></a>"
      ]
    },
    {
      "cell_type": "code",
      "source": [
        "!pip install pennylane\n",
        "import pennylane as qml\n",
        "import numpy as np"
      ],
      "metadata": {
        "colab": {
          "base_uri": "https://localhost:8080/"
        },
        "id": "RdW4Gui2MY8L",
        "outputId": "c6edfcd0-116a-43b1-d057-cdf8129f7038"
      },
      "execution_count": null,
      "outputs": [
        {
          "output_type": "stream",
          "name": "stdout",
          "text": [
            "Collecting pennylane\n",
            "  Downloading PennyLane-0.36.0-py3-none-any.whl (1.7 MB)\n",
            "\u001b[2K     \u001b[90m━━━━━━━━━━━━━━━━━━━━━━━━━━━━━━━━━━━━━━━━\u001b[0m \u001b[32m1.7/1.7 MB\u001b[0m \u001b[31m5.8 MB/s\u001b[0m eta \u001b[36m0:00:00\u001b[0m\n",
            "\u001b[?25hRequirement already satisfied: numpy<2.0 in /usr/local/lib/python3.10/dist-packages (from pennylane) (1.25.2)\n",
            "Requirement already satisfied: scipy in /usr/local/lib/python3.10/dist-packages (from pennylane) (1.11.4)\n",
            "Requirement already satisfied: networkx in /usr/local/lib/python3.10/dist-packages (from pennylane) (3.3)\n",
            "Collecting rustworkx (from pennylane)\n",
            "  Downloading rustworkx-0.14.2-cp310-cp310-manylinux_2_17_x86_64.manylinux2014_x86_64.whl (2.1 MB)\n",
            "\u001b[2K     \u001b[90m━━━━━━━━━━━━━━━━━━━━━━━━━━━━━━━━━━━━━━━━\u001b[0m \u001b[32m2.1/2.1 MB\u001b[0m \u001b[31m30.6 MB/s\u001b[0m eta \u001b[36m0:00:00\u001b[0m\n",
            "\u001b[?25hRequirement already satisfied: autograd in /usr/local/lib/python3.10/dist-packages (from pennylane) (1.6.2)\n",
            "Requirement already satisfied: toml in /usr/local/lib/python3.10/dist-packages (from pennylane) (0.10.2)\n",
            "Collecting appdirs (from pennylane)\n",
            "  Downloading appdirs-1.4.4-py2.py3-none-any.whl (9.6 kB)\n",
            "Collecting semantic-version>=2.7 (from pennylane)\n",
            "  Downloading semantic_version-2.10.0-py2.py3-none-any.whl (15 kB)\n",
            "Collecting autoray>=0.6.1 (from pennylane)\n",
            "  Downloading autoray-0.6.12-py3-none-any.whl (50 kB)\n",
            "\u001b[2K     \u001b[90m━━━━━━━━━━━━━━━━━━━━━━━━━━━━━━━━━━━━━━━━\u001b[0m \u001b[32m51.0/51.0 kB\u001b[0m \u001b[31m3.2 MB/s\u001b[0m eta \u001b[36m0:00:00\u001b[0m\n",
            "\u001b[?25hRequirement already satisfied: cachetools in /usr/local/lib/python3.10/dist-packages (from pennylane) (5.3.3)\n",
            "Collecting pennylane-lightning>=0.36 (from pennylane)\n",
            "  Downloading PennyLane_Lightning-0.36.0-cp310-cp310-manylinux_2_17_x86_64.manylinux2014_x86_64.whl (19.1 MB)\n",
            "\u001b[2K     \u001b[90m━━━━━━━━━━━━━━━━━━━━━━━━━━━━━━━━━━━━━━━━\u001b[0m \u001b[32m19.1/19.1 MB\u001b[0m \u001b[31m27.8 MB/s\u001b[0m eta \u001b[36m0:00:00\u001b[0m\n",
            "\u001b[?25hRequirement already satisfied: requests in /usr/local/lib/python3.10/dist-packages (from pennylane) (2.31.0)\n",
            "Requirement already satisfied: typing-extensions in /usr/local/lib/python3.10/dist-packages (from pennylane) (4.12.2)\n",
            "Requirement already satisfied: future>=0.15.2 in /usr/local/lib/python3.10/dist-packages (from autograd->pennylane) (0.18.3)\n",
            "Requirement already satisfied: charset-normalizer<4,>=2 in /usr/local/lib/python3.10/dist-packages (from requests->pennylane) (3.3.2)\n",
            "Requirement already satisfied: idna<4,>=2.5 in /usr/local/lib/python3.10/dist-packages (from requests->pennylane) (3.7)\n",
            "Requirement already satisfied: urllib3<3,>=1.21.1 in /usr/local/lib/python3.10/dist-packages (from requests->pennylane) (2.0.7)\n",
            "Requirement already satisfied: certifi>=2017.4.17 in /usr/local/lib/python3.10/dist-packages (from requests->pennylane) (2024.6.2)\n",
            "Installing collected packages: appdirs, semantic-version, rustworkx, autoray, pennylane-lightning, pennylane\n",
            "Successfully installed appdirs-1.4.4 autoray-0.6.12 pennylane-0.36.0 pennylane-lightning-0.36.0 rustworkx-0.14.2 semantic-version-2.10.0\n"
          ]
        }
      ]
    },
    {
      "cell_type": "markdown",
      "source": [
        "**Oracle action in a uniform superposition**\n",
        "\n",
        "it would be much more convenient if we could run our algorithm, take a measurement, and observe the solution with high probability!\n",
        "\n",
        "With this goal in mind, let's change our approach and try to shift amplitude into the solution state using our oracle and possibly other operators. This is called amplitude amplification."
      ],
      "metadata": {
        "id": "OJm_X6laaf-b"
      }
    },
    {
      "cell_type": "code",
      "execution_count": null,
      "metadata": {
        "id": "Fp86tIK1J9hU"
      },
      "outputs": [],
      "source": [
        "n_bits = 4\n",
        "dev = qml.device(\"default.qubit\", wires=n_bits)\n",
        "\n",
        "\n",
        "def oracle_matrix(combo):\n",
        "    \"\"\"Return the oracle matrix for a secret combination.\n",
        "\n",
        "    Args:\n",
        "        combo (list[int]): A list of bits representing a secret combination.\n",
        "\n",
        "    Returns:\n",
        "        array[float]: The matrix representation of the oracle.\n",
        "    \"\"\"\n",
        "    index = np.ravel_multi_index(combo, [2] * len(combo))  # Index of solution\n",
        "    my_array = np.identity(2 ** len(combo))  # Create the identity matrix\n",
        "    my_array[index, index] = -1\n",
        "    return my_array\n",
        "\n",
        "\n",
        "@qml.qnode(dev)\n",
        "def oracle_amp(combo):\n",
        "    \"\"\"Prepare the uniform superposition and apply the oracle.\n",
        "\n",
        "    Args:\n",
        "        combo (list[int]): A list of bits representing the secret combination.\n",
        "\n",
        "    Returns:\n",
        "        array[complex]: The quantum state (amplitudes) after applying the oracle.\n",
        "    \"\"\"\n",
        "    qml.broadcast(unitary=qml.Hadamard, pattern=\"single\", wires=[0,1,2,3])\n",
        "    qml.QubitUnitary(oracle_matrix(combo), wires = [i for i in range(n_bits)])\n",
        "\n",
        "    return qml.state()"
      ]
    },
    {
      "cell_type": "markdown",
      "source": [
        "**The diffusion and grover operator**\n",
        "\n",
        "D actually stands for the diffusion operator rather than \"difference\", since it helps spread or diffuse the amplitude around.\n",
        "\n",
        "G = DU is called Grover operator\n",
        "\n",
        "D=2∣ϕ⟩⟨ϕ∣−I => I = np.eye(2**n_bits)\n",
        "               phi = 1/np.sqrt(2**n_bits) * np.ones(shape=(2**n_bits))\n",
        "               return 2*np.outer(phi,phi) - I"
      ],
      "metadata": {
        "id": "9SGvJpeyLfd_"
      }
    },
    {
      "cell_type": "code",
      "source": [
        "n_bits = 4\n",
        "\n",
        "\n",
        "def diffusion_matrix():\n",
        "    \"\"\"Return the diffusion matrix.\n",
        "\n",
        "    Returns:\n",
        "        array[float]: The matrix representation of the diffusion operator.\n",
        "    \"\"\"\n",
        "    I = np.eye(2**n_bits)\n",
        "    phi = 1/np.sqrt(2**n_bits) * np.ones(shape=(2**n_bits))\n",
        "    return 2*np.outer(phi,phi) - I\n",
        "\n",
        "@qml.qnode(dev)\n",
        "def difforacle_amp(combo):\n",
        "    \"\"\"Apply the oracle and diffusion matrix to the uniform superposition.\n",
        "\n",
        "    Args:\n",
        "        combo (list[int]): A list of bits representing the secret combination.\n",
        "\n",
        "    Returns:\n",
        "        array[complex]: The quantum state (amplitudes) after applying the oracle\n",
        "        and diffusion.\n",
        "    \"\"\"\n",
        "    qml.broadcast(unitary=qml.Hadamard, pattern=\"single\", wires=[0,1,2,3])\n",
        "    qml.QubitUnitary(oracle_matrix(combo), wires = [i for i in range(n_bits)])\n",
        "    qml.QubitUnitary(diffusion_matrix(), wires =[i for i in range(n_bits)])\n",
        "    return qml.state()"
      ],
      "metadata": {
        "id": "nKvrsUN6NTu9"
      },
      "execution_count": null,
      "outputs": []
    },
    {
      "cell_type": "markdown",
      "source": [
        "**Applying the diffusion operator**"
      ],
      "metadata": {
        "id": "bvJPl1PiNtxg"
      }
    },
    {
      "cell_type": "code",
      "source": [
        "@qml.qnode(dev)\n",
        "def two_difforacle_amp(combo):\n",
        "    \"\"\"Apply the Grover operator twice to the uniform superposition.\n",
        "\n",
        "    Args:\n",
        "        combo (list[int]): A list of bits representing the secret combination.\n",
        "\n",
        "    Returns:\n",
        "        array[complex]: The resulting quantum state.\n",
        "    \"\"\"\n",
        "    #uniform superposition\n",
        "    qml.broadcast(unitary=qml.Hadamard, pattern=\"single\", wires=[0,1,2,3])\n",
        "\n",
        "    #grover's algo\n",
        "    qml.QubitUnitary(oracle_matrix(combo), wires = [i for i in range(n_bits)])\n",
        "    qml.QubitUnitary(diffusion_matrix(), wires=[i for i in range(n_bits)])\n",
        "\n",
        "    #grover's algo\n",
        "    qml.QubitUnitary(oracle_matrix(combo), wires=[i for i in range(n_bits)])\n",
        "    qml.QubitUnitary(diffusion_matrix(), wires=[i for i in range(n_bits)])\n",
        "\n",
        "    return qml.state()\n"
      ],
      "metadata": {
        "id": "lSf_9ZvrNxcr"
      },
      "execution_count": null,
      "outputs": []
    },
    {
      "cell_type": "markdown",
      "source": [
        "**Rotating the state using the Grover operator**"
      ],
      "metadata": {
        "id": "9ZW0yPVGTDNM"
      }
    },
    {
      "cell_type": "code",
      "source": [
        "n_bits = 5\n",
        "dev = qml.device(\"default.qubit\", wires=n_bits)\n",
        "\n",
        "\n",
        "def oracle_matrix(combo):\n",
        "    \"\"\"Return the oracle matrix for a secret combination.\n",
        "\n",
        "    Args:\n",
        "        combo (list[int]): A list of bits representing a secret combination.\n",
        "\n",
        "    Returns:\n",
        "        array[float]: The matrix representation of the oracle.\n",
        "    \"\"\"\n",
        "    index = np.ravel_multi_index(combo, [2] * len(combo))  # Index of solution\n",
        "    my_array = np.identity(2 ** len(combo))  # Create the identity matrix\n",
        "    my_array[index, index] = -1\n",
        "    return my_array\n",
        "\n",
        "\n",
        "def diffusion_matrix():\n",
        "    \"\"\"Return the diffusion matrix.\n",
        "\n",
        "    Returns:\n",
        "        array[float]: The matrix representation of the diffusion operator.\n",
        "    \"\"\"\n",
        "    psi_piece = (1 / 2**n_bits) * np.ones(2**n_bits)\n",
        "    ident_piece = np.eye(2**n_bits)\n",
        "    return 2 * psi_piece - ident_piece\n",
        "\n",
        "@qml.qnode(dev)\n",
        "def grover_circuit(combo, num_steps):\n",
        "    \"\"\"Apply the Grover operator num_steps times to the uniform superposition\n",
        "       and return the state.\n",
        "\n",
        "    Args:\n",
        "        combo (list[int]): A list of bits representing the secret combination.\n",
        "        num_steps (int): The number of iterations of the Grover operator\n",
        "            our circuit is to perform.\n",
        "\n",
        "    Returns:\n",
        "        array[complex]: The quantum state (amplitudes) after repeated Grover\n",
        "        iterations.\n",
        "    \"\"\"\n",
        "    qml.broadcast(unitary=qml.Hadamard, pattern=\"single\", wires=[ i for i in range(n_bits)])\n",
        "\n",
        "    for _ in range(num_steps):\n",
        "          qml.QubitUnitary(oracle_matrix(combo), wires=[i for i in range(n_bits)])\n",
        "          qml.QubitUnitary(diffusion_matrix(), wires=[i for i in range(n_bits)])\n",
        "\n",
        "    return qml.state()\n",
        "\n",
        "\n",
        "my_steps = 4  # YOUR STEP NUMBER HERE"
      ],
      "metadata": {
        "id": "mYliCs9QUfHh"
      },
      "execution_count": null,
      "outputs": []
    },
    {
      "cell_type": "markdown",
      "source": [
        "**Building the oracle with Multi-controlled gates**"
      ],
      "metadata": {
        "id": "Mo4yhNirV71G"
      }
    },
    {
      "cell_type": "code",
      "source": [
        "n_bits = 5\n",
        "query_register = list(range(n_bits))\n",
        "aux = [n_bits]\n",
        "all_wires = query_register + aux\n",
        "dev = qml.device(\"default.qubit\", wires=all_wires)\n",
        "\n",
        "\n",
        "def oracle(combo):\n",
        "    \"\"\"Implement an oracle using a multi-controlled X gate.\n",
        "\n",
        "    Args:\n",
        "        combo (list): A list of bits representing the secret combination.\n",
        "    \"\"\"\n",
        "    combo_str = \"\".join(str(j) for j in combo)\n",
        "    qml.MultiControlledX(control_wires=query_register, wires=aux, control_values=combo_str)\n",
        "    pass  # APPLY MULTI-CONTROLLED X\n"
      ],
      "metadata": {
        "id": "yES7-d5fWBwc"
      },
      "execution_count": null,
      "outputs": []
    },
    {
      "cell_type": "markdown",
      "source": [
        "This method is called the phase kickback trick, since the phase is \"kicked back\" to the query register. --> U\n",
        "\n",
        "\n",
        "To perform the full algorithm for Grover search, we will repeat the green and purple subcircuits some number of times, then measure!"
      ],
      "metadata": {
        "id": "OzFuNKOMatop"
      }
    },
    {
      "cell_type": "markdown",
      "source": [
        "![Screenshot 2024-06-12 at 1.12.05 PM.png](data:image/png;base64,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)**\n",
        "\n"
      ],
      "metadata": {
        "id": "SgObO3R2LYhf"
      }
    },
    {
      "cell_type": "markdown",
      "source": [
        "**Building the diffusion operator**"
      ],
      "metadata": {
        "id": "0GQ9Nw44c686"
      }
    },
    {
      "cell_type": "code",
      "source": [
        "def hadamard_transform(my_wires):\n",
        "    \"\"\"Apply the Hadamard transform on a given set of wires.\n",
        "\n",
        "    Args:\n",
        "        my_wires (list[int]): A list of wires on which the Hadamard transform will act.\n",
        "    \"\"\"\n",
        "    for wire in my_wires:\n",
        "        qml.Hadamard(wires=wire)\n",
        "\n",
        "\n",
        "def diffusion():\n",
        "    \"\"\"Implement the diffusion operator using the Hadamard transform and\n",
        "    multi-controlled X.\"\"\"\n",
        "\n",
        "\n",
        "    qml.broadcast(unitary=qml.Hadamard, pattern=\"single\", wires=[ i for i in range(5)])\n",
        "    qml.MultiControlledX(control_wires=query_register, wires=aux, control_values=\"00000\")\n",
        "    qml.broadcast(unitary=qml.Hadamard, pattern=\"single\", wires=[ i for i in range(5)])\n"
      ],
      "metadata": {
        "id": "vPUlmOiVc-dJ"
      },
      "execution_count": null,
      "outputs": []
    },
    {
      "cell_type": "code",
      "source": [
        "def hadamard_transform(my_wires):\n",
        "    \"\"\"Apply the Hadamard transform on a given set of wires.\n",
        "\n",
        "    Args:\n",
        "        my_wires (list[int]): A list of wires on which the Hadamard transform will act.\n",
        "    \"\"\"\n",
        "    for wire in my_wires:\n",
        "        qml.Hadamard(wires=wire)\n",
        "\n",
        "\n",
        "def diffusion():\n",
        "    \"\"\"Implement the diffusion operator using the Hadamard transform and\n",
        "    multi-controlled X.\"\"\"\n",
        "\n",
        "\n",
        "    hadamard_transform(query_register)\n",
        "    qml.MultiControlledX(control_wires=query_register, wires=aux, control_values=\"00000\")\n",
        "    hadamard_transform(query_register)\n"
      ],
      "metadata": {
        "id": "fi7VODcIdBGI"
      },
      "execution_count": null,
      "outputs": []
    },
    {
      "cell_type": "markdown",
      "source": [
        "**Improving the circuit**"
      ],
      "metadata": {
        "id": "w6zJ6jxpdMvf"
      }
    },
    {
      "cell_type": "code",
      "source": [
        "@qml.qnode(dev)\n",
        "def grover_circuit(combo):\n",
        "    \"\"\"Apply the MultiControlledX Grover operator and return probabilities on\n",
        "    query register.\n",
        "\n",
        "    Args:\n",
        "        combo (list[int]): A list of bits representing the secret combination.\n",
        "\n",
        "    Returns:\n",
        "        array[float]: Measurement outcome probabilities.\n",
        "    \"\"\"\n",
        "\n",
        "    # PREPARE QUERY AND AUXILIARY SYSTEM\n",
        "    qml.PauliX(wires=aux)\n",
        "    hadamard_transform(all_wires)\n",
        "\n",
        "\n",
        "    # APPLY GROVER ITERATION\n",
        "    #qml.MultiControlledX(control_wires=query_register, wires=aux, control_values=\"10100\")\n",
        "    oracle(combo)\n",
        "\n",
        "    #hadamard_transform(my_wires)\n",
        "\n",
        "    #qml.MultiControlledX(control_wires=query_register, wires=aux, control_values=\"00000\")\n",
        "\n",
        "    diffusion()\n",
        "\n",
        "    return qml.probs(wires=query_register)\n"
      ],
      "metadata": {
        "id": "trK3yLDBdPmS"
      },
      "execution_count": null,
      "outputs": []
    },
    {
      "cell_type": "markdown",
      "source": [
        "**Make a guess**"
      ],
      "metadata": {
        "id": "SPkxgg4mWOUp"
      }
    },
    {
      "cell_type": "code",
      "source": [
        "def grover_iter(combo, num_steps):\n",
        "    \"\"\"Run Grover search for a given secret combination and a number of iterations.\n",
        "\n",
        "    Args:\n",
        "        combo (list[int]): The secret combination, represented as a list of bits.\n",
        "        num_steps (int): The number of Grover iterations to perform.\n",
        "\n",
        "    Returns:\n",
        "        array[float]: Probability for observing different outcomes.\n",
        "    \"\"\"\n",
        "    n_bits = len(combo)\n",
        "    query_register = list(range(n_bits))\n",
        "    aux = [n_bits]\n",
        "    all_wires = query_register + aux\n",
        "    dev = qml.device(\"default.qubit\", wires=all_wires)\n",
        "\n",
        "    @qml.qnode(dev)\n",
        "    def inner_circuit():\n",
        "        qml.PauliX(wires=aux)\n",
        "        hadamard_transform(all_wires)\n",
        "        for _ in range(num_steps):\n",
        "              oracle(combo)\n",
        "              diffusion(n_bits)\n",
        "\n",
        "        # IMPLEMENT THE GROVER CIRCUIT\n",
        "        return qml.probs(wires=query_register)\n",
        "\n",
        "    return inner_circuit()\n"
      ],
      "metadata": {
        "id": "6TeM-wW2WSzD"
      },
      "execution_count": null,
      "outputs": []
    },
    {
      "cell_type": "markdown",
      "source": [
        "**Optimal number of iterations**"
      ],
      "metadata": {
        "id": "qb1SmP-XX49W"
      }
    },
    {
      "cell_type": "code",
      "source": [
        "n_list = range(3, 7)\n",
        "opt_steps = []\n",
        "\n",
        "for n_bits in n_list:\n",
        "    combo = \"0\" * n_bits  # A simple combination\n",
        "    step_list = range(1, 10)  # Try out some large number of steps\n",
        "\n",
        "    # Refactored code using list comprehension\n",
        "    arr = [grover_iter(combo, _)[0].numpy() for _ in step_list]\n",
        "\n",
        "    # Find the optimal number of steps and append it to opt_steps\n",
        "    opt_steps.append(local_max_arg(arr))\n",
        "    pass\n",
        "\n",
        "print(\"The optimal number of Grover steps for qubits in\", [3, 4, 5, 6], \"is\", opt_steps, \".\")\n"
      ],
      "metadata": {
        "colab": {
          "base_uri": "https://localhost:8080/",
          "height": 510
        },
        "id": "31IaNUpUX5Sq",
        "outputId": "5a1338ee-67bc-4f15-870a-3e48c36b9fa7"
      },
      "execution_count": null,
      "outputs": [
        {
          "output_type": "stream",
          "name": "stderr",
          "text": [
            "/usr/local/lib/python3.10/dist-packages/pennylane/ops/op_math/controlled_ops.py:1045: PennyLaneDeprecationWarning: Specifying control values using a bitstring is deprecated, and will not be supported in future releases, Use a list of booleans or integers instead.\n",
            "  warnings.warn(\n",
            "/usr/local/lib/python3.10/dist-packages/pennylane/ops/op_math/controlled_ops.py:1051: UserWarning: The control_wires keyword for MultiControlledX is deprecated, and will be removed soon. Use wires = (*control_wires, target_wire) instead.\n",
            "  warnings.warn(\n"
          ]
        },
        {
          "output_type": "error",
          "ename": "ValueError",
          "evalue": "Length of control values must equal number of control wires.",
          "traceback": [
            "\u001b[0;31m---------------------------------------------------------------------------\u001b[0m",
            "\u001b[0;31mValueError\u001b[0m                                Traceback (most recent call last)",
            "\u001b[0;32m<ipython-input-11-4b67ba20c17c>\u001b[0m in \u001b[0;36m<cell line: 4>\u001b[0;34m()\u001b[0m\n\u001b[1;32m      7\u001b[0m \u001b[0;34m\u001b[0m\u001b[0m\n\u001b[1;32m      8\u001b[0m     \u001b[0;31m# Refactored code using list comprehension\u001b[0m\u001b[0;34m\u001b[0m\u001b[0;34m\u001b[0m\u001b[0m\n\u001b[0;32m----> 9\u001b[0;31m     \u001b[0marr\u001b[0m \u001b[0;34m=\u001b[0m \u001b[0;34m[\u001b[0m\u001b[0mgrover_iter\u001b[0m\u001b[0;34m(\u001b[0m\u001b[0mcombo\u001b[0m\u001b[0;34m,\u001b[0m \u001b[0m_\u001b[0m\u001b[0;34m)\u001b[0m\u001b[0;34m[\u001b[0m\u001b[0;36m0\u001b[0m\u001b[0;34m]\u001b[0m\u001b[0;34m.\u001b[0m\u001b[0mnumpy\u001b[0m\u001b[0;34m(\u001b[0m\u001b[0;34m)\u001b[0m \u001b[0;32mfor\u001b[0m \u001b[0m_\u001b[0m \u001b[0;32min\u001b[0m \u001b[0mstep_list\u001b[0m\u001b[0;34m]\u001b[0m\u001b[0;34m\u001b[0m\u001b[0;34m\u001b[0m\u001b[0m\n\u001b[0m\u001b[1;32m     10\u001b[0m \u001b[0;34m\u001b[0m\u001b[0m\n\u001b[1;32m     11\u001b[0m     \u001b[0;31m# Find the optimal number of steps and append it to opt_steps\u001b[0m\u001b[0;34m\u001b[0m\u001b[0;34m\u001b[0m\u001b[0m\n",
            "\u001b[0;32m<ipython-input-11-4b67ba20c17c>\u001b[0m in \u001b[0;36m<listcomp>\u001b[0;34m(.0)\u001b[0m\n\u001b[1;32m      7\u001b[0m \u001b[0;34m\u001b[0m\u001b[0m\n\u001b[1;32m      8\u001b[0m     \u001b[0;31m# Refactored code using list comprehension\u001b[0m\u001b[0;34m\u001b[0m\u001b[0;34m\u001b[0m\u001b[0m\n\u001b[0;32m----> 9\u001b[0;31m     \u001b[0marr\u001b[0m \u001b[0;34m=\u001b[0m \u001b[0;34m[\u001b[0m\u001b[0mgrover_iter\u001b[0m\u001b[0;34m(\u001b[0m\u001b[0mcombo\u001b[0m\u001b[0;34m,\u001b[0m \u001b[0m_\u001b[0m\u001b[0;34m)\u001b[0m\u001b[0;34m[\u001b[0m\u001b[0;36m0\u001b[0m\u001b[0;34m]\u001b[0m\u001b[0;34m.\u001b[0m\u001b[0mnumpy\u001b[0m\u001b[0;34m(\u001b[0m\u001b[0;34m)\u001b[0m \u001b[0;32mfor\u001b[0m \u001b[0m_\u001b[0m \u001b[0;32min\u001b[0m \u001b[0mstep_list\u001b[0m\u001b[0;34m]\u001b[0m\u001b[0;34m\u001b[0m\u001b[0;34m\u001b[0m\u001b[0m\n\u001b[0m\u001b[1;32m     10\u001b[0m \u001b[0;34m\u001b[0m\u001b[0m\n\u001b[1;32m     11\u001b[0m     \u001b[0;31m# Find the optimal number of steps and append it to opt_steps\u001b[0m\u001b[0;34m\u001b[0m\u001b[0;34m\u001b[0m\u001b[0m\n",
            "\u001b[0;32m<ipython-input-10-eccd65c18981>\u001b[0m in \u001b[0;36mgrover_iter\u001b[0;34m(combo, num_steps)\u001b[0m\n\u001b[1;32m     26\u001b[0m         \u001b[0;32mreturn\u001b[0m \u001b[0mqml\u001b[0m\u001b[0;34m.\u001b[0m\u001b[0mprobs\u001b[0m\u001b[0;34m(\u001b[0m\u001b[0mwires\u001b[0m\u001b[0;34m=\u001b[0m\u001b[0mquery_register\u001b[0m\u001b[0;34m)\u001b[0m\u001b[0;34m\u001b[0m\u001b[0;34m\u001b[0m\u001b[0m\n\u001b[1;32m     27\u001b[0m \u001b[0;34m\u001b[0m\u001b[0m\n\u001b[0;32m---> 28\u001b[0;31m     \u001b[0;32mreturn\u001b[0m \u001b[0minner_circuit\u001b[0m\u001b[0;34m(\u001b[0m\u001b[0;34m)\u001b[0m\u001b[0;34m\u001b[0m\u001b[0;34m\u001b[0m\u001b[0m\n\u001b[0m",
            "\u001b[0;32m/usr/local/lib/python3.10/dist-packages/pennylane/workflow/qnode.py\u001b[0m in \u001b[0;36m__call__\u001b[0;34m(self, *args, **kwargs)\u001b[0m\n\u001b[1;32m   1090\u001b[0m \u001b[0;34m\u001b[0m\u001b[0m\n\u001b[1;32m   1091\u001b[0m         \u001b[0;31m# construct the tape\u001b[0m\u001b[0;34m\u001b[0m\u001b[0;34m\u001b[0m\u001b[0m\n\u001b[0;32m-> 1092\u001b[0;31m         \u001b[0mself\u001b[0m\u001b[0;34m.\u001b[0m\u001b[0mconstruct\u001b[0m\u001b[0;34m(\u001b[0m\u001b[0margs\u001b[0m\u001b[0;34m,\u001b[0m \u001b[0mkwargs\u001b[0m\u001b[0;34m)\u001b[0m\u001b[0;34m\u001b[0m\u001b[0;34m\u001b[0m\u001b[0m\n\u001b[0m\u001b[1;32m   1093\u001b[0m \u001b[0;34m\u001b[0m\u001b[0m\n\u001b[1;32m   1094\u001b[0m         \u001b[0moriginal_grad_fn\u001b[0m \u001b[0;34m=\u001b[0m \u001b[0;34m[\u001b[0m\u001b[0mself\u001b[0m\u001b[0;34m.\u001b[0m\u001b[0mgradient_fn\u001b[0m\u001b[0;34m,\u001b[0m \u001b[0mself\u001b[0m\u001b[0;34m.\u001b[0m\u001b[0mgradient_kwargs\u001b[0m\u001b[0;34m,\u001b[0m \u001b[0mself\u001b[0m\u001b[0;34m.\u001b[0m\u001b[0mdevice\u001b[0m\u001b[0;34m]\u001b[0m\u001b[0;34m\u001b[0m\u001b[0;34m\u001b[0m\u001b[0m\n",
            "\u001b[0;32m/usr/local/lib/python3.10/dist-packages/pennylane/workflow/qnode.py\u001b[0m in \u001b[0;36mconstruct\u001b[0;34m(self, args, kwargs)\u001b[0m\n\u001b[1;32m    927\u001b[0m \u001b[0;34m\u001b[0m\u001b[0m\n\u001b[1;32m    928\u001b[0m         \u001b[0;32mwith\u001b[0m \u001b[0mqml\u001b[0m\u001b[0;34m.\u001b[0m\u001b[0mqueuing\u001b[0m\u001b[0;34m.\u001b[0m\u001b[0mAnnotatedQueue\u001b[0m\u001b[0;34m(\u001b[0m\u001b[0;34m)\u001b[0m \u001b[0;32mas\u001b[0m \u001b[0mq\u001b[0m\u001b[0;34m:\u001b[0m\u001b[0;34m\u001b[0m\u001b[0;34m\u001b[0m\u001b[0m\n\u001b[0;32m--> 929\u001b[0;31m             \u001b[0mself\u001b[0m\u001b[0;34m.\u001b[0m\u001b[0m_qfunc_output\u001b[0m \u001b[0;34m=\u001b[0m \u001b[0mself\u001b[0m\u001b[0;34m.\u001b[0m\u001b[0mfunc\u001b[0m\u001b[0;34m(\u001b[0m\u001b[0;34m*\u001b[0m\u001b[0margs\u001b[0m\u001b[0;34m,\u001b[0m \u001b[0;34m**\u001b[0m\u001b[0mkwargs\u001b[0m\u001b[0;34m)\u001b[0m\u001b[0;34m\u001b[0m\u001b[0;34m\u001b[0m\u001b[0m\n\u001b[0m\u001b[1;32m    930\u001b[0m \u001b[0;34m\u001b[0m\u001b[0m\n\u001b[1;32m    931\u001b[0m         \u001b[0mself\u001b[0m\u001b[0;34m.\u001b[0m\u001b[0m_tape\u001b[0m \u001b[0;34m=\u001b[0m \u001b[0mQuantumScript\u001b[0m\u001b[0;34m.\u001b[0m\u001b[0mfrom_queue\u001b[0m\u001b[0;34m(\u001b[0m\u001b[0mq\u001b[0m\u001b[0;34m,\u001b[0m \u001b[0mshots\u001b[0m\u001b[0;34m)\u001b[0m\u001b[0;34m\u001b[0m\u001b[0;34m\u001b[0m\u001b[0m\n",
            "\u001b[0;32m<ipython-input-10-eccd65c18981>\u001b[0m in \u001b[0;36minner_circuit\u001b[0;34m()\u001b[0m\n\u001b[1;32m     20\u001b[0m         \u001b[0mhadamard_transform\u001b[0m\u001b[0;34m(\u001b[0m\u001b[0mall_wires\u001b[0m\u001b[0;34m)\u001b[0m\u001b[0;34m\u001b[0m\u001b[0;34m\u001b[0m\u001b[0m\n\u001b[1;32m     21\u001b[0m         \u001b[0;32mfor\u001b[0m \u001b[0m_\u001b[0m \u001b[0;32min\u001b[0m \u001b[0mrange\u001b[0m\u001b[0;34m(\u001b[0m\u001b[0mnum_steps\u001b[0m\u001b[0;34m)\u001b[0m\u001b[0;34m:\u001b[0m\u001b[0;34m\u001b[0m\u001b[0;34m\u001b[0m\u001b[0m\n\u001b[0;32m---> 22\u001b[0;31m               \u001b[0moracle\u001b[0m\u001b[0;34m(\u001b[0m\u001b[0mcombo\u001b[0m\u001b[0;34m)\u001b[0m\u001b[0;34m\u001b[0m\u001b[0;34m\u001b[0m\u001b[0m\n\u001b[0m\u001b[1;32m     23\u001b[0m               \u001b[0mdiffusion\u001b[0m\u001b[0;34m(\u001b[0m\u001b[0mn_bits\u001b[0m\u001b[0;34m)\u001b[0m\u001b[0;34m\u001b[0m\u001b[0;34m\u001b[0m\u001b[0m\n\u001b[1;32m     24\u001b[0m \u001b[0;34m\u001b[0m\u001b[0m\n",
            "\u001b[0;32m<ipython-input-6-af332c06b85c>\u001b[0m in \u001b[0;36moracle\u001b[0;34m(combo)\u001b[0m\n\u001b[1;32m     13\u001b[0m     \"\"\"\n\u001b[1;32m     14\u001b[0m     \u001b[0mcombo_str\u001b[0m \u001b[0;34m=\u001b[0m \u001b[0;34m\"\"\u001b[0m\u001b[0;34m.\u001b[0m\u001b[0mjoin\u001b[0m\u001b[0;34m(\u001b[0m\u001b[0mstr\u001b[0m\u001b[0;34m(\u001b[0m\u001b[0mj\u001b[0m\u001b[0;34m)\u001b[0m \u001b[0;32mfor\u001b[0m \u001b[0mj\u001b[0m \u001b[0;32min\u001b[0m \u001b[0mcombo\u001b[0m\u001b[0;34m)\u001b[0m\u001b[0;34m\u001b[0m\u001b[0;34m\u001b[0m\u001b[0m\n\u001b[0;32m---> 15\u001b[0;31m     \u001b[0mqml\u001b[0m\u001b[0;34m.\u001b[0m\u001b[0mMultiControlledX\u001b[0m\u001b[0;34m(\u001b[0m\u001b[0mcontrol_wires\u001b[0m\u001b[0;34m=\u001b[0m\u001b[0mquery_register\u001b[0m\u001b[0;34m,\u001b[0m \u001b[0mwires\u001b[0m\u001b[0;34m=\u001b[0m\u001b[0maux\u001b[0m\u001b[0;34m,\u001b[0m \u001b[0mcontrol_values\u001b[0m\u001b[0;34m=\u001b[0m\u001b[0mcombo_str\u001b[0m\u001b[0;34m)\u001b[0m\u001b[0;34m\u001b[0m\u001b[0;34m\u001b[0m\u001b[0m\n\u001b[0m\u001b[1;32m     16\u001b[0m     \u001b[0;32mpass\u001b[0m  \u001b[0;31m# APPLY MULTI-CONTROLLED X\u001b[0m\u001b[0;34m\u001b[0m\u001b[0;34m\u001b[0m\u001b[0m\n",
            "\u001b[0;32m/usr/local/lib/python3.10/dist-packages/pennylane/ops/op_math/controlled_ops.py\u001b[0m in \u001b[0;36m__init__\u001b[0;34m(self, control_wires, wires, control_values, work_wires)\u001b[0m\n\u001b[1;32m   1073\u001b[0m             \u001b[0mwires\u001b[0m \u001b[0;34m=\u001b[0m \u001b[0mwires\u001b[0m\u001b[0;34m[\u001b[0m\u001b[0;34m-\u001b[0m\u001b[0;36m1\u001b[0m\u001b[0;34m:\u001b[0m\u001b[0;34m]\u001b[0m\u001b[0;34m\u001b[0m\u001b[0;34m\u001b[0m\u001b[0m\n\u001b[1;32m   1074\u001b[0m \u001b[0;34m\u001b[0m\u001b[0m\n\u001b[0;32m-> 1075\u001b[0;31m         \u001b[0mcontrol_values\u001b[0m \u001b[0;34m=\u001b[0m \u001b[0m_check_and_convert_control_values\u001b[0m\u001b[0;34m(\u001b[0m\u001b[0mcontrol_values\u001b[0m\u001b[0;34m,\u001b[0m \u001b[0mcontrol_wires\u001b[0m\u001b[0;34m)\u001b[0m\u001b[0;34m\u001b[0m\u001b[0;34m\u001b[0m\u001b[0m\n\u001b[0m\u001b[1;32m   1076\u001b[0m \u001b[0;34m\u001b[0m\u001b[0m\n\u001b[1;32m   1077\u001b[0m         super().__init__(\n",
            "\u001b[0;32m/usr/local/lib/python3.10/dist-packages/pennylane/ops/op_math/controlled_ops.py\u001b[0m in \u001b[0;36m_check_and_convert_control_values\u001b[0;34m(control_values, control_wires)\u001b[0m\n\u001b[1;32m    966\u001b[0m \u001b[0;34m\u001b[0m\u001b[0m\n\u001b[1;32m    967\u001b[0m     \u001b[0;32mif\u001b[0m \u001b[0mlen\u001b[0m\u001b[0;34m(\u001b[0m\u001b[0mcontrol_values\u001b[0m\u001b[0;34m)\u001b[0m \u001b[0;34m!=\u001b[0m \u001b[0mlen\u001b[0m\u001b[0;34m(\u001b[0m\u001b[0mcontrol_wires\u001b[0m\u001b[0;34m)\u001b[0m\u001b[0;34m:\u001b[0m\u001b[0;34m\u001b[0m\u001b[0;34m\u001b[0m\u001b[0m\n\u001b[0;32m--> 968\u001b[0;31m         \u001b[0;32mraise\u001b[0m \u001b[0mValueError\u001b[0m\u001b[0;34m(\u001b[0m\u001b[0;34m\"Length of control values must equal number of control wires.\"\u001b[0m\u001b[0;34m)\u001b[0m\u001b[0;34m\u001b[0m\u001b[0;34m\u001b[0m\u001b[0m\n\u001b[0m\u001b[1;32m    969\u001b[0m \u001b[0;34m\u001b[0m\u001b[0m\n\u001b[1;32m    970\u001b[0m     \u001b[0;32mreturn\u001b[0m \u001b[0mcontrol_values\u001b[0m\u001b[0;34m\u001b[0m\u001b[0;34m\u001b[0m\u001b[0m\n",
            "\u001b[0;31mValueError\u001b[0m: Length of control values must equal number of control wires."
          ]
        }
      ]
    },
    {
      "cell_type": "markdown",
      "source": [
        "**Finding the scaling power**"
      ],
      "metadata": {
        "id": "vTdyxzttaUOe"
      }
    },
    {
      "cell_type": "code",
      "source": [
        "grad = 0.5\n",
        "intercept = -0.47\n",
        "# SUBMIT TO PLOT GRAPH"
      ],
      "metadata": {
        "id": "LlpUmM2HaUj0"
      },
      "execution_count": null,
      "outputs": []
    }
  ]
}