{
  "nbformat": 4,
  "nbformat_minor": 0,
  "metadata": {
    "colab": {
      "provenance": [],
      "include_colab_link": true
    },
    "kernelspec": {
      "name": "python3",
      "display_name": "Python 3"
    },
    "language_info": {
      "name": "python"
    }
  },
  "cells": [
    {
      "cell_type": "markdown",
      "metadata": {
        "id": "view-in-github",
        "colab_type": "text"
      },
      "source": [
        "<a href=\"https://colab.research.google.com/github/shreyasat27/pennylane-27524/blob/main/He2.ipynb\" target=\"_parent\"><img src=\"https://colab.research.google.com/assets/colab-badge.svg\" alt=\"Open In Colab\"/></a>"
      ]
    },
    {
      "cell_type": "markdown",
      "source": [
        "Here I'll try to simulate He2 and find the ground state energy of the molecule"
      ],
      "metadata": {
        "id": "3FYl1lW26iMP"
      }
    },
    {
      "cell_type": "code",
      "execution_count": null,
      "metadata": {
        "colab": {
          "base_uri": "https://localhost:8080/"
        },
        "id": "WIWvyxRL6fUL",
        "outputId": "528a1fea-0e89-4f07-ad86-fd8e3392ea01"
      },
      "outputs": [
        {
          "output_type": "stream",
          "name": "stdout",
          "text": [
            "Collecting pennylane\n",
            "  Downloading PennyLane-0.37.0-py3-none-any.whl (1.8 MB)\n",
            "\u001b[2K     \u001b[90m━━━━━━━━━━━━━━━━━━━━━━━━━━━━━━━━━━━━━━━━\u001b[0m \u001b[32m1.8/1.8 MB\u001b[0m \u001b[31m5.3 MB/s\u001b[0m eta \u001b[36m0:00:00\u001b[0m\n",
            "\u001b[?25hRequirement already satisfied: numpy<2.0 in /usr/local/lib/python3.10/dist-packages (from pennylane) (1.25.2)\n",
            "Requirement already satisfied: scipy in /usr/local/lib/python3.10/dist-packages (from pennylane) (1.11.4)\n",
            "Requirement already satisfied: networkx in /usr/local/lib/python3.10/dist-packages (from pennylane) (3.3)\n",
            "Collecting rustworkx (from pennylane)\n",
            "  Downloading rustworkx-0.15.1-cp38-abi3-manylinux_2_17_x86_64.manylinux2014_x86_64.whl (2.0 MB)\n",
            "\u001b[2K     \u001b[90m━━━━━━━━━━━━━━━━━━━━━━━━━━━━━━━━━━━━━━━━\u001b[0m \u001b[32m2.0/2.0 MB\u001b[0m \u001b[31m12.4 MB/s\u001b[0m eta \u001b[36m0:00:00\u001b[0m\n",
            "\u001b[?25hRequirement already satisfied: autograd in /usr/local/lib/python3.10/dist-packages (from pennylane) (1.6.2)\n",
            "Requirement already satisfied: toml in /usr/local/lib/python3.10/dist-packages (from pennylane) (0.10.2)\n",
            "Collecting appdirs (from pennylane)\n",
            "  Downloading appdirs-1.4.4-py2.py3-none-any.whl (9.6 kB)\n",
            "Collecting semantic-version>=2.7 (from pennylane)\n",
            "  Downloading semantic_version-2.10.0-py2.py3-none-any.whl (15 kB)\n",
            "Collecting autoray>=0.6.11 (from pennylane)\n",
            "  Downloading autoray-0.6.12-py3-none-any.whl (50 kB)\n",
            "\u001b[2K     \u001b[90m━━━━━━━━━━━━━━━━━━━━━━━━━━━━━━━━━━━━━━━━\u001b[0m \u001b[32m51.0/51.0 kB\u001b[0m \u001b[31m3.5 MB/s\u001b[0m eta \u001b[36m0:00:00\u001b[0m\n",
            "\u001b[?25hRequirement already satisfied: cachetools in /usr/local/lib/python3.10/dist-packages (from pennylane) (5.3.3)\n",
            "Collecting pennylane-lightning>=0.37 (from pennylane)\n",
            "  Downloading PennyLane_Lightning-0.37.0-cp310-cp310-manylinux_2_28_x86_64.whl (15.5 MB)\n",
            "\u001b[2K     \u001b[90m━━━━━━━━━━━━━━━━━━━━━━━━━━━━━━━━━━━━━━━━\u001b[0m \u001b[32m15.5/15.5 MB\u001b[0m \u001b[31m42.9 MB/s\u001b[0m eta \u001b[36m0:00:00\u001b[0m\n",
            "\u001b[?25hRequirement already satisfied: requests in /usr/local/lib/python3.10/dist-packages (from pennylane) (2.31.0)\n",
            "Requirement already satisfied: typing-extensions in /usr/local/lib/python3.10/dist-packages (from pennylane) (4.12.2)\n",
            "Requirement already satisfied: packaging in /usr/local/lib/python3.10/dist-packages (from pennylane) (24.1)\n",
            "Requirement already satisfied: future>=0.15.2 in /usr/local/lib/python3.10/dist-packages (from autograd->pennylane) (0.18.3)\n",
            "Requirement already satisfied: charset-normalizer<4,>=2 in /usr/local/lib/python3.10/dist-packages (from requests->pennylane) (3.3.2)\n",
            "Requirement already satisfied: idna<4,>=2.5 in /usr/local/lib/python3.10/dist-packages (from requests->pennylane) (3.7)\n",
            "Requirement already satisfied: urllib3<3,>=1.21.1 in /usr/local/lib/python3.10/dist-packages (from requests->pennylane) (2.0.7)\n",
            "Requirement already satisfied: certifi>=2017.4.17 in /usr/local/lib/python3.10/dist-packages (from requests->pennylane) (2024.7.4)\n",
            "Installing collected packages: appdirs, semantic-version, rustworkx, autoray, pennylane-lightning, pennylane\n",
            "Successfully installed appdirs-1.4.4 autoray-0.6.12 pennylane-0.37.0 pennylane-lightning-0.37.0 rustworkx-0.15.1 semantic-version-2.10.0\n"
          ]
        }
      ],
      "source": [
        "!pip install pennylane"
      ]
    },
    {
      "cell_type": "code",
      "source": [
        "import pennylane as qml\n",
        "from pennylane import qchem\n",
        "from pennylane import numpy as np\n",
        "import time\n",
        "\n",
        "symbols = [\"He\", \"He\"]\n",
        "geometry = np.array([[0.0, 0.0, -1.5], [0.0, 0.0, 1.5]])\n",
        "molecule = qchem.Molecule(symbols, geometry)"
      ],
      "metadata": {
        "id": "ui-a0aKd73G-"
      },
      "execution_count": 8,
      "outputs": []
    },
    {
      "cell_type": "code",
      "source": [
        "# H, qubits = qchem.molecular_hamiltonian(\n",
        "#     molecule,\n",
        "#     active_electrons=2,\n",
        "#     active_orbitals=4\n",
        "# )\n",
        "dataset = qml.data.load('qchem', molname=\"He2\")[0]\n",
        "H, qubits = dataset.hamiltonian, len(dataset.hamiltonian.wires)\n",
        "\n",
        "\n",
        "active_electrons = 4\n",
        "\n",
        "singles, doubles = qchem.excitations(active_electrons, qubits)\n",
        "\n",
        "print(f\"Total number of excitations = {len(singles) + len(doubles)}\")"
      ],
      "metadata": {
        "colab": {
          "base_uri": "https://localhost:8080/"
        },
        "id": "T9DX6ewP-OTI",
        "outputId": "2a78e6f1-3bc7-4c47-b968-3476ef26a758"
      },
      "execution_count": 9,
      "outputs": [
        {
          "output_type": "stream",
          "name": "stdout",
          "text": [
            "Total number of excitations = 26\n"
          ]
        }
      ]
    },
    {
      "cell_type": "markdown",
      "source": [
        "Note that we have a total of 24 excitations which can be represented by the same number of excitation gates 4. Let’s now use an AdaptiveOptimizer implemented in PennyLane to construct an adaptive circuit.\n",
        "\n"
      ],
      "metadata": {
        "id": "ZsUy-siP-UF9"
      }
    },
    {
      "cell_type": "code",
      "source": [
        "singles_excitations = [qml.SingleExcitation(0.0, x) for x in singles]\n",
        "doubles_excitations = [qml.DoubleExcitation(0.0, x) for x in doubles]\n",
        "operator_pool = doubles_excitations + singles_excitations"
      ],
      "metadata": {
        "id": "-yxx8Nmg-WAt"
      },
      "execution_count": 10,
      "outputs": []
    },
    {
      "cell_type": "code",
      "source": [
        "hf_state = qchem.hf_state(active_electrons, qubits)\n",
        "dev = qml.device(\"default.qubit\", wires=qubits)\n",
        "@qml.qnode(dev)\n",
        "def circuit():\n",
        "    [qml.PauliX(i) for i in np.nonzero(hf_state)[0]]\n",
        "    return qml.expval(H)"
      ],
      "metadata": {
        "id": "xdMuH5Fv-aQz"
      },
      "execution_count": 11,
      "outputs": []
    },
    {
      "cell_type": "code",
      "source": [
        "opt = qml.optimize.AdaptiveOptimizer()\n",
        "for i in range(len(operator_pool)):\n",
        "    circuit, energy, gradient = opt.step_and_cost(circuit, operator_pool)\n",
        "    if i % 3 == 0:\n",
        "        print(\"n = {:},  E = {:.8f} H, Largest Gradient = {:.3f}\".format(i, energy, gradient))\n",
        "        print(qml.draw(circuit, decimals=None)())\n",
        "        print()\n",
        "    if gradient < 3e-3:\n",
        "        break"
      ],
      "metadata": {
        "colab": {
          "base_uri": "https://localhost:8080/"
        },
        "id": "bb3veAzG-dVf",
        "outputId": "54e4b3b7-a1bc-4660-dc8f-aba6d95e8b68"
      },
      "execution_count": 12,
      "outputs": [
        {
          "output_type": "stream",
          "name": "stdout",
          "text": [
            "n = 0,  E = -5.71032085 H, Largest Gradient = 0.114\n",
            "0: ──X─────┤ ╭<𝓗>\n",
            "1: ──X─────┤ ├<𝓗>\n",
            "2: ──X─╭G²─┤ ├<𝓗>\n",
            "3: ──X─├G²─┤ ├<𝓗>\n",
            "4: ────├G²─┤ ├<𝓗>\n",
            "5: ────╰G²─┤ ├<𝓗>\n",
            "6: ────────┤ ├<𝓗>\n",
            "7: ────────┤ ╰<𝓗>\n",
            "\n",
            "n = 3,  E = -5.72157664 H, Largest Gradient = 0.137\n",
            "0: ──X─────╭G²─╭G²─────┤ ╭<𝓗>\n",
            "1: ──X─────│───├G²─╭G²─┤ ├<𝓗>\n",
            "2: ──X─╭G²─│───│───├G²─┤ ├<𝓗>\n",
            "3: ──X─├G²─├G²─│───│───┤ ├<𝓗>\n",
            "4: ────├G²─├G²─│───│───┤ ├<𝓗>\n",
            "5: ────╰G²─│───│───├G²─┤ ├<𝓗>\n",
            "6: ────────│───├G²─╰G²─┤ ├<𝓗>\n",
            "7: ────────╰G²─╰G²─────┤ ╰<𝓗>\n",
            "\n",
            "n = 6,  E = -5.73249869 H, Largest Gradient = 0.118\n",
            "0: ──X─────╭G²─╭G²─────╭G²─────────┤ ╭<𝓗>\n",
            "1: ──X─────│───├G²─╭G²─├G²─╭G²─────┤ ├<𝓗>\n",
            "2: ──X─╭G²─│───│───├G²─│───├G²─╭G²─┤ ├<𝓗>\n",
            "3: ──X─├G²─├G²─│───│───│───│───├G²─┤ ├<𝓗>\n",
            "4: ────├G²─├G²─│───│───├G²─├G²─│───┤ ├<𝓗>\n",
            "5: ────╰G²─│───│───├G²─╰G²─│───│───┤ ├<𝓗>\n",
            "6: ────────│───├G²─╰G²─────│───├G²─┤ ├<𝓗>\n",
            "7: ────────╰G²─╰G²─────────╰G²─╰G²─┤ ╰<𝓗>\n",
            "\n",
            "n = 9,  E = -5.74011171 H, Largest Gradient = 0.015\n",
            "0: ──X─────╭G²─╭G²─────╭G²─────────╭G²─╭G²─────┤ ╭<𝓗>\n",
            "1: ──X─────│───├G²─╭G²─├G²─╭G²─────│───├G²─────┤ ├<𝓗>\n",
            "2: ──X─╭G²─│───│───├G²─│───├G²─╭G²─│───│───╭G²─┤ ├<𝓗>\n",
            "3: ──X─├G²─├G²─│───│───│───│───├G²─├G²─│───├G²─┤ ├<𝓗>\n",
            "4: ────├G²─├G²─│───│───├G²─├G²─│───│───├G²─├G²─┤ ├<𝓗>\n",
            "5: ────╰G²─│───│───├G²─╰G²─│───│───├G²─╰G²─╰G²─┤ ├<𝓗>\n",
            "6: ────────│───├G²─╰G²─────│───├G²─╰G²─────────┤ ├<𝓗>\n",
            "7: ────────╰G²─╰G²─────────╰G²─╰G²─────────────┤ ╰<𝓗>\n",
            "\n",
            "n = 12,  E = -5.74026296 H, Largest Gradient = 0.007\n",
            "0: ──X─────╭G²─╭G²─────╭G²─────────╭G²─╭G²─────────────────┤ ╭<𝓗>\n",
            "1: ──X─────│───├G²─╭G²─├G²─╭G²─────│───├G²─────╭G²─────╭G²─┤ ├<𝓗>\n",
            "2: ──X─╭G²─│───│───├G²─│───├G²─╭G²─│───│───╭G²─├G²─╭G²─├G²─┤ ├<𝓗>\n",
            "3: ──X─├G²─├G²─│───│───│───│───├G²─├G²─│───├G²─│───├G²─│───┤ ├<𝓗>\n",
            "4: ────├G²─├G²─│───│───├G²─├G²─│───│───├G²─├G²─├G²─│───│───┤ ├<𝓗>\n",
            "5: ────╰G²─│───│───├G²─╰G²─│───│───├G²─╰G²─╰G²─│───│───├G²─┤ ├<𝓗>\n",
            "6: ────────│───├G²─╰G²─────│───├G²─╰G²─────────│───├G²─╰G²─┤ ├<𝓗>\n",
            "7: ────────╰G²─╰G²─────────╰G²─╰G²─────────────╰G²─╰G²─────┤ ╰<𝓗>\n",
            "\n",
            "n = 15,  E = -5.74028747 H, Largest Gradient = 0.004\n",
            "0: ──X─────╭G²─╭G²─────╭G²─────────╭G²─╭G²─────────────────╭G²─╭G²────┤ ╭<𝓗>\n",
            "1: ──X─────│───├G²─╭G²─├G²─╭G²─────│───├G²─────╭G²─────╭G²─│───│───╭G─┤ ├<𝓗>\n",
            "2: ──X─╭G²─│───│───├G²─│───├G²─╭G²─│───│───╭G²─├G²─╭G²─├G²─│───│───│──┤ ├<𝓗>\n",
            "3: ──X─├G²─├G²─│───│───│───│───├G²─├G²─│───├G²─│───├G²─│───├G²─├G²─│──┤ ├<𝓗>\n",
            "4: ────├G²─├G²─│───│───├G²─├G²─│───│───├G²─├G²─├G²─│───│───│───├G²─│──┤ ├<𝓗>\n",
            "5: ────╰G²─│───│───├G²─╰G²─│───│───├G²─╰G²─╰G²─│───│───├G²─├G²─│───╰G─┤ ├<𝓗>\n",
            "6: ────────│───├G²─╰G²─────│───├G²─╰G²─────────│───├G²─╰G²─╰G²─│──────┤ ├<𝓗>\n",
            "7: ────────╰G²─╰G²─────────╰G²─╰G²─────────────╰G²─╰G²─────────╰G²────┤ ╰<𝓗>\n",
            "\n",
            "n = 18,  E = -5.74031113 H, Largest Gradient = 0.004\n",
            "0: ──X─────╭G²─╭G²─────╭G²─────────╭G²─╭G²─────────────────╭G²─╭G²───────╭G────┤ ╭<𝓗>\n",
            "1: ──X─────│───├G²─╭G²─├G²─╭G²─────│───├G²─────╭G²─────╭G²─│───│───╭G────│─────┤ ├<𝓗>\n",
            "2: ──X─╭G²─│───│───├G²─│───├G²─╭G²─│───│───╭G²─├G²─╭G²─├G²─│───│───│─────│──╭G─┤ ├<𝓗>\n",
            "3: ──X─├G²─├G²─│───│───│───│───├G²─├G²─│───├G²─│───├G²─│───├G²─├G²─│──╭G─│──│──┤ ├<𝓗>\n",
            "4: ────├G²─├G²─│───│───├G²─├G²─│───│───├G²─├G²─├G²─│───│───│───├G²─│──│──╰G─│──┤ ├<𝓗>\n",
            "5: ────╰G²─│───│───├G²─╰G²─│───│───├G²─╰G²─╰G²─│───│───├G²─├G²─│───╰G─│─────│──┤ ├<𝓗>\n",
            "6: ────────│───├G²─╰G²─────│───├G²─╰G²─────────│───├G²─╰G²─╰G²─│──────│─────╰G─┤ ├<𝓗>\n",
            "7: ────────╰G²─╰G²─────────╰G²─╰G²─────────────╰G²─╰G²─────────╰G²────╰G───────┤ ╰<𝓗>\n",
            "\n"
          ]
        }
      ]
    },
    {
      "cell_type": "markdown",
      "source": [
        "The resulting energy matches the exact energy of the ground electronic state of LiH, which is -7.8825378193 Ha, within chemical accuracy. Note that some of the gates appear more than once in the circuit. By default, AdaptiveOptimizer does not eliminate the selected gates from the pool. We can set drain_pool=True to prevent repetition of the gates by removing the selected gate from the operator pool."
      ],
      "metadata": {
        "id": "SeYdgRZ8_6vl"
      }
    },
    {
      "cell_type": "code",
      "source": [
        "@qml.qnode(dev)\n",
        "def circuit():\n",
        "    [qml.PauliX(i) for i in np.nonzero(hf_state)[0]]\n",
        "    return qml.expval(H)\n",
        "\n",
        "opt = qml.optimize.AdaptiveOptimizer()\n",
        "for i in range(len(operator_pool)):\n",
        "    circuit, energy, gradient = opt.step_and_cost(circuit, operator_pool, drain_pool=True)\n",
        "    if i % 2 == 0:\n",
        "        print(\"n = {:},  E = {:.8f} H, Largest Gradient = {:.3f}\".format(i, energy, gradient))\n",
        "        print(qml.draw(circuit, decimals=None)())\n",
        "        print()\n",
        "    if gradient < 3e-3:\n",
        "        break"
      ],
      "metadata": {
        "colab": {
          "base_uri": "https://localhost:8080/"
        },
        "id": "y4GHnMV4-i-G",
        "outputId": "055b2435-f35b-46b4-fff4-b48cfc93c108"
      },
      "execution_count": 13,
      "outputs": [
        {
          "output_type": "stream",
          "name": "stdout",
          "text": [
            "n = 0,  E = -5.71032085 H, Largest Gradient = 0.114\n",
            "0: ──X─────┤ ╭<𝓗>\n",
            "1: ──X─────┤ ├<𝓗>\n",
            "2: ──X─╭G²─┤ ├<𝓗>\n",
            "3: ──X─├G²─┤ ├<𝓗>\n",
            "4: ────├G²─┤ ├<𝓗>\n",
            "5: ────╰G²─┤ ├<𝓗>\n",
            "6: ────────┤ ├<𝓗>\n",
            "7: ────────┤ ╰<𝓗>\n",
            "\n",
            "n = 2,  E = -5.71755852 H, Largest Gradient = 0.126\n",
            "0: ──X─────╭G²─╭G²─┤ ╭<𝓗>\n",
            "1: ──X─────│───├G²─┤ ├<𝓗>\n",
            "2: ──X─╭G²─│───│───┤ ├<𝓗>\n",
            "3: ──X─├G²─├G²─│───┤ ├<𝓗>\n",
            "4: ────├G²─├G²─│───┤ ├<𝓗>\n",
            "5: ────╰G²─│───│───┤ ├<𝓗>\n",
            "6: ────────│───├G²─┤ ├<𝓗>\n",
            "7: ────────╰G²─╰G²─┤ ╰<𝓗>\n",
            "\n",
            "n = 4,  E = -5.72632182 H, Largest Gradient = 0.107\n",
            "0: ──X─────╭G²─╭G²─────╭G²─┤ ╭<𝓗>\n",
            "1: ──X─────│───├G²─╭G²─├G²─┤ ├<𝓗>\n",
            "2: ──X─╭G²─│───│───├G²─│───┤ ├<𝓗>\n",
            "3: ──X─├G²─├G²─│───│───│───┤ ├<𝓗>\n",
            "4: ────├G²─├G²─│───│───├G²─┤ ├<𝓗>\n",
            "5: ────╰G²─│───│───├G²─╰G²─┤ ├<𝓗>\n",
            "6: ────────│───├G²─╰G²─────┤ ├<𝓗>\n",
            "7: ────────╰G²─╰G²─────────┤ ╰<𝓗>\n",
            "\n",
            "n = 6,  E = -5.73249869 H, Largest Gradient = 0.118\n",
            "0: ──X─────╭G²─╭G²─────╭G²─────────┤ ╭<𝓗>\n",
            "1: ──X─────│───├G²─╭G²─├G²─╭G²─────┤ ├<𝓗>\n",
            "2: ──X─╭G²─│───│───├G²─│───├G²─╭G²─┤ ├<𝓗>\n",
            "3: ──X─├G²─├G²─│───│───│───│───├G²─┤ ├<𝓗>\n",
            "4: ────├G²─├G²─│───│───├G²─├G²─│───┤ ├<𝓗>\n",
            "5: ────╰G²─│───│───├G²─╰G²─│───│───┤ ├<𝓗>\n",
            "6: ────────│───├G²─╰G²─────│───├G²─┤ ├<𝓗>\n",
            "7: ────────╰G²─╰G²─────────╰G²─╰G²─┤ ╰<𝓗>\n",
            "\n",
            "n = 8,  E = -5.73997806 H, Largest Gradient = 0.004\n",
            "0: ──X─────╭G²─╭G²─────╭G²─────────╭G²────┤ ╭<𝓗>\n",
            "1: ──X─────│───├G²─╭G²─├G²─╭G²─────│──────┤ ├<𝓗>\n",
            "2: ──X─╭G²─│───│───├G²─│───├G²─╭G²─│───╭G─┤ ├<𝓗>\n",
            "3: ──X─├G²─├G²─│───│───│───│───├G²─├G²─│──┤ ├<𝓗>\n",
            "4: ────├G²─├G²─│───│───├G²─├G²─│───│───│──┤ ├<𝓗>\n",
            "5: ────╰G²─│───│───├G²─╰G²─│───│───├G²─│──┤ ├<𝓗>\n",
            "6: ────────│───├G²─╰G²─────│───├G²─╰G²─╰G─┤ ├<𝓗>\n",
            "7: ────────╰G²─╰G²─────────╰G²─╰G²────────┤ ╰<𝓗>\n",
            "\n",
            "n = 10,  E = -5.73999433 H, Largest Gradient = 0.004\n",
            "0: ──X─────╭G²─╭G²─────╭G²─────────╭G²──────────┤ ╭<𝓗>\n",
            "1: ──X─────│───├G²─╭G²─├G²─╭G²─────│─────────╭G─┤ ├<𝓗>\n",
            "2: ──X─╭G²─│───│───├G²─│───├G²─╭G²─│───╭G────│──┤ ├<𝓗>\n",
            "3: ──X─├G²─├G²─│───│───│───│───├G²─├G²─│──╭G─│──┤ ├<𝓗>\n",
            "4: ────├G²─├G²─│───│───├G²─├G²─│───│───│──│──│──┤ ├<𝓗>\n",
            "5: ────╰G²─│───│───├G²─╰G²─│───│───├G²─│──│──╰G─┤ ├<𝓗>\n",
            "6: ────────│───├G²─╰G²─────│───├G²─╰G²─╰G─│─────┤ ├<𝓗>\n",
            "7: ────────╰G²─╰G²─────────╰G²─╰G²────────╰G────┤ ╰<𝓗>\n",
            "\n",
            "n = 12,  E = -5.74000756 H, Largest Gradient = 0.000\n",
            "0: ──X─────╭G²─╭G²─────╭G²─────────╭G²──────────╭G─╭G²─┤ ╭<𝓗>\n",
            "1: ──X─────│───├G²─╭G²─├G²─╭G²─────│─────────╭G─│──│───┤ ├<𝓗>\n",
            "2: ──X─╭G²─│───│───├G²─│───├G²─╭G²─│───╭G────│──│──├G²─┤ ├<𝓗>\n",
            "3: ──X─├G²─├G²─│───│───│───│───├G²─├G²─│──╭G─│──│──│───┤ ├<𝓗>\n",
            "4: ────├G²─├G²─│───│───├G²─├G²─│───│───│──│──│──╰G─├G²─┤ ├<𝓗>\n",
            "5: ────╰G²─│───│───├G²─╰G²─│───│───├G²─│──│──╰G────│───┤ ├<𝓗>\n",
            "6: ────────│───├G²─╰G²─────│───├G²─╰G²─╰G─│────────╰G²─┤ ├<𝓗>\n",
            "7: ────────╰G²─╰G²─────────╰G²─╰G²────────╰G───────────┤ ╰<𝓗>\n",
            "\n"
          ]
        }
      ]
    },
    {
      "cell_type": "markdown",
      "source": [
        "https://chem.libretexts.org/Bookshelves/Physical_and_Theoretical_Chemistry_Textbook_Maps/Supplemental_Modules_(Physical_and_Theoretical_Chemistry)/Quantum_Mechanics/10%3A_Multi-electron_Atoms/8%3A_The_Helium_Atom#:~:text=Therefore%20the%20ground%2Dstate%20energy,79.02%20eV%3D%E2%88%922.90372%20hartrees.\n",
        "\n",
        "For helium ( Z=2\n",
        " ), this gives  −2.84765\n",
        "  hartrees, an error of about  2%\n",
        "   (E0=−2.90372)\n",
        " ."
      ],
      "metadata": {
        "id": "vLhUEgODDz3g"
      }
    },
    {
      "cell_type": "code",
      "source": [
        "import pennylane as qml\n",
        "H2Odatasets = qml.data.load(\"qchem\", molname=\"NH3\", basis=\"STO-3G\")\n",
        "print('fci_energy',H2Odatasets[0].fci_energy)\n",
        "print('vqe_energy',H2Odatasets[0].vqe_energy)\n",
        "\n",
        "print(H2Odatasets)"
      ],
      "metadata": {
        "colab": {
          "base_uri": "https://localhost:8080/"
        },
        "id": "q-EA8MuoI-K5",
        "outputId": "146b8a92-c72e-41a1-fc29-dbb248b61a49"
      },
      "execution_count": 16,
      "outputs": [
        {
          "output_type": "stream",
          "name": "stdout",
          "text": [
            "fci_energy -55.519197646545145\n",
            "vqe_energy -55.51822494385617\n",
            "[<Dataset = molname: NH3, basis: STO-3G, bondlength: 1.013, attributes: ['basis', 'basis_rot_groupings', ...]>]\n"
          ]
        }
      ]
    }
  ]
}