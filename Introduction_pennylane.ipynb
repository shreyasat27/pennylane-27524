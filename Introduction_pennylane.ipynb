{
  "cells": [
    {
      "cell_type": "markdown",
      "metadata": {
        "id": "view-in-github",
        "colab_type": "text"
      },
      "source": [
        "<a href=\"https://colab.research.google.com/github/shreyasat27/pennylane-27524/blob/main/Introduction_pennylane.ipynb\" target=\"_parent\"><img src=\"https://colab.research.google.com/assets/colab-badge.svg\" alt=\"Open In Colab\"/></a>"
      ]
    },
    {
      "cell_type": "markdown",
      "metadata": {
        "id": "zKDded72mJ4c"
      },
      "source": [
        "## Introduction"
      ]
    },
    {
      "cell_type": "markdown",
      "metadata": {
        "id": "b23gOgXpkNzP"
      },
      "source": [
        "----"
      ]
    },
    {
      "cell_type": "markdown",
      "metadata": {
        "id": "wcxJXLRPmJ4d"
      },
      "source": [
        " ### Topics to be covered\n",
        "\n",
        " * Qubit : Mathematical description of a qubit state\n",
        " * Bloch Sphere\n",
        " * Quantum Gate\n",
        " * Measurement\n",
        "  \n",
        "In the end you will able to make the below quantum circuit using pennlylane.\n",
        "\n",
        "![first1.png](attachment:first1.png)\n",
        "\n",
        "![pennylane.png](attachment:pennylane.png) <br>\n",
        "Pennylane is the SDK kit which is compatible with Tensorflow, Pytorch and JAX. It is used to simulate the quantum phenomena with built-in high performance simulators.  \n",
        "\n",
        "## Lets get started 🎉 🎉 🎉"
      ]
    },
    {
      "cell_type": "markdown",
      "metadata": {
        "id": "9gWj1V-cmJ4e"
      },
      "source": [
        "----"
      ]
    },
    {
      "cell_type": "markdown",
      "metadata": {
        "id": "fgSe3OyimJ4e"
      },
      "source": [
        "### Qubit\n",
        "\n",
        "A <b>qubit</b> is represented by a state, which is a column vector of two elements. The two most basic ones are the analogues of a bit's \"0\" and \"1\" state, which are represented by the following two vectors:\n",
        "\n",
        "<div style=\"text-align: left; gap: 100px;\">\n",
        "\n",
        "$\\mathbf{|0\\rangle} = \\begin{bmatrix} 1 \\\\ 0 \\end{bmatrix}$ ,\n",
        "\n",
        "$\\mathbf{|1\\rangle} = \\begin{bmatrix} 0 \\\\ 1 \\end{bmatrix}$.\n",
        "\n",
        "</div>\n",
        "\n",
        "Quite often, we will see the notation $\\ket{\\psi}$ which represents a qubit in some arbitrary state labelled by\n",
        "${\\psi}$"
      ]
    },
    {
      "cell_type": "code",
      "execution_count": null,
      "metadata": {
        "id": "3_Ud7z9dmJ4e",
        "outputId": "65a5acc0-12f5-41eb-c26f-6011eaa69a25"
      },
      "outputs": [
        {
          "name": "stdout",
          "output_type": "stream",
          "text": [
            "[1 0]\n"
          ]
        }
      ],
      "source": [
        "import numpy as np # numpy is the main numerical computing library in Python\n",
        "\n",
        "# Here are the vector representations of |0> and |1>, for convenience\n",
        "ket_0 = np.array([1, 0])\n",
        "ket_1 = np.array([0, 1])\n",
        "\n",
        "print(ket_0)"
      ]
    },
    {
      "cell_type": "markdown",
      "metadata": {
        "id": "xnHLbkuBmJ4f"
      },
      "source": [
        "Bra-ket notation gets its name for a reason: for every ket, there is an associated bra. A bra  is a row vector, where each element in the vector is the complex conjugate of the corresponding element in the ket. (<b>More formally, a bra is the conjugate transpose of a ket</b>.) The notation for bras is the reverse of the notation for kets. <br>\n",
        "$\\langle{0}| = \\begin{bmatrix} 1 & 0 \\end{bmatrix}$ ,\n",
        "\n",
        "$\\langle{1}| = \\begin{bmatrix} 0 & 1 \\end{bmatrix}$."
      ]
    },
    {
      "cell_type": "markdown",
      "metadata": {
        "id": "Zl4IYY8YmJ4f"
      },
      "source": [
        "####  <b><font color='red'> Exercise 1.1</font> </b> :\n",
        "\n",
        "\n",
        "\n",
        "We know that any quantum 1 qubit quantum state can be written as : $\\mathbf{|{\\psi}\\rangle} = \\alpha|{0}\\rangle + \\beta|{1}\\rangle $,  where $\\mathbf{\\alpha^2} + \\mathbf{\\beta^2} = 1$\n",
        "\n",
        "Complete a below function $i.e.$, 'normalized_vector' which will give the updated  alpha($\\mathbf{\\alpha'}$) and updated beta($\\mathbf{\\beta'}$) values such what $\\mathbf{\\alpha'^2} + \\mathbf{\\beta'^2} = 1$ because given $\\mathbf{\\alpha^2} + \\mathbf{\\beta^2} \\neq 1$\n",
        "\n",
        "\n"
      ]
    },
    {
      "cell_type": "markdown",
      "metadata": {
        "id": "FD6v0tuAmJ4f"
      },
      "source": [
        "Reference material :<br>\n",
        "* [How to find the norm](https://numpy.org/doc/stable/reference/generated/numpy.linalg.norm.html)\n",
        "* [Complex number absolute value](https://www.w3schools.com/python/ref_func_abs.asp)\n",
        "* [How check the type of a variable](https://www.geeksforgeeks.org/python-type-function/)\n",
        "* [Square root function](https://www.geeksforgeeks.org/python-math-function-sqrt/)"
      ]
    },
    {
      "cell_type": "code",
      "execution_count": null,
      "metadata": {
        "id": "PUT4SUtBmJ4f",
        "outputId": "978439f5-8de2-4afb-87ea-64d404831627"
      },
      "outputs": [
        {
          "name": "stdout",
          "output_type": "stream",
          "text": [
            "(3.6851681986954574-1.7860946189117843j) (6.621987362775087+4.013367061466921j)\n",
            "Normalization succeeded!\n"
          ]
        }
      ],
      "source": [
        "import random # random is a Python library that generates random numbers\n",
        "import numpy as np\n",
        "\n",
        "\n",
        "def normalize_vector(alpha, beta):\n",
        "    \"\"\"Compute a normalized quantum state given arbitrary amplitudes.\n",
        "\n",
        "    Args:\n",
        "        alpha (complex): The amplitude associated with the |0> state.\n",
        "        beta (complex): The amplitude associated with the |1> state.\n",
        "\n",
        "    Returns:\n",
        "        np.array[complex]: A vector (numpy array) with 2 elements that represents\n",
        "        a normalized quantum state.\n",
        "    \"\"\"\n",
        "    print(alpha, beta)\n",
        "    ##################\n",
        "    # YOUR CODE HERE #\n",
        "    ##################\n",
        "\n",
        "    # CREATE A VECTOR [a', b'] BASED ON alpha AND beta SUCH THAT |a'|^2 + |b'|^2 = 1\n",
        "\n",
        "    alpha_modified = alpha/np.sqrt(np.linalg.norm(alpha)**2 + np.linalg.norm(beta)**2)         # Write the code\n",
        "    beta_modified =  beta/np.sqrt(np.linalg.norm(alpha)**2 + np.linalg.norm(beta)**2)        # write a code\n",
        "    # RETURN A VECTOR\n",
        "\n",
        "    return np.array([alpha_modified, beta_modified])\n",
        "\n",
        "a_random = complex(random.uniform(-10, 10), random.uniform(-10, 10))\n",
        "b_random  = complex(random.uniform(-10, 10), random.uniform(-10, 10))\n",
        "a1, b1 = normalize_vector(a_random, b_random)\n",
        "\n",
        "if not np.isclose(np.linalg.norm([a1, b1]), 1):\n",
        "    raise ValueError(f\"Normalization failed: {a1, b1}\") # This will raise an error if the normalization failed\n",
        "else:\n",
        "    print(\"Normalization succeeded!\")"
      ]
    },
    {
      "cell_type": "markdown",
      "metadata": {
        "id": "b-65cjtcmJ4g"
      },
      "source": [
        "#### Pennylane view of qubit\n",
        "\n",
        "In Pennylane qubit is started by deafult with state zero *i.e.* $|0⟩$ <br>\n",
        "And the circuit will start with collection of <b>*wires*<b>\n",
        "\n",
        "![device.png](attachment:device.png) ![wires.png](attachment:wires.png)"
      ]
    },
    {
      "cell_type": "markdown",
      "metadata": {
        "id": "cj8-UynQmJ4g"
      },
      "source": [
        "![qubit.png](attachment:qubit.png)\n",
        "\n",
        "---"
      ]
    },
    {
      "cell_type": "markdown",
      "metadata": {
        "id": "ZB7yxfb_mJ4g"
      },
      "source": [
        "### Operators on qubit states\n",
        "\n",
        "For the manipulation of the quantum state the ingredient which we need is quantum gates. <br>\n",
        "Qubit states are vectors, so we need a mathematical means of modifying a vector $|{\\psi}\\rangle$\n",
        "to produce another vector $|{\\psi'}\\rangle$: <br>\n",
        "<div style=\"text-align: center;\">\n",
        "\n",
        "$\\mathbf{\\ket{\\psi}} = \\alpha|{0}\\rangle + \\beta|{1}\\rangle \\rightarrow   \\mathbf{|{\\psi'}\\rangle} = \\alpha'|{0}\\rangle + \\beta'|{1}\\rangle$<br>\n",
        "\n",
        "</div>\n",
        "\n",
        "\n",
        "\n",
        "What sends a 2-dimensional vector to another 2-dimensional vector. This can be done to multiplication by a 2 x 2\n",
        "matrix, which will perserve the form of the vector. <br>\n",
        "\n",
        "Even after an operation, the measurement outcome probabilities must sum to 1, i.e.,$\\mathbf{|\\alpha'|^2} + \\mathbf{|\\beta'|^2} = 1$ <br>\n",
        "\n",
        "There is a special class of matrices that preserves the length of quantum states: unitary matrices $UU^{\\dagger}= I$. Their defining property is that\n",
        "where the indicates the taking complex conjugate of all elements in the transpose of $U$, and $I$\n",
        "is the 2 X 2  identity matrix.\n"
      ]
    },
    {
      "cell_type": "markdown",
      "metadata": {
        "id": "jtGe1z2HmJ4g"
      },
      "source": [
        "#### <b><font color='red'>Exercise 1.2</font></b>:\n",
        "\n",
        "\n",
        "\n",
        "Recall that quantum operations are represented as matrices. To preserve normalization, they must be a special type of matrix called a unitary matrix. For some complex-valued unitary matrix the state of the qubit after an operation is\n",
        "<div style=\"text-align: center;\">\n",
        "\n",
        "$ |{\\psi'}\\rangle = U|{\\psi}\\rangle$\n",
        "    \n",
        "</div>\n",
        "\n",
        "\n",
        "Let's simulate the process by completing the function *apply_unitary* below to apply the provided quantum operation $U$ to an input **state**.\n",
        "\n",
        "Complete a below function $i.e.$, **apply_unitary** which will give the updated  quantum state afcter apply the given unitary.\n",
        "\n",
        "\n",
        "\n"
      ]
    },
    {
      "cell_type": "code",
      "execution_count": null,
      "metadata": {
        "id": "NLPLq1OdmJ4g"
      },
      "outputs": [],
      "source": [
        "import numpy as np\n",
        "\n",
        "def create_random_uni():\n",
        "    random_matrix = np.random.rand(2, 2) + 1j * np.random.rand(2, 2)\n",
        "    Q, R = np.linalg.qr(random_matrix)\n",
        "\n",
        "    return Q\n",
        "\n",
        "def create_randon_state():\n",
        "    z1 = np.random.rand() + 1j * np.random.rand()\n",
        "    z2 = np.sqrt(1 - np.abs(z1)**2) * np.exp(1j * np.angle(z1) + 1j * np.pi/2)  # Add pi/2 to ensure orthogonality\n",
        "    return np.array([z1, z2])\n",
        "\n",
        "\n",
        "\n",
        "U = create_random_uni()\n",
        "\n",
        "\n",
        "def apply_unitary(old_state,U_matrix):\n",
        "    \"\"\"Apply a quantum operation.\n",
        "\n",
        "    Args:\n",
        "        old_state (np.array[complex]): A normalized quantum state vector.\n",
        "\n",
        "    Returns:\n",
        "        np.array[complex]: The output state after applying U_matrix.\n",
        "    \"\"\"\n",
        "\n",
        "    ##################\n",
        "    # YOUR CODE HERE #\n",
        "    ##################\n",
        "\n",
        "    new_state = ## Write your code here\n",
        "    # APPLY U TO THE INPUT STATE AND RETURN THE NEW STATE\n",
        "    return new_state\n",
        "# create random state\n",
        "\n",
        "state = create_randon_state()\n",
        "new_state = apply_unitary(state, U)\n",
        "\n",
        "# ## check the new state is normalized\n",
        "if not np.isclose(np.linalg.norm(new_state), 1):\n",
        "    raise ValueError(f\"Normalization failed: {new_state}\") # This will raise an error if the normalization failed\n",
        "else:\n",
        "    print(f\"New state: {new_state}\")"
      ]
    },
    {
      "cell_type": "markdown",
      "metadata": {
        "id": "lW8Gp_SfmJ4g"
      },
      "source": [
        "### Pennylane view on Quantum Gates\n",
        "\n",
        "Qubits undergo operations commonly termed as <b>gates</b>, encompassing various types, each exerting distinct influences on the qubits. <br>\n",
        "While some gates target a single qubit, others extend their impact to two or more qubits simultaneously.\n",
        "\n",
        "\n"
      ]
    },
    {
      "cell_type": "markdown",
      "metadata": {
        "id": "1WzF9uPvmJ4g"
      },
      "source": [
        "To begin, in the circuits presented below, we'll denote various gate types with distinct shapes. The presence of a shape along a wire signifies the application of a gate to the corresponding qubit at that specific moment. <br><p style=\"color:orange;\">It's important to read quantum circuits from left to right.</p> For instance, in the given below diagram, we start by applying a triangle gate to qubits 0 and 2, then proceed with a rectangle gate affecting qubits 0 and 1 simultaneously, followed by a circle gate acting on qubit 2, and so forth.<br>\n",
        "<br>\n",
        "<!-- <div style=\"text-align: left;\">\n",
        "<img src=\"fig/gates.png\" alt=\"Example Image\" style=\"margin-left: 80px;\"width=\"400\"/>\n",
        "</div> -->\n",
        "\n",
        "![gates.png](attachment:gates.png)\n",
        "\n",
        "Quantum operations that act on separate qubits can be applied in parallel. For example, note that the pentagon on qubit 0 can be \"pushed\" to the left, and applied at the same time as the rectangle on qubits 1 and 2:"
      ]
    },
    {
      "cell_type": "markdown",
      "metadata": {
        "id": "83OBNAhTmJ4g"
      },
      "source": [
        "\n",
        "![depth.png](attachment:depth.png)\n",
        "\n",
        "<!-- <div style=\"text-align: left;\">\n",
        "<img src=\"fig/depth.png\" alt=\"Example Image\" style=\"margin-left: 80px;\"width=\"600\"/>\n",
        "</div> -->\n",
        "\n",
        "---"
      ]
    },
    {
      "cell_type": "markdown",
      "metadata": {
        "id": "QW6lC3YRmJ4h"
      },
      "source": [
        "### Bloch Sphere <br>\n",
        "\n",
        "The Bloch sphere is used for the geometric visualization of qubits.\n",
        "\n",
        "![bloch.gif](attachment:bloch.gif)\n",
        "# [Click here for Visulization ](https://javafxpert.github.io/grok-bloch/)\n",
        "\n"
      ]
    },
    {
      "cell_type": "markdown",
      "metadata": {
        "id": "leRWcl4imJ4h"
      },
      "source": [
        "### Depth"
      ]
    },
    {
      "cell_type": "markdown",
      "metadata": {
        "id": "ZIDVWq9JmJ4h"
      },
      "source": [
        "The <b>depth</b> is the number of time steps it takes for a circuit to run, if we do things as in-parallel as possible. Alternatively, you can think of it as the number of layers in a circuit"
      ]
    },
    {
      "cell_type": "markdown",
      "metadata": {
        "id": "vvG3S4XImJ4h"
      },
      "source": [
        "Another enjoyable approach to conceptualize depth is to liken circuit gates to Lego bricks, imagining the structure we would create by assembling them. <br>The resulting length of this structure mirrors the depth of the circuit! For instance, constructing the circuit using the depicted set of gates vividly reveals its depth of 6.\n",
        "\n",
        "<!-- <div style=\"text-align: left;\">\n",
        "<img src=\"fig/depth2.png\" alt=\"Example\" style=\"margin-left: 80px;\"width=\"600\"/>\n",
        "</div> -->\n",
        "\n",
        "![depth2.png](attachment:depth2.png)\n",
        "\n",
        "---"
      ]
    },
    {
      "cell_type": "markdown",
      "metadata": {
        "id": "MQXtcCOUmJ4h"
      },
      "source": [
        "### Measurements"
      ]
    },
    {
      "cell_type": "markdown",
      "metadata": {
        "id": "uA4anaTKmJ4h"
      },
      "source": [
        "The final step of any quantum computation is a measurement of one or more of the qubits, so when a quantum state is measured it probabilistically collapses to one of these states. A measurement is depicted in a circuit as a box with a dial, as shown below.\n",
        "\n",
        "![meas.png](attachment:meas.png)\n",
        "---"
      ]
    },
    {
      "cell_type": "markdown",
      "metadata": {
        "id": "qxA9sOZ9mJ4h"
      },
      "source": [
        "#### <b><font color='red'>Exercise 1.3</font></b>:\n",
        "\n",
        "<style>\n",
        "    .blue {\n",
        "        background-color: #edf6ff;\n",
        "    }\n",
        "</style>\n",
        "\n",
        "<div class=\"blue\">\n",
        "\n",
        "Draw the circuit diagram for a 4-qubit circuit from the following set of instructions: <br> <br>\n",
        "\n",
        "* Initialize all the qubits in $|0\\rangle$ <br>\n",
        "\n",
        "* Apply a circle operation to qubit 2 <br>\n",
        "* Apply a circle operation to qubit 0 <br>\n",
        "* Apply a triangle operation to qubit 1 <br>\n",
        "* Apply a triangle operation to qubit 3 <br>\n",
        "* Apply a rectangle operation between qubits 0 and 1 <br>\n",
        "* Apply a rectangle operation between qubits 1 and 2 <br>\n",
        "* Measure all the qubitsmplete a below function $i.e.$, **apply_unitary** which will give the updated  quantum state afcter apply the given unitary.\n"
      ]
    },
    {
      "cell_type": "markdown",
      "metadata": {
        "id": "ojtVx49JmJ4h"
      },
      "source": [
        "\n",
        "👉 [Use this online sketchpad](https://sketch.io/sketchpad/)\n"
      ]
    },
    {
      "cell_type": "markdown",
      "metadata": {
        "id": "wY-q3wJ0mJ4h"
      },
      "source": [
        "### Install the <b>pennylane</b> package"
      ]
    },
    {
      "cell_type": "code",
      "execution_count": 2,
      "metadata": {
        "colab": {
          "base_uri": "https://localhost:8080/"
        },
        "id": "fpfu1--kmJ4h",
        "outputId": "0498e3e4-6d66-42c8-965e-9b61a538dcc8"
      },
      "outputs": [
        {
          "output_type": "stream",
          "name": "stdout",
          "text": [
            "Collecting pennylane\n",
            "  Downloading PennyLane-0.36.0-py3-none-any.whl (1.7 MB)\n",
            "\u001b[2K     \u001b[90m━━━━━━━━━━━━━━━━━━━━━━━━━━━━━━━━━━━━━━━━\u001b[0m \u001b[32m1.7/1.7 MB\u001b[0m \u001b[31m5.8 MB/s\u001b[0m eta \u001b[36m0:00:00\u001b[0m\n",
            "\u001b[?25hRequirement already satisfied: numpy<2.0 in /usr/local/lib/python3.10/dist-packages (from pennylane) (1.25.2)\n",
            "Requirement already satisfied: scipy in /usr/local/lib/python3.10/dist-packages (from pennylane) (1.11.4)\n",
            "Requirement already satisfied: networkx in /usr/local/lib/python3.10/dist-packages (from pennylane) (3.3)\n",
            "Collecting rustworkx (from pennylane)\n",
            "  Downloading rustworkx-0.14.2-cp310-cp310-manylinux_2_17_x86_64.manylinux2014_x86_64.whl (2.1 MB)\n",
            "\u001b[2K     \u001b[90m━━━━━━━━━━━━━━━━━━━━━━━━━━━━━━━━━━━━━━━━\u001b[0m \u001b[32m2.1/2.1 MB\u001b[0m \u001b[31m33.4 MB/s\u001b[0m eta \u001b[36m0:00:00\u001b[0m\n",
            "\u001b[?25hRequirement already satisfied: autograd in /usr/local/lib/python3.10/dist-packages (from pennylane) (1.6.2)\n",
            "Requirement already satisfied: toml in /usr/local/lib/python3.10/dist-packages (from pennylane) (0.10.2)\n",
            "Collecting appdirs (from pennylane)\n",
            "  Downloading appdirs-1.4.4-py2.py3-none-any.whl (9.6 kB)\n",
            "Collecting semantic-version>=2.7 (from pennylane)\n",
            "  Downloading semantic_version-2.10.0-py2.py3-none-any.whl (15 kB)\n",
            "Collecting autoray>=0.6.1 (from pennylane)\n",
            "  Downloading autoray-0.6.12-py3-none-any.whl (50 kB)\n",
            "\u001b[2K     \u001b[90m━━━━━━━━━━━━━━━━━━━━━━━━━━━━━━━━━━━━━━━━\u001b[0m \u001b[32m51.0/51.0 kB\u001b[0m \u001b[31m4.1 MB/s\u001b[0m eta \u001b[36m0:00:00\u001b[0m\n",
            "\u001b[?25hRequirement already satisfied: cachetools in /usr/local/lib/python3.10/dist-packages (from pennylane) (5.3.3)\n",
            "Collecting pennylane-lightning>=0.36 (from pennylane)\n",
            "  Downloading PennyLane_Lightning-0.36.0-cp310-cp310-manylinux_2_17_x86_64.manylinux2014_x86_64.whl (19.1 MB)\n",
            "\u001b[2K     \u001b[90m━━━━━━━━━━━━━━━━━━━━━━━━━━━━━━━━━━━━━━━━\u001b[0m \u001b[32m19.1/19.1 MB\u001b[0m \u001b[31m33.1 MB/s\u001b[0m eta \u001b[36m0:00:00\u001b[0m\n",
            "\u001b[?25hRequirement already satisfied: requests in /usr/local/lib/python3.10/dist-packages (from pennylane) (2.31.0)\n",
            "Requirement already satisfied: typing-extensions in /usr/local/lib/python3.10/dist-packages (from pennylane) (4.12.2)\n",
            "Requirement already satisfied: future>=0.15.2 in /usr/local/lib/python3.10/dist-packages (from autograd->pennylane) (0.18.3)\n",
            "Requirement already satisfied: charset-normalizer<4,>=2 in /usr/local/lib/python3.10/dist-packages (from requests->pennylane) (3.3.2)\n",
            "Requirement already satisfied: idna<4,>=2.5 in /usr/local/lib/python3.10/dist-packages (from requests->pennylane) (3.7)\n",
            "Requirement already satisfied: urllib3<3,>=1.21.1 in /usr/local/lib/python3.10/dist-packages (from requests->pennylane) (2.0.7)\n",
            "Requirement already satisfied: certifi>=2017.4.17 in /usr/local/lib/python3.10/dist-packages (from requests->pennylane) (2024.6.2)\n",
            "Installing collected packages: appdirs, semantic-version, rustworkx, autoray, pennylane-lightning, pennylane\n",
            "Successfully installed appdirs-1.4.4 autoray-0.6.12 pennylane-0.36.0 pennylane-lightning-0.36.0 rustworkx-0.14.2 semantic-version-2.10.0\n"
          ]
        }
      ],
      "source": [
        "#uncomment the below command and execute it\n",
        "\n",
        "!pip install pennylane"
      ]
    },
    {
      "cell_type": "markdown",
      "metadata": {
        "id": "oxxxymY2mJ4h"
      },
      "source": [
        "#### Import the pennylane package"
      ]
    },
    {
      "cell_type": "code",
      "execution_count": 3,
      "metadata": {
        "id": "MF0-r9uimJ4h"
      },
      "outputs": [],
      "source": [
        "\n",
        "import pennylane as qml\n",
        "\n",
        "## know about the version of pennylane and  different libraray versions used in the pennylane\n",
        "## uncomment the below command and execute it\n",
        "# qml.about()"
      ]
    },
    {
      "cell_type": "markdown",
      "metadata": {
        "id": "KuDg59XhmJ4h"
      },
      "source": [
        "#### Quantum circuits in Pennylane"
      ]
    },
    {
      "cell_type": "markdown",
      "metadata": {
        "id": "pwd3luGDmJ4h"
      },
      "source": [
        "In PennyLane, a quantum circuit is represented by a <b>quantum function</b>. These are just regular Python functions, with some special properties: they must apply one or more quantum operations, and return one or more quantum measurements.<br>\n",
        "\n",
        "Suppose we would like to write a circuit for 2 qubits. By default in PennyLane, qubits (wires) are ordered numerically starting from 0 (which corresponds to the top qubit in the circuit). In pseudocode, a quantum function looks something like this:"
      ]
    },
    {
      "cell_type": "code",
      "execution_count": 4,
      "metadata": {
        "id": "F_QmAffPvSeQ"
      },
      "outputs": [],
      "source": [
        "import numpy as np\n",
        "import pennylane as qml\n",
        "\n",
        "## define the function with name : my_quantum_function\n",
        "## and the function takes input parameter as params\n",
        "\n",
        "def my_quantum_function(params):\n",
        "\n",
        "    # Single-qubit operations with no input parameters\n",
        "    qml.QGate1(wires=0)\n",
        "    qml.QGate2(wires=1)\n",
        "\n",
        "    # A single-qubit operation with an input parameter\n",
        "    qml.QRotaionalGate1(params[0], wires=0)\n",
        "\n",
        "    # Two-qubit operation with no input parameter on wires 0 and 1\n",
        "    qml.TwoQubitGate1(wires=[0, 1])\n",
        "\n",
        "    # Two-qubit operation with an input parameter on wires 0 and 1\n",
        "    qml.TwoQubitGate2(params[1], wires=[0, 1])\n",
        "\n",
        "    # Return the result of a measurement\n",
        "    return qml.Measurement(wires=[0, 1])"
      ]
    },
    {
      "cell_type": "markdown",
      "metadata": {
        "id": "mlqgFpTMmJ4i"
      },
      "source": []
    },
    {
      "cell_type": "markdown",
      "metadata": {
        "id": "BFhWUUmBmJ4i"
      },
      "source": [
        "#### <b><font color='red'>Exercise 1.4</font></b>:\n",
        "\n",
        "\n",
        "\n",
        "Write an function with the help of pennylane for the below circuit <br> <br>\n",
        "\n",
        "\n",
        "![op_12.png](attachment:op_12.png)\n",
        "\n",
        "Reference : Checkout the qml module as it is the top level module from which all basic functions and classes of PennyLane can be directly imported.<br>\n",
        "\n",
        "\n"
      ]
    },
    {
      "cell_type": "markdown",
      "metadata": {
        "id": "cB4ZMgzdmJ4i"
      },
      "source": [
        "\n",
        "[👉 👉 Click here for reference ✋](https://docs.pennylane.ai/en/stable/code/qml.html)\n",
        "\n"
      ]
    },
    {
      "cell_type": "code",
      "execution_count": 5,
      "metadata": {
        "colab": {
          "base_uri": "https://localhost:8080/",
          "height": 355
        },
        "id": "fj2W0EcvmJ4i",
        "outputId": "f9b50da9-3cec-4abc-e21d-7ea86e4c8e14"
      },
      "outputs": [
        {
          "output_type": "execute_result",
          "data": {
            "text/plain": [
              "(<Figure size 600x300 with 1 Axes>, <Axes: >)"
            ]
          },
          "metadata": {},
          "execution_count": 5
        },
        {
          "output_type": "display_data",
          "data": {
            "text/plain": [
              "<Figure size 600x300 with 1 Axes>"
            ],
            "image/png": "[encoded data removed]"
          },
          "metadata": {}
        }
      ],
      "source": [
        "import pennylane as qml # Importing the PennyLane library\n",
        "import numpy as np  # Importing the NumPy library\n",
        "\n",
        "\n",
        "theta = [0.5]\n",
        "\n",
        "def my_first_circuit(theta):\n",
        "\n",
        "\n",
        "    qml.Hadamard(wires=0)\n",
        "    qml.CNOT(wires=[0,1])\n",
        "    qml.RZ(theta, wires=0)\n",
        "    qml.Hadamard(wires=1)\n",
        "\n",
        "\n",
        "    return qml.probs(wires = [0,1])\n",
        "\n",
        "# Check the output of the function for a particular input\n",
        "dev = qml.device('default.qubit', wires=[0,1])\n",
        "my = qml.QNode(my_first_circuit, dev)\n",
        "qml.draw_mpl(my)(theta)\n"
      ]
    },
    {
      "cell_type": "markdown",
      "metadata": {
        "id": "xmQwJF-QmJ4i"
      },
      "source": [
        "---\n",
        "\n",
        "### Devices and QNodes\n",
        "\n",
        "\n",
        "In PennyLane, a quantum function alone isn't enough to run and execute a circuit. For this we need two extra parts:\n",
        "\n",
        "![QNode.png](attachment:QNode.png)\n",
        "\n",
        "* a device to run the circuit on\n",
        "* a QNode, which binds the circuit to the device, and executes it\n",
        "\n",
        "In this book, our devices will be <b>quantum simulators</b>, but PennyLane provides plugins that enable us to run on real quantum hardware as well! To construct a device in PennyLane, we need to know the name or type of the device, and the number of qubits (wires) it has:"
      ]
    },
    {
      "cell_type": "markdown",
      "metadata": {
        "id": "qKCXunasmJ4i"
      },
      "source": [
        "<!-- <div style=\"text-align: left;\">\n",
        "<img src=\"fig/device_q.png\" alt=\"Example\" style=\"margin-left: 80px;\"width=\"500\"/>\n",
        "</div> -->\n",
        "\n",
        "![device_q.png](attachment:device_q.png)\n",
        "\n",
        "[Click here to know about the devices more and plugins](https://pennylane.ai/plugins/)\n",
        "\n",
        "#### Example:\n",
        "\n",
        "dev = qml.device('default.qubit', wires=[\"wire_a\", \"wire_b\"])\n",
        "\n",
        "Unless stated otherwise, we will always be using the **default.qubit** device, which is a standard quantum simulator. You can also give string labels to the wires on a device."
      ]
    },
    {
      "cell_type": "markdown",
      "metadata": {
        "id": "JpnsB_GrmJ4i"
      },
      "source": [
        "Once we have a device, we can construct a [QNode](https://docs.pennylane.ai/en/stable/code/api/pennylane.QNode.html). QNodes are the main unit of quantum computation in PennyLane."
      ]
    },
    {
      "cell_type": "code",
      "execution_count": null,
      "metadata": {
        "id": "RtQv-7eimJ4i",
        "outputId": "486a738f-2e1d-400b-a4bd-bba1166b78a7"
      },
      "outputs": [
        {
          "data": {
            "text/plain": [
              "(<Figure size 600x400 with 1 Axes>, <Axes: >)"
            ]
          },
          "execution_count": 19,
          "metadata": {},
          "output_type": "execute_result"
        },
        {
          "data": {
            "image/png": "[encoded data removed]",
            "text/plain": [
              "<Figure size 600x400 with 1 Axes>"
            ]
          },
          "metadata": {},
          "output_type": "display_data"
        }
      ],
      "source": [
        "import pennylane as qml\n",
        "\n",
        "\n",
        "dev = qml.device('default.qubit', wires = [0,1,2])\n",
        "\n",
        "theta = [0.54]\n",
        "def my_first_circuit(theta):\n",
        "    qml.CNOT(wires = [1,2])\n",
        "    qml.Hadamard(wires = 0)\n",
        "    qml.CNOT(wires = [0,1])\n",
        "    qml.RZ(theta, wires = 0)\n",
        "    qml.Hadamard(wires = 1)\n",
        "    return qml.probs(wires = [0,1,2])\n",
        "\n",
        "my_first_QNode = qml.QNode(my_first_circuit, dev)\n",
        "\n",
        "qml.draw_mpl(my_first_QNode)(theta)"
      ]
    },
    {
      "cell_type": "markdown",
      "metadata": {
        "id": "ugW3KQdAmJ4j"
      },
      "source": [
        "### Decorators\n",
        "\n",
        "Decorators are fucntions which will take fucntions and build on the top of that functions. See the below figure  \n",
        "\n",
        "![decorator.png](attachment:decorator.png)\n",
        "\n",
        "It Decorate a quantum function with **@qml.qnode(dev)**, will automatically produce a QNode with the same name as your function that can be run on the device dev. <br>\n",
        "\n"
      ]
    },
    {
      "cell_type": "code",
      "execution_count": null,
      "metadata": {
        "id": "ZJaM-FNzmJ4j",
        "outputId": "98ec700f-6317-45bb-b067-e6967c7f8fcf"
      },
      "outputs": [
        {
          "data": {
            "text/plain": [
              "(<Figure size 600x300 with 1 Axes>, <Axes: >)"
            ]
          },
          "execution_count": 33,
          "metadata": {},
          "output_type": "execute_result"
        },
        {
          "data": {
            "image/png": "[encoded data removed]",
            "text/plain": [
              "<Figure size 600x300 with 1 Axes>"
            ]
          },
          "metadata": {},
          "output_type": "display_data"
        }
      ],
      "source": [
        "import pennylane as qml\n",
        "import numpy as np\n",
        "\n",
        "dev = qml.device('default.qubit', wires = [0,1])\n",
        "\n",
        "@qml.qnode(dev)  ## This is how we define the decorator for the QNode\n",
        "\n",
        "def my_first_circuit1(theta):\n",
        "\n",
        "    qml.Hadamard(wires = 0)\n",
        "    qml.CNOT(wires = [0,1])\n",
        "    qml.RZ(theta, wires = 0)\n",
        "\n",
        "    return qml.probs(wires = [0,1])\n",
        "\n",
        "theta =[0.2,0.2]\n",
        "my_first_QNode1 = my_first_circuit1 ## ## No need to write QNode again as we have defined the decorator above\n",
        "qml.draw_mpl(my_first_QNode1)(theta)"
      ]
    },
    {
      "cell_type": "markdown",
      "metadata": {
        "id": "9pzLzuRymJ4j"
      },
      "source": [
        "---"
      ]
    },
    {
      "cell_type": "markdown",
      "metadata": {
        "id": "qjPF0a_NmJ4j"
      },
      "source": [
        "### Measurement"
      ]
    },
    {
      "cell_type": "markdown",
      "metadata": {
        "id": "-7UlyItVmJ4j"
      },
      "source": [
        "Measurement in quantum computing involves observing the state of qubits, collapsing their superposition into definite states. This process is probabilistic, meaning outcomes depend on the qubits' probability amplitudes. Accurate measurement is crucial for extracting meaningful results from quantum computations. <br>\n",
        "\n",
        "**Quantum Mechanics Posulate:**\n",
        "\n",
        "Quantum measurements are described by a collection ${M_m}$ of\n",
        "$measurement \\ operators$. These are operators acting on the state space of the\n",
        "system being measured. The index m refers to the measurement outcomes that\n",
        "may occur in the experiment. If the state of the quantum system is $|{\\psi}\\rangle$\n",
        "immediately before the measurement then the probability that result m occurs is given by\n",
        "\n",
        "* $p(m) = \\langle{\\psi}|M^\\dagger_mM_m|{\\psi}\\rangle$  <br>\n",
        "\n",
        "and the state of the system after the measurement is <br>\n",
        "\n",
        "* $\\dfrac{M_m|{\\psi}\\rangle}{\\sqrt{\\langle{\\psi}|M^\\dagger_mM_m|{\\psi}\\rangle}}$ <br>\n",
        "\n",
        "and the measrement operators satify the $completeness \\ equation,$ <br>\n",
        "\n",
        "* $\\sum_{m} M_m^\\dagger M_m = I$"
      ]
    },
    {
      "cell_type": "markdown",
      "metadata": {
        "id": "K3C3FGXpmJ4j"
      },
      "source": [
        "### Pennylane playground\n",
        "\n",
        "1: To get the probabilities of each computational basis state, remember $Z$ basis is the computational basis in quantum computing."
      ]
    },
    {
      "cell_type": "code",
      "execution_count": null,
      "metadata": {
        "id": "UPTCQt5RmJ4j",
        "outputId": "382e691f-16fb-4f0c-8c49-ca34ce7baa2b"
      },
      "outputs": [
        {
          "name": "stdout",
          "output_type": "stream",
          "text": [
            "[0.5 0.5]\n"
          ]
        },
        {
          "data": {
            "text/plain": [
              "(<Figure size 400x200 with 1 Axes>, <Axes: >)"
            ]
          },
          "execution_count": 45,
          "metadata": {},
          "output_type": "execute_result"
        },
        {
          "data": {
            "image/png": "[encoded data removed]",
            "text/plain": [
              "<Figure size 400x200 with 1 Axes>"
            ]
          },
          "metadata": {},
          "output_type": "display_data"
        }
      ],
      "source": [
        "import pennylane as qml\n",
        "\n",
        "dev = qml.device(\"default.qubit\", wires=0)\n",
        "@qml.qnode(dev)\n",
        "\n",
        "def circuit_Z():\n",
        "    qml.Hadamard(wires=0)\n",
        "    return qml.probs(wires=0)\n",
        "\n",
        "# op=qml.Hadamard\n",
        "print(circuit_Z())\n",
        "\n",
        "qml.draw_mpl(circuit_Z)()  # As no arugument is there in the circuit_Z function, we can call it with ()"
      ]
    },
    {
      "cell_type": "markdown",
      "metadata": {
        "id": "ezU3toO9mJ4j"
      },
      "source": [
        "**Example**\n",
        "\n",
        "Take two measurement operators $M_{1} = |{+}\\rangle\\langle{+}|$ and $M_{2} = |{-}\\rangle \\langle{-}|$ such that they will satisfy the completeness equation.<br>\n",
        "where as $|{+}\\rangle = \\dfrac{1}{\\sqrt{2}}\\begin{bmatrix} 1 \\\\ 1 \\end{bmatrix}$ and $|{-}\\rangle = \\dfrac{1}{\\sqrt{2}}\\begin{bmatrix} 1 \\\\ -1 \\end{bmatrix}$. <br>\n",
        "\n",
        "* $M_1 = \\dfrac{1}{2}\\begin{bmatrix} 1 & 1 \\\\ 1 & 1 \\end{bmatrix} $ and $M_2 = \\dfrac{1}{2}\\begin{bmatrix} 1 & -1 \\\\ -1 & 1 \\end{bmatrix} $\n",
        "\n",
        "* Quantum state $|{\\psi}\\rangle = \\dfrac{1}{\\sqrt{2}} (|{0}\\rangle + |{1}\\rangle) $ we want to measure in $X$ basis $(|{+}\\rangle, |{-}\\rangle)$ means with measurement operators $M_1$ and $M_2$ who's corresponding eigen values will be $+1$ and $-1$. <br>\n",
        "\n",
        "* $p(+1) =  \\langle{\\psi}|M^\\dagger_1M_1|{\\psi}\\rangle \\\\\n",
        " \\ \\ \\ \\ \\ \\ \\ \\ \\ \\ \\ \\  = \\dfrac{1}{\\sqrt{2}}\\begin{bmatrix} 1 & 1 \\end{bmatrix} \\dfrac{1}{2}\\begin{bmatrix} 1 & 1 \\\\ 1 & 1  \\end{bmatrix} \\dfrac{1}{2}\\begin{bmatrix} 1 & 1\\\\ 1 & 1 \\end{bmatrix} \\dfrac{1}{\\sqrt{2}}\\begin{bmatrix} 1 \\\\ 1 \\end{bmatrix} \\\\\n",
        "  \\ \\ \\ \\ \\ \\ \\ \\ \\ \\ \\ \\ = \\dfrac{1}{2} $  <br>\n",
        "\n",
        "* State after measurement = $ \\dfrac{M_1|{\\psi\\rangle}}{\\sqrt{p(+1)}}$ $\\rightarrow \\dfrac{1}{\\sqrt{2}}\\begin{bmatrix} 1 \\\\ 1 \\end{bmatrix}  = |{+}\\rangle $\n",
        "\n",
        "Similary $p(-1) = \\dfrac{1}{2}$ and state after measurement will be $|{-}\\rangle$"
      ]
    },
    {
      "cell_type": "markdown",
      "metadata": {
        "id": "5bUVYvFEmJ4j"
      },
      "source": [
        "Now if want to measure in $X$ basis then we can use the below code"
      ]
    },
    {
      "cell_type": "code",
      "execution_count": null,
      "metadata": {
        "id": "YEmWn7SUmJ4j",
        "outputId": "1f8e8f7d-ac5d-4fc7-b611-df7bc26919eb"
      },
      "outputs": [
        {
          "name": "stdout",
          "output_type": "stream",
          "text": [
            "[1. 0.]\n"
          ]
        },
        {
          "data": {
            "text/plain": [
              "(<Figure size 400x200 with 1 Axes>, <Axes: >)"
            ]
          },
          "execution_count": 46,
          "metadata": {},
          "output_type": "execute_result"
        },
        {
          "data": {
            "image/png": "[encoded data removed]",
            "text/plain": [
              "<Figure size 400x200 with 1 Axes>"
            ]
          },
          "metadata": {},
          "output_type": "display_data"
        }
      ],
      "source": [
        "import pennylane as qml\n",
        "dev = qml.device(\"default.qubit\", wires=1)\n",
        "\n",
        "@qml.qnode(dev)\n",
        "def circuit_X():\n",
        "    qml.Hadamard(wires=0)\n",
        "    return qml.probs(op=qml.PauliX(wires=0)) #use it to change the basis of the quantum state 6t\n",
        "\n",
        "# op=qml.Hadamard\n",
        "print(circuit_X())\n",
        "qml.draw_mpl(circuit_X)()"
      ]
    },
    {
      "cell_type": "markdown",
      "metadata": {
        "id": "PvNPV39gmJ4k"
      },
      "source": [
        "#### <b><font color='red'>Exercise 1.5</font></b>:\n",
        "\n",
        "\n",
        "\n",
        "\n",
        "<div class=\"blue\">\n",
        "\n",
        "Write an function with the help of pennylane for the below circuit where meaasurement will done in PauliY basis in qubit 1 and X measurement will be done in qubit 2.\n",
        "\n",
        "![exercise_1.5.png](attachment:exercise_1.5.png)\n",
        "\n",
        "\n",
        "\n"
      ]
    },
    {
      "cell_type": "markdown",
      "metadata": {
        "id": "fCo2mAiPmJ4k"
      },
      "source": [
        "\n",
        "[👉 👉 Click here for reference ✋](https://docs.pennylane.ai/en/stable/introduction/measurements.html)"
      ]
    },
    {
      "cell_type": "code",
      "execution_count": null,
      "metadata": {
        "id": "vkJzmf0-mJ4k"
      },
      "outputs": [],
      "source": [
        "import pennylane as qml\n",
        "dev = qml.device(\"default.qubit\", wires=[0,1,2])\n",
        "\n",
        "@qml.qnode(dev)\n",
        "# U1 = qml.PauliX(0) @ qml.PauliX(1)\n",
        "\n",
        "# obs = [qml.Hadamard(1) @ qml.Hadamard(2)]\n",
        "#\n",
        "def test_circuit(theta1, theta2):\n",
        "\n",
        "    ## Write for code for the circuit\n",
        "    ## Applu theta1 on RY(0) and theta2 on RZ(1)\n",
        "\n",
        "    return              #  Hint:  op = pauli_op1 @ paili_op2 with their corresponding wire\n",
        "\n",
        "# op=qml.Hadamard\n",
        "t1 = 0.5\n",
        "t2 = 0.4\n",
        "\n",
        "\n",
        "print(test_circuit(t1, t2))\n",
        "qml.draw_mpl(test_circuit)(t1,t2)"
      ]
    },
    {
      "cell_type": "markdown",
      "metadata": {
        "id": "Dss2PAATmJ4k"
      },
      "source": [
        "# THANK YOU. Have a nice day."
      ]
    }
  ],
  "metadata": {
    "colab": {
      "provenance": [],
      "include_colab_link": true
    },
    "kernelspec": {
      "display_name": "Python 3 (ipykernel)",
      "language": "python",
      "name": "python3"
    },
    "language_info": {
      "codemirror_mode": {
        "name": "ipython",
        "version": 3
      },
      "file_extension": ".py",
      "mimetype": "text/x-python",
      "name": "python",
      "nbconvert_exporter": "python",
      "pygments_lexer": "ipython3",
      "version": "3.12.3"
    }
  },
  "nbformat": 4,
  "nbformat_minor": 0
}