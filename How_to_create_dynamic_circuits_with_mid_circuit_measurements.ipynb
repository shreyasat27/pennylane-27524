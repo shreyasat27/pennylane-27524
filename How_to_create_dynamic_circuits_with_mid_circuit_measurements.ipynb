{
  "nbformat": 4,
  "nbformat_minor": 0,
  "metadata": {
    "colab": {
      "provenance": [],
      "authorship_tag": "ABX9TyN2KlspW3nOUREwqDlHGgVy",
      "include_colab_link": true
    },
    "kernelspec": {
      "name": "python3",
      "display_name": "Python 3"
    },
    "language_info": {
      "name": "python"
    }
  },
  "cells": [
    {
      "cell_type": "markdown",
      "metadata": {
        "id": "view-in-github",
        "colab_type": "text"
      },
      "source": [
        "<a href=\"https://colab.research.google.com/github/shreyasat27/pennylane-27524/blob/main/How_to_create_dynamic_circuits_with_mid_circuit_measurements.ipynb\" target=\"_parent\"><img src=\"https://colab.research.google.com/assets/colab-badge.svg\" alt=\"Open In Colab\"/></a>"
      ]
    },
    {
      "cell_type": "markdown",
      "source": [
        "So the application of mid-circuit measurement are so may for example, in quantum teleportation, error correction, error mitigation, and others.\n",
        "\n",
        "Before going into these topics, it is important to familiarize onesef with the syntax and features in mid-circuit measurements(MCMs).\n",
        "\n",
        "In this tutorials, we will work in dynamic quantum circuits that use control flow based MCMs."
      ],
      "metadata": {
        "id": "jWCcM3VuL_wM"
      }
    },
    {
      "cell_type": "markdown",
      "source": [
        "***Dynamic circuit with a single MCM and conditional***\n",
        "\n",
        "We start with a minimal dynamic circuit on two qubits.\n",
        "\n",
        "1. It rotates one qubit about the X-axis and applies a phase to the other qubit using a T gate.\n",
        "\n",
        "2. Both qubits are entangled with a CNOT gate.\n",
        "\n",
        "3. The second qubit is measured with measure().\n",
        "\n",
        "4. If we measured a 1 in the previous step, an S gate is applied to the first qubit. This conditioned operation is realized with cond().\n",
        "\n",
        "5. Finally, the expectation value of the Pauli Y operator on the first qubit is returned."
      ],
      "metadata": {
        "id": "oyxAOubWMl7H"
      }
    },
    {
      "cell_type": "code",
      "source": [
        " !pip install pennylane --quiet"
      ],
      "metadata": {
        "id": "AzAV6CLGN1xG"
      },
      "execution_count": 19,
      "outputs": []
    },
    {
      "cell_type": "code",
      "execution_count": 20,
      "metadata": {
        "colab": {
          "base_uri": "https://localhost:8080/"
        },
        "id": "uMmH-II9G8Le",
        "outputId": "c8000184-f85a-4560-9958-08064d0d2712"
      },
      "outputs": [
        {
          "output_type": "stream",
          "name": "stdout",
          "text": [
            "0.0\n"
          ]
        }
      ],
      "source": [
        "import pennylane as qml\n",
        "import numpy as np\n",
        "\n",
        "dev = qml.device(\"lightning.qubit\", wires=2)\n",
        "\n",
        "@qml.qnode(dev, interface=\"numpy\")\n",
        "def circuit(x):\n",
        "  qml.RX(x, wires=0)\n",
        "  qml.T(wires=1)\n",
        "  qml.CNOT(wires = [0,1])\n",
        "  mcm = qml.measure(1)\n",
        "  qml.cond(mcm,qml.S)(wires=0)\n",
        "\n",
        "  return qml.expval(qml.Y(0))\n",
        "\n",
        "\n",
        "x = 1.5\n",
        "print(circuit(x))"
      ]
    },
    {
      "cell_type": "markdown",
      "source": [
        "***How to dynamically prepare half-filled basis states***\n",
        "\n",
        "We now turn to a more complex example of a dynamic circuit. We will build a circuit that non-deterministically initializes half-filled computational basis states, i.e., basis states with as many 1s as 0s."
      ],
      "metadata": {
        "id": "IqCPxANdQ-CF"
      }
    },
    {
      "cell_type": "code",
      "source": [
        "def init_state(x):\n",
        "  #rotate the first three qubits\n",
        "  for w in range(3):\n",
        "    qml.RX(x[w],w)\n",
        "\n",
        "  qml.CNOT([0,1])\n",
        "  qml.CNOT([1,2])\n",
        "  qml.CNOT([2,0])\n",
        "\n",
        ""
      ],
      "metadata": {
        "id": "KDe_nSWuWCCj"
      },
      "execution_count": 21,
      "outputs": []
    },
    {
      "cell_type": "markdown",
      "source": [
        "With this subroutine in our hands, let’s define the full QNode. For this, we also create a shot-based device.\n",
        "\n"
      ],
      "metadata": {
        "id": "9bkAkHH_XLav"
      }
    },
    {
      "cell_type": "code",
      "source": [
        "shots = 100\n",
        "dev = qml.device(\"default.qubit\", shots=shots)\n",
        "\n",
        "\n",
        "@qml.qnode(dev)\n",
        "def create_half_filled_state(x):\n",
        "  init_state(x)\n",
        "  for w in range(3):\n",
        "    #measure one qubit at a time and flip another, fresh qubit if measured 0\n",
        "    mcm=qml.measure(w)\n",
        "    qml.cond(~mcm, qml.X)(w+3) #this applied a conditional operation, if measurement result mcm is 0, it applies an X gate to the qubit at wire 'w+3'. Essentially it flips the state of qubits 3,4 and 5 if qubits 0,1 adn 2 are measured to be in state 0\n",
        "\n",
        "  return qml.counts(wires=range(6))\n"
      ],
      "metadata": {
        "id": "SKTrnS0kXL70"
      },
      "execution_count": 22,
      "outputs": []
    },
    {
      "cell_type": "markdown",
      "source": [
        "Before running this QNode, let's sample some random input parameters and draw the circuit"
      ],
      "metadata": {
        "id": "UxO3kQ5DYqew"
      }
    },
    {
      "cell_type": "code",
      "source": [
        "np.random.seed(652)\n",
        "\n",
        "x=np.random.random(3)*np.pi\n",
        "\n",
        "print(qml.draw(create_half_filled_state)(x))\n"
      ],
      "metadata": {
        "colab": {
          "base_uri": "https://localhost:8080/"
        },
        "id": "PxelE5pOY1Y4",
        "outputId": "142cb3a0-6569-4a67-f4d7-9c0361bf320f"
      },
      "execution_count": 23,
      "outputs": [
        {
          "output_type": "stream",
          "name": "stdout",
          "text": [
            "0: ──RX(1.33)─╭●────╭X──┤↗├────────────────────┤ ╭Counts\n",
            "1: ──RX(1.63)─╰X─╭●─│────║──────┤↗├────────────┤ ├Counts\n",
            "2: ──RX(0.92)────╰X─╰●───║───────║──────┤↗├────┤ ├Counts\n",
            "3: ──────────────────────║───X───║───────║─────┤ ├Counts\n",
            "4: ──────────────────────║───║───║───X───║─────┤ ├Counts\n",
            "5: ──────────────────────║───║───║───║───║───X─┤ ╰Counts\n",
            "                         ╚═══╝   ║   ║   ║   ║          \n",
            "                                 ╚═══╝   ║   ║          \n",
            "                                         ╚═══╝          \n"
          ]
        }
      ]
    },
    {
      "cell_type": "markdown",
      "source": [
        "We see an initial block of gates that prepares the starting state on the first three qubits, followed by pairs of measurements and conditional bit flips, applied to pairs of qubits.\n",
        "\n"
      ],
      "metadata": {
        "id": "rpk9RfyAZDHB"
      }
    },
    {
      "cell_type": "code",
      "source": [
        "counts = create_half_filled_state(x)\n",
        "print(f\"sampled bit strings:\\n{list(counts.keys())}\")"
      ],
      "metadata": {
        "colab": {
          "base_uri": "https://localhost:8080/"
        },
        "id": "PBt1MGbwZD62",
        "outputId": "593cf8bc-0640-4e5c-e56e-aa4710556704"
      },
      "execution_count": 24,
      "outputs": [
        {
          "output_type": "stream",
          "name": "stdout",
          "text": [
            "sampled bit strings:\n",
            "['000111', '001110', '010101', '011100', '100011', '101010', '110001', '111000']\n"
          ]
        }
      ]
    },
    {
      "cell_type": "markdown",
      "source": [
        "Indeed, we created half-filled computational basis states, each with its own probability:"
      ],
      "metadata": {
        "id": "pkLJB41xZe4Z"
      }
    },
    {
      "cell_type": "code",
      "source": [
        "print(\"The probabilities for the bit strings are:\")\n",
        "for key, val in counts.items():\n",
        "    print(f\"    {key}: {val/shots*100:4.1f} %\")"
      ],
      "metadata": {
        "colab": {
          "base_uri": "https://localhost:8080/"
        },
        "id": "cuoBjpJYZfWU",
        "outputId": "50107a93-beff-4dc1-c288-eb0cbfa8aa59"
      },
      "execution_count": 25,
      "outputs": [
        {
          "output_type": "stream",
          "name": "stdout",
          "text": [
            "The probabilities for the bit strings are:\n",
            "    000111: 24.0 %\n",
            "    001110:  3.0 %\n",
            "    010101:  5.0 %\n",
            "    011100: 16.0 %\n",
            "    100011: 15.0 %\n",
            "    101010:  8.0 %\n",
            "    110001:  3.0 %\n",
            "    111000: 26.0 %\n"
          ]
        }
      ]
    },
    {
      "cell_type": "markdown",
      "source": [
        "***Postselecting dynamically prepared states***\n",
        "\n",
        "We can select only some of these half-filled states by postselecting on measurement outcomes:\n",
        "\n"
      ],
      "metadata": {
        "id": "IMUNAhWltejJ"
      }
    },
    {
      "cell_type": "code",
      "source": [
        "@qml.qnode(dev)\n",
        "def postselect_half_filled_state(x, selection):\n",
        "  init_state(x)\n",
        "  for w in range(3):\n",
        "    #post select the measured qubit to match the selection criterion\n",
        "    mcm=qml.measure(w, postselect = selection[w])\n",
        "    qml.cond(~mcm, qml.X)(w+3)\n",
        "\n",
        "  return qml.counts(wires=range(6))"
      ],
      "metadata": {
        "id": "tDB9j0b1xR7k"
      },
      "execution_count": 29,
      "outputs": []
    },
    {
      "cell_type": "markdown",
      "source": [
        "As an example, suppose we wanted half-filled states that have a 0 in the first and a 1 in the third position. We do not postselect on the second qubit, which we can indicate by passing None to the postselect argument of measure(). Again, before running the circuit, let's draw it first:"
      ],
      "metadata": {
        "id": "yL4-5W4O0KN7"
      }
    },
    {
      "cell_type": "code",
      "source": [
        "selection = [0, None, 1]\n",
        "print(qml.draw(postselect_half_filled_state)(x, selection))"
      ],
      "metadata": {
        "colab": {
          "base_uri": "https://localhost:8080/"
        },
        "id": "cWmvj3Hc0PYM",
        "outputId": "b8e4ab4f-610b-48dc-af4c-41efe52a70d6"
      },
      "execution_count": 30,
      "outputs": [
        {
          "output_type": "stream",
          "name": "stdout",
          "text": [
            "0: ──RX(1.33)─╭●────╭X──┤↗₀├─────────────────────┤ ╭Counts\n",
            "1: ──RX(1.63)─╰X─╭●─│────║───────┤↗├─────────────┤ ├Counts\n",
            "2: ──RX(0.92)────╰X─╰●───║────────║──────┤↗₁├────┤ ├Counts\n",
            "3: ──────────────────────║────X───║───────║──────┤ ├Counts\n",
            "4: ──────────────────────║────║───║───X───║──────┤ ├Counts\n",
            "5: ──────────────────────║────║───║───║───║────X─┤ ╰Counts\n",
            "                         ╚════╝   ║   ║   ║    ║          \n",
            "                                  ╚═══╝   ║    ║          \n",
            "                                          ╚════╝          \n"
          ]
        }
      ]
    },
    {
      "cell_type": "markdown",
      "source": [
        "Note the indicated postselection values next to the drawn MCMs.\n",
        "\n",
        "Time to run the postselecting circuit:"
      ],
      "metadata": {
        "id": "AbhP3xUN0SXb"
      }
    },
    {
      "cell_type": "code",
      "source": [
        "counts = postselect_half_filled_state(x, selection)\n",
        "postselected_shots = sum(counts.values())\n",
        "\n",
        "print(f\"Obtained {postselected_shots} out of {shots} samples after postselection.\")\n",
        "print(\"The probabilities for the postselected bit strings are:\")\n",
        "for key, val in counts.items():\n",
        "    print(f\"    {key}: {val/postselected_shots*100:4.1f} %\")"
      ],
      "metadata": {
        "colab": {
          "base_uri": "https://localhost:8080/"
        },
        "id": "tIZ42yhu0Uh9",
        "outputId": "09139489-dddb-4817-9a9d-ebc5294b8791"
      },
      "execution_count": 31,
      "outputs": [
        {
          "output_type": "stream",
          "name": "stdout",
          "text": [
            "Obtained 17 out of 100 samples after postselection.\n",
            "The probabilities for the postselected bit strings are:\n",
            "    001110: 35.3 %\n",
            "    011100: 64.7 %\n"
          ]
        }
      ]
    },
    {
      "cell_type": "markdown",
      "source": [
        "We successfully postselected on the desired properties of the computational basis state. Note that the number of returned samples is reduced, because those samples that do not meet the postselection criteria are discarded entirely.\n",
        "\n"
      ],
      "metadata": {
        "id": "7ydFn4Ge0Yso"
      }
    },
    {
      "cell_type": "markdown",
      "source": [
        "***Dynamically correct quantum states***\n",
        "\n",
        "If we do not want to postselect the prepared states but still would like to guarantee some of the qubits to be in a selected state, we can instead flip the corresponding pairs of bits if we measured the undesired state:\n",
        "\n"
      ],
      "metadata": {
        "id": "rhHNFEd60aGd"
      }
    },
    {
      "cell_type": "code",
      "source": [
        "@qml.qnode(dev)\n",
        "def create_selected_half_filled_state(x, selection):\n",
        "  init_state(x)\n",
        "  all_mcms =[]\n",
        "  for w in range(3):\n",
        "    #don't postselect on the selection criterion, but store the MCM for later\n",
        "    mcm = qml.measure(w)\n",
        "    qml.cond(~mcm, qml.X)(w+3)\n",
        "    all_mcms.append(mcm)\n",
        "\n",
        "  for w, sel, mcm in zip(range(3), selection, all_mcms):\n",
        "    # If the postselection criterion is not None, flip the corresponding pair\n",
        "    # of qubits conditioned on the mcm not satisfying the selection criterion\n",
        "    if sel is not None:\n",
        "      qml.cond(mcm !=sel, qml.X)(w)\n",
        "      qml.cond(mcm !=sel, qml.X)(w+3)\n",
        "\n",
        "  return qml.counts(wires=range(6))\n",
        "\n",
        "\n",
        "print(qml.draw(create_selected_half_filled_state)(x,selection))\n",
        "\n",
        "\n"
      ],
      "metadata": {
        "colab": {
          "base_uri": "https://localhost:8080/"
        },
        "id": "S1hGPeC20ZeX",
        "outputId": "3799c2a2-35f8-451a-ce93-181adeb386c3"
      },
      "execution_count": 32,
      "outputs": [
        {
          "output_type": "stream",
          "name": "stdout",
          "text": [
            "0: ──RX(1.33)─╭●────╭X──┤↗├─────────────────────X──────────┤ ╭Counts\n",
            "1: ──RX(1.63)─╰X─╭●─│────║──────┤↗├─────────────║──────────┤ ├Counts\n",
            "2: ──RX(0.92)────╰X─╰●───║───────║──────┤↗├─────║─────X────┤ ├Counts\n",
            "3: ──────────────────────║───X───║───────║──────║──X──║────┤ ├Counts\n",
            "4: ──────────────────────║───║───║───X───║──────║──║──║────┤ ├Counts\n",
            "5: ──────────────────────║───║───║───║───║───X──║──║──║──X─┤ ╰Counts\n",
            "                         ╚═══╩═══║═══║═══║═══║══╩══╝  ║  ║          \n",
            "                                 ╚═══╝   ║   ║        ║  ║          \n",
            "                                         ╚═══╩════════╩══╝          \n"
          ]
        }
      ]
    },
    {
      "cell_type": "markdown",
      "source": [
        "We can see how the measured values are fed not only into the original conditioned operation, but also into the two additional bit flips for our “correction” procedure, as long as the selection criterion is not None. Let’s execute the circuit:\n",
        "\n"
      ],
      "metadata": {
        "id": "4b3SwVua1wLf"
      }
    },
    {
      "cell_type": "code",
      "source": [
        "counts = create_selected_half_filled_state(x, selection)\n",
        "selected_shots = sum(counts.values())\n",
        "\n",
        "print(f\"Obtained all {selected_shots} of {shots} samples because we did not postselect\")\n",
        "print(\"The probabilities for the selected bit strings are:\")\n",
        "for key, val in counts.items():\n",
        "    print(f\"    {key}: {val/selected_shots*100:4.1f} %\")"
      ],
      "metadata": {
        "colab": {
          "base_uri": "https://localhost:8080/"
        },
        "id": "pWXAVzi31xaI",
        "outputId": "a0af7e20-c789-430a-ecde-522e96094c18"
      },
      "execution_count": 33,
      "outputs": [
        {
          "output_type": "stream",
          "name": "stdout",
          "text": [
            "Obtained all 100 of 100 samples because we did not postselect\n",
            "The probabilities for the selected bit strings are:\n",
            "    001110: 51.0 %\n",
            "    011100: 49.0 %\n"
          ]
        }
      ]
    },
    {
      "cell_type": "markdown",
      "source": [
        "Note that we kept all samples because we did not postselect, and that (in this particular case) this evened out the probabilities of measuring either of the two possible bit strings. Also, note that we conditionally applied the bit flip operators qml.X by comparing an MCM result to the corresponding selection criterion (mcm!=sel). More generally, MCM results in PennyLane can be processed with standard arithmetic operations. For details, see the introduction to MCMs and the documentation of measure().\n",
        "\n",
        "And this is how to create dynamic circuits in PennyLane with mid-circuit measurements!"
      ],
      "metadata": {
        "id": "eQZ5rV7T11pv"
      }
    }
  ]
}