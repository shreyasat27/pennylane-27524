{
  "nbformat": 4,
  "nbformat_minor": 0,
  "metadata": {
    "colab": {
      "provenance": [],
      "authorship_tag": "ABX9TyPbIAeq0zwu4TKa08DnpSAh",
      "include_colab_link": true
    },
    "kernelspec": {
      "name": "python3",
      "display_name": "Python 3"
    },
    "language_info": {
      "name": "python"
    }
  },
  "cells": [
    {
      "cell_type": "markdown",
      "metadata": {
        "id": "view-in-github",
        "colab_type": "text"
      },
      "source": [
        "<a href=\"https://colab.research.google.com/github/shreyasat27/pennylane-27524/blob/main/Rt_He2.ipynb\" target=\"_parent\"><img src=\"https://colab.research.google.com/assets/colab-badge.svg\" alt=\"Open In Colab\"/></a>"
      ]
    },
    {
      "cell_type": "code",
      "execution_count": null,
      "metadata": {
        "colab": {
          "base_uri": "https://localhost:8080/"
        },
        "id": "_mqiIDLdWxjq",
        "outputId": "0934d643-fc3a-41d8-d633-dd69eb4f6d78"
      },
      "outputs": [
        {
          "output_type": "stream",
          "name": "stdout",
          "text": [
            "Collecting pennylane\n",
            "  Downloading PennyLane-0.37.0-py3-none-any.whl (1.8 MB)\n",
            "\u001b[2K     \u001b[90m━━━━━━━━━━━━━━━━━━━━━━━━━━━━━━━━━━━━━━━━\u001b[0m \u001b[32m1.8/1.8 MB\u001b[0m \u001b[31m6.5 MB/s\u001b[0m eta \u001b[36m0:00:00\u001b[0m\n",
            "\u001b[?25hRequirement already satisfied: numpy<2.0 in /usr/local/lib/python3.10/dist-packages (from pennylane) (1.25.2)\n",
            "Requirement already satisfied: scipy in /usr/local/lib/python3.10/dist-packages (from pennylane) (1.11.4)\n",
            "Requirement already satisfied: networkx in /usr/local/lib/python3.10/dist-packages (from pennylane) (3.3)\n",
            "Collecting rustworkx (from pennylane)\n",
            "  Downloading rustworkx-0.15.1-cp38-abi3-manylinux_2_17_x86_64.manylinux2014_x86_64.whl (2.0 MB)\n",
            "\u001b[2K     \u001b[90m━━━━━━━━━━━━━━━━━━━━━━━━━━━━━━━━━━━━━━━━\u001b[0m \u001b[32m2.0/2.0 MB\u001b[0m \u001b[31m11.8 MB/s\u001b[0m eta \u001b[36m0:00:00\u001b[0m\n",
            "\u001b[?25hRequirement already satisfied: autograd in /usr/local/lib/python3.10/dist-packages (from pennylane) (1.6.2)\n",
            "Requirement already satisfied: toml in /usr/local/lib/python3.10/dist-packages (from pennylane) (0.10.2)\n",
            "Collecting appdirs (from pennylane)\n",
            "  Downloading appdirs-1.4.4-py2.py3-none-any.whl (9.6 kB)\n",
            "Collecting semantic-version>=2.7 (from pennylane)\n",
            "  Downloading semantic_version-2.10.0-py2.py3-none-any.whl (15 kB)\n",
            "Collecting autoray>=0.6.11 (from pennylane)\n",
            "  Downloading autoray-0.6.12-py3-none-any.whl (50 kB)\n",
            "\u001b[2K     \u001b[90m━━━━━━━━━━━━━━━━━━━━━━━━━━━━━━━━━━━━━━━━\u001b[0m \u001b[32m51.0/51.0 kB\u001b[0m \u001b[31m3.4 MB/s\u001b[0m eta \u001b[36m0:00:00\u001b[0m\n",
            "\u001b[?25hRequirement already satisfied: cachetools in /usr/local/lib/python3.10/dist-packages (from pennylane) (5.3.3)\n",
            "Collecting pennylane-lightning>=0.37 (from pennylane)\n",
            "  Downloading PennyLane_Lightning-0.37.0-cp310-cp310-manylinux_2_28_x86_64.whl (15.5 MB)\n",
            "\u001b[2K     \u001b[90m━━━━━━━━━━━━━━━━━━━━━━━━━━━━━━━━━━━━━━━━\u001b[0m \u001b[32m15.5/15.5 MB\u001b[0m \u001b[31m29.0 MB/s\u001b[0m eta \u001b[36m0:00:00\u001b[0m\n",
            "\u001b[?25hRequirement already satisfied: requests in /usr/local/lib/python3.10/dist-packages (from pennylane) (2.31.0)\n",
            "Requirement already satisfied: typing-extensions in /usr/local/lib/python3.10/dist-packages (from pennylane) (4.12.2)\n",
            "Requirement already satisfied: packaging in /usr/local/lib/python3.10/dist-packages (from pennylane) (24.1)\n",
            "Requirement already satisfied: future>=0.15.2 in /usr/local/lib/python3.10/dist-packages (from autograd->pennylane) (0.18.3)\n",
            "Requirement already satisfied: charset-normalizer<4,>=2 in /usr/local/lib/python3.10/dist-packages (from requests->pennylane) (3.3.2)\n",
            "Requirement already satisfied: idna<4,>=2.5 in /usr/local/lib/python3.10/dist-packages (from requests->pennylane) (3.7)\n",
            "Requirement already satisfied: urllib3<3,>=1.21.1 in /usr/local/lib/python3.10/dist-packages (from requests->pennylane) (2.0.7)\n",
            "Requirement already satisfied: certifi>=2017.4.17 in /usr/local/lib/python3.10/dist-packages (from requests->pennylane) (2024.7.4)\n",
            "Installing collected packages: appdirs, semantic-version, rustworkx, autoray, pennylane-lightning, pennylane\n",
            "Successfully installed appdirs-1.4.4 autoray-0.6.12 pennylane-0.37.0 pennylane-lightning-0.37.0 rustworkx-0.15.1 semantic-version-2.10.0\n"
          ]
        }
      ],
      "source": [
        "!pip install pennylane"
      ]
    },
    {
      "cell_type": "code",
      "source": [
        "import pennylane as qml\n",
        "from pennylane import numpy as np\n",
        "\n",
        "# Define the molecule\n",
        "symbols = [\"He\", \"He\"]\n",
        "coordinates = np.array([0.0, 0.0, 0.0, 0.0, 0.0, 0.735])\n",
        "\n",
        "# Create the molecule\n",
        "mol = qml.qchem.Molecule(symbols, coordinates, basis_name=\"sto-3g\")\n",
        "\n",
        "# Get the number of electrons and orbitals\n",
        "n_electrons = mol.n_electrons\n",
        "n_orbitals = mol.n_orbitals\n",
        "\n",
        "# Create the Hamiltonian\n",
        "H, qubits = qml.qchem.molecular_hamiltonian(\n",
        "    symbols,\n",
        "    coordinates,\n",
        "    basis=\"sto-3g\"\n",
        ")\n",
        "\n",
        "# Define the quantum device\n",
        "dev = qml.device(\"default.qubit\", wires=qubits)\n",
        "\n",
        "# Define the VQE ansatz\n",
        "def circuit(params, wires):\n",
        "    qml.BasisState(np.array([1, 1, 0, 0]), wires=wires)\n",
        "    for i in range(qubits):\n",
        "        qml.RY(params[i], wires=i)\n",
        "    qml.CNOT(wires=[0, 1])\n",
        "    qml.CNOT(wires=[2, 3])\n",
        "\n",
        "# Define the cost function\n",
        "@qml.qnode(dev)\n",
        "def cost_fn(params):\n",
        "    circuit(params, wires=range(qubits))\n",
        "    return qml.expval(H)\n",
        "\n",
        "# Optimize the circuit parameters\n",
        "opt = qml.GradientDescentOptimizer(stepsize=0.4)\n",
        "params = np.random.normal(0, np.pi, qubits)\n",
        "\n",
        "max_iterations = 100\n",
        "conv_tol = 1e-06\n",
        "\n",
        "for n in range(max_iterations):\n",
        "    params, prev_energy = opt.step_and_cost(cost_fn, params)\n",
        "    energy = cost_fn(params)\n",
        "    conv = np.abs(energy - prev_energy)\n",
        "\n",
        "    if n % 10 == 0:\n",
        "        print(f\"Iteration = {n},  Energy = {energy:.8f} Ha\")\n",
        "\n",
        "    if conv <= conv_tol:\n",
        "        break\n",
        "\n",
        "print(f\"\\nFinal energy: {energy:.8f} Ha\")\n",
        "print(f\"Convergence parameter: {conv:.8f} Ha\")"
      ],
      "metadata": {
        "colab": {
          "base_uri": "https://localhost:8080/"
        },
        "id": "hRdqRb-bW2IE",
        "outputId": "aba1c661-5d31-420a-e015-91875fa1b91b"
      },
      "execution_count": null,
      "outputs": [
        {
          "output_type": "stream",
          "name": "stdout",
          "text": [
            "Iteration = 0,  Energy = -2.06990762 Ha\n",
            "Iteration = 10,  Energy = -2.98401613 Ha\n",
            "Iteration = 20,  Energy = -2.98817836 Ha\n",
            "Iteration = 30,  Energy = -2.98871043 Ha\n",
            "Iteration = 40,  Energy = -2.98877810 Ha\n",
            "\n",
            "Final energy: -2.98878363 Ha\n",
            "Convergence parameter: 0.00000099 Ha\n"
          ]
        }
      ]
    }
  ]
}