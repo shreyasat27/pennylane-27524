{
  "cells": [
    {
      "cell_type": "markdown",
      "metadata": {
        "id": "view-in-github",
        "colab_type": "text"
      },
      "source": [
        "<a href=\"https://colab.research.google.com/github/shreyasat27/pennylane-27524/blob/main/double_slit.ipynb\" target=\"_parent\"><img src=\"https://colab.research.google.com/assets/colab-badge.svg\" alt=\"Open In Colab\"/></a>"
      ]
    },
    {
      "cell_type": "markdown",
      "metadata": {
        "id": "VimjdSorz2VJ"
      },
      "source": [
        "# The Double slit experiment\n",
        "\n",
        "Author: Mainak Bhattacharyya\n",
        "\n",
        "Credit: Maria Violaris (repo quantum-paradoxes)\n",
        "\n",
        "The double slit phenomenon of quantum particles distinguishes itself from the classical nature of the particles. For instance the dual nature of quantum particles can be seen from the double slit experiment. Also, the so called feature \"Measurement destroys the quantum properties\" is also seen from these experiment.\n",
        "<br><br>\n",
        "The expected classical schematics of the experiment can be seen from the below figure:"
      ]
    },
    {
      "cell_type": "markdown",
      "metadata": {
        "id": "f73aY9Rtz2VM"
      },
      "source": [
        "![dobleslitcl.png](attachment:dobleslitcl.png)"
      ]
    },
    {
      "cell_type": "markdown",
      "metadata": {
        "id": "OpmZ-iYcz2VN"
      },
      "source": [
        "If we instead of classical particles run the experiment for qubits we observe the following interference pattern. The intution behind the trajectory of the particles are that we don't know apriori which slit is used by the particular quantum particles. As soon as we try to observe the trajectory of the quantum particles, the interference pattern is lost and we get the previous classical results for the double slit experiment."
      ]
    },
    {
      "cell_type": "markdown",
      "metadata": {
        "id": "7trxhBsjz2VN"
      },
      "source": [
        "![doubleslitquantum.png](attachment:doubleslitquantum.png)"
      ]
    },
    {
      "cell_type": "markdown",
      "metadata": {
        "id": "mjel5HbVz2VN"
      },
      "source": [
        "No detector on the path of a qubit:\n",
        "\n",
        "1. The single qubit system is in a superposition of two states (due to application of a Hadamard gate).\n",
        "2. |0> and |1> represents two orthogonal quantum states.\n",
        "4. As the quantum system is reversible, action of a Hadamard gate again on the qubit takes it back to the original state.\n",
        "\n",
        "This can also be visualized as an experiment with beamsplitter."
      ]
    },
    {
      "cell_type": "markdown",
      "metadata": {
        "id": "_LCXA-RZz2VN"
      },
      "source": [
        "![beamsplitter.png](attachment:beamsplitter.png)"
      ]
    },
    {
      "cell_type": "markdown",
      "metadata": {
        "id": "ewS3PMHLz2VO"
      },
      "source": [
        "We compare the double slit experiment with this beam splitter setup. For instance there are two possibilities for photon traversing either through slit `S1` or slit `S2`. Similarly, in this case photons might travell through blue horizontal path or cyan vertical path.\n",
        "\n",
        "The point to note is that in both cases one can not now which path a particular photon takes without observing. Along with observation the quantum nature of the system gets destroyed."
      ]
    },
    {
      "cell_type": "code",
      "source": [
        "!pip install pennylane"
      ],
      "metadata": {
        "colab": {
          "base_uri": "https://localhost:8080/"
        },
        "id": "6zTPWVpw0aZk",
        "outputId": "a5b210ca-04bb-4a84-ba4b-f5a8a77f3ac6"
      },
      "execution_count": 2,
      "outputs": [
        {
          "output_type": "stream",
          "name": "stdout",
          "text": [
            "Collecting pennylane\n",
            "  Downloading PennyLane-0.36.0-py3-none-any.whl (1.7 MB)\n",
            "\u001b[2K     \u001b[90m━━━━━━━━━━━━━━━━━━━━━━━━━━━━━━━━━━━━━━━━\u001b[0m \u001b[32m1.7/1.7 MB\u001b[0m \u001b[31m7.6 MB/s\u001b[0m eta \u001b[36m0:00:00\u001b[0m\n",
            "\u001b[?25hRequirement already satisfied: numpy<2.0 in /usr/local/lib/python3.10/dist-packages (from pennylane) (1.25.2)\n",
            "Requirement already satisfied: scipy in /usr/local/lib/python3.10/dist-packages (from pennylane) (1.11.4)\n",
            "Requirement already satisfied: networkx in /usr/local/lib/python3.10/dist-packages (from pennylane) (3.3)\n",
            "Collecting rustworkx (from pennylane)\n",
            "  Downloading rustworkx-0.14.2-cp310-cp310-manylinux_2_17_x86_64.manylinux2014_x86_64.whl (2.1 MB)\n",
            "\u001b[2K     \u001b[90m━━━━━━━━━━━━━━━━━━━━━━━━━━━━━━━━━━━━━━━━\u001b[0m \u001b[32m2.1/2.1 MB\u001b[0m \u001b[31m14.7 MB/s\u001b[0m eta \u001b[36m0:00:00\u001b[0m\n",
            "\u001b[?25hRequirement already satisfied: autograd in /usr/local/lib/python3.10/dist-packages (from pennylane) (1.6.2)\n",
            "Requirement already satisfied: toml in /usr/local/lib/python3.10/dist-packages (from pennylane) (0.10.2)\n",
            "Collecting appdirs (from pennylane)\n",
            "  Downloading appdirs-1.4.4-py2.py3-none-any.whl (9.6 kB)\n",
            "Collecting semantic-version>=2.7 (from pennylane)\n",
            "  Downloading semantic_version-2.10.0-py2.py3-none-any.whl (15 kB)\n",
            "Collecting autoray>=0.6.1 (from pennylane)\n",
            "  Downloading autoray-0.6.12-py3-none-any.whl (50 kB)\n",
            "\u001b[2K     \u001b[90m━━━━━━━━━━━━━━━━━━━━━━━━━━━━━━━━━━━━━━━━\u001b[0m \u001b[32m51.0/51.0 kB\u001b[0m \u001b[31m5.9 MB/s\u001b[0m eta \u001b[36m0:00:00\u001b[0m\n",
            "\u001b[?25hRequirement already satisfied: cachetools in /usr/local/lib/python3.10/dist-packages (from pennylane) (5.3.3)\n",
            "Collecting pennylane-lightning>=0.36 (from pennylane)\n",
            "  Downloading PennyLane_Lightning-0.36.0-cp310-cp310-manylinux_2_17_x86_64.manylinux2014_x86_64.whl (19.1 MB)\n",
            "\u001b[2K     \u001b[90m━━━━━━━━━━━━━━━━━━━━━━━━━━━━━━━━━━━━━━━━\u001b[0m \u001b[32m19.1/19.1 MB\u001b[0m \u001b[31m35.4 MB/s\u001b[0m eta \u001b[36m0:00:00\u001b[0m\n",
            "\u001b[?25hRequirement already satisfied: requests in /usr/local/lib/python3.10/dist-packages (from pennylane) (2.31.0)\n",
            "Requirement already satisfied: typing-extensions in /usr/local/lib/python3.10/dist-packages (from pennylane) (4.12.2)\n",
            "Requirement already satisfied: future>=0.15.2 in /usr/local/lib/python3.10/dist-packages (from autograd->pennylane) (0.18.3)\n",
            "Requirement already satisfied: charset-normalizer<4,>=2 in /usr/local/lib/python3.10/dist-packages (from requests->pennylane) (3.3.2)\n",
            "Requirement already satisfied: idna<4,>=2.5 in /usr/local/lib/python3.10/dist-packages (from requests->pennylane) (3.7)\n",
            "Requirement already satisfied: urllib3<3,>=1.21.1 in /usr/local/lib/python3.10/dist-packages (from requests->pennylane) (2.0.7)\n",
            "Requirement already satisfied: certifi>=2017.4.17 in /usr/local/lib/python3.10/dist-packages (from requests->pennylane) (2024.6.2)\n",
            "Installing collected packages: appdirs, semantic-version, rustworkx, autoray, pennylane-lightning, pennylane\n",
            "Successfully installed appdirs-1.4.4 autoray-0.6.12 pennylane-0.36.0 pennylane-lightning-0.36.0 rustworkx-0.14.2 semantic-version-2.10.0\n"
          ]
        }
      ]
    },
    {
      "cell_type": "code",
      "execution_count": null,
      "metadata": {
        "id": "31zyM0xWz2VO"
      },
      "outputs": [],
      "source": [
        "# Import the pennylane module\n",
        "import pennylane as qml"
      ]
    },
    {
      "cell_type": "code",
      "execution_count": null,
      "metadata": {
        "id": "1O2JgDtlz2VP"
      },
      "outputs": [],
      "source": [
        "# Define a quantum device.\n",
        "device = qml.device(\"default.qubit\", wires = 1, shots=1000)\n",
        "\n",
        "# A perfect quantum setup\n",
        "@qml.qnode(device)\n",
        "def no_detector():\n",
        "    # Your code goes here ->\n",
        "\n",
        "fig, ax = qml.draw_mpl(no_detector)()\n",
        "fig.show()"
      ]
    },
    {
      "cell_type": "markdown",
      "metadata": {
        "id": "onh7P7hMz2VP"
      },
      "source": [
        "execute the circuit"
      ]
    },
    {
      "cell_type": "code",
      "execution_count": null,
      "metadata": {
        "id": "cSNUbSraz2VP"
      },
      "outputs": [],
      "source": [
        "no_detector()"
      ]
    },
    {
      "cell_type": "markdown",
      "metadata": {
        "id": "aJ0P2tdzz2VQ"
      },
      "source": [
        "Now we will appy a mid circuit measurement"
      ]
    },
    {
      "cell_type": "code",
      "execution_count": null,
      "metadata": {
        "id": "ENNv8WYTz2VQ"
      },
      "outputs": [],
      "source": [
        "# Disturb the quantum system.\n",
        "@qml.qnode(device)\n",
        "def with_detector():\n",
        "    # Your code goes here ->\n",
        "\n",
        "fig, ax = qml.draw_mpl(with_detector)()\n",
        "fig.show()"
      ]
    },
    {
      "cell_type": "code",
      "execution_count": null,
      "metadata": {
        "id": "aUKhMROSz2VQ"
      },
      "outputs": [],
      "source": [
        "with_detector()"
      ]
    }
  ],
  "metadata": {
    "kernelspec": {
      "display_name": "Python 3 (ipykernel)",
      "language": "python",
      "name": "python3"
    },
    "language_info": {
      "codemirror_mode": {
        "name": "ipython",
        "version": 3
      },
      "file_extension": ".py",
      "mimetype": "text/x-python",
      "name": "python",
      "nbconvert_exporter": "python",
      "pygments_lexer": "ipython3",
      "version": "3.12.3"
    },
    "colab": {
      "provenance": [],
      "include_colab_link": true
    }
  },
  "nbformat": 4,
  "nbformat_minor": 0
}