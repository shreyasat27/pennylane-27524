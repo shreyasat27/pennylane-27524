{
  "cells": [
    {
      "cell_type": "markdown",
      "metadata": {
        "id": "view-in-github",
        "colab_type": "text"
      },
      "source": [
        "<a href=\"https://colab.research.google.com/github/shreyasat27/pennylane-27524/blob/main/double_slit.ipynb\" target=\"_parent\"><img src=\"https://colab.research.google.com/assets/colab-badge.svg\" alt=\"Open In Colab\"/></a>"
      ]
    },
    {
      "cell_type": "markdown",
      "metadata": {
        "id": "VimjdSorz2VJ"
      },
      "source": [
        "# The Double slit experiment\n",
        "\n",
        "Author: Mainak Bhattacharyya\n",
        "\n",
        "Credit: Maria Violaris (repo quantum-paradoxes)\n",
        "\n",
        "The double slit phenomenon of quantum particles distinguishes itself from the classical nature of the particles. For instance the dual nature of quantum particles can be seen from the double slit experiment. Also, the so called feature \"Measurement destroys the quantum properties\" is also seen from these experiment.\n",
        "<br><br>\n",
        "The expected classical schematics of the experiment can be seen from the below figure:"
      ]
    },
    {
      "cell_type": "markdown",
      "metadata": {
        "id": "OpmZ-iYcz2VN"
      },
      "source": [
        "If we instead of classical particles run the experiment for qubits we observe the following interference pattern. The intution behind the trajectory of the particles are that we don't know apriori which slit is used by the particular quantum particles. As soon as we try to observe the trajectory of the quantum particles, the interference pattern is lost and we get the previous classical results for the double slit experiment."
      ]
    },
    {
      "cell_type": "markdown",
      "metadata": {
        "id": "mjel5HbVz2VN"
      },
      "source": [
        "No detector on the path of a qubit:\n",
        "\n",
        "1. The single qubit system is in a superposition of two states (due to application of a Hadamard gate).\n",
        "2. |0> and |1> represents two orthogonal quantum states.\n",
        "4. As the quantum system is reversible, action of a Hadamard gate again on the qubit takes it back to the original state.\n",
        "\n",
        "This can also be visualized as an experiment with beamsplitter."
      ]
    },
    {
      "cell_type": "markdown",
      "metadata": {
        "id": "ewS3PMHLz2VO"
      },
      "source": [
        "We compare the double slit experiment with this beam splitter setup. For instance there are two possibilities for photon traversing either through slit `S1` or slit `S2`. Similarly, in this case photons might travell through blue horizontal path or cyan vertical path.\n",
        "\n",
        "The point to note is that in both cases one can not now which path a particular photon takes without observing. Along with observation the quantum nature of the system gets destroyed."
      ]
    },
    {
      "cell_type": "code",
      "source": [
        "!pip install pennylane"
      ],
      "metadata": {
        "colab": {
          "base_uri": "https://localhost:8080/"
        },
        "id": "6zTPWVpw0aZk",
        "outputId": "fdbd3e4b-03d6-48e3-9b82-7635c823d34d"
      },
      "execution_count": 5,
      "outputs": [
        {
          "output_type": "stream",
          "name": "stdout",
          "text": [
            "Requirement already satisfied: pennylane in /usr/local/lib/python3.10/dist-packages (0.36.0)\n",
            "Requirement already satisfied: numpy<2.0 in /usr/local/lib/python3.10/dist-packages (from pennylane) (1.25.2)\n",
            "Requirement already satisfied: scipy in /usr/local/lib/python3.10/dist-packages (from pennylane) (1.11.4)\n",
            "Requirement already satisfied: networkx in /usr/local/lib/python3.10/dist-packages (from pennylane) (3.3)\n",
            "Requirement already satisfied: rustworkx in /usr/local/lib/python3.10/dist-packages (from pennylane) (0.14.2)\n",
            "Requirement already satisfied: autograd in /usr/local/lib/python3.10/dist-packages (from pennylane) (1.6.2)\n",
            "Requirement already satisfied: toml in /usr/local/lib/python3.10/dist-packages (from pennylane) (0.10.2)\n",
            "Requirement already satisfied: appdirs in /usr/local/lib/python3.10/dist-packages (from pennylane) (1.4.4)\n",
            "Requirement already satisfied: semantic-version>=2.7 in /usr/local/lib/python3.10/dist-packages (from pennylane) (2.10.0)\n",
            "Requirement already satisfied: autoray>=0.6.1 in /usr/local/lib/python3.10/dist-packages (from pennylane) (0.6.12)\n",
            "Requirement already satisfied: cachetools in /usr/local/lib/python3.10/dist-packages (from pennylane) (5.3.3)\n",
            "Requirement already satisfied: pennylane-lightning>=0.36 in /usr/local/lib/python3.10/dist-packages (from pennylane) (0.36.0)\n",
            "Requirement already satisfied: requests in /usr/local/lib/python3.10/dist-packages (from pennylane) (2.31.0)\n",
            "Requirement already satisfied: typing-extensions in /usr/local/lib/python3.10/dist-packages (from pennylane) (4.12.2)\n",
            "Requirement already satisfied: future>=0.15.2 in /usr/local/lib/python3.10/dist-packages (from autograd->pennylane) (0.18.3)\n",
            "Requirement already satisfied: charset-normalizer<4,>=2 in /usr/local/lib/python3.10/dist-packages (from requests->pennylane) (3.3.2)\n",
            "Requirement already satisfied: idna<4,>=2.5 in /usr/local/lib/python3.10/dist-packages (from requests->pennylane) (3.7)\n",
            "Requirement already satisfied: urllib3<3,>=1.21.1 in /usr/local/lib/python3.10/dist-packages (from requests->pennylane) (2.0.7)\n",
            "Requirement already satisfied: certifi>=2017.4.17 in /usr/local/lib/python3.10/dist-packages (from requests->pennylane) (2024.6.2)\n"
          ]
        }
      ]
    },
    {
      "cell_type": "code",
      "execution_count": 6,
      "metadata": {
        "id": "31zyM0xWz2VO"
      },
      "outputs": [],
      "source": [
        "# Import the pennylane module\n",
        "import pennylane as qml"
      ]
    },
    {
      "cell_type": "code",
      "execution_count": 16,
      "metadata": {
        "colab": {
          "base_uri": "https://localhost:8080/",
          "height": 237
        },
        "id": "1O2JgDtlz2VP",
        "outputId": "6142e8f7-86b3-4fff-e580-6e4a79494989"
      },
      "outputs": [
        {
          "output_type": "display_data",
          "data": {
            "text/plain": [
              "<Figure size 500x200 with 1 Axes>"
            ],
            "image/png": "[encoded data removed]"
          },
          "metadata": {}
        }
      ],
      "source": [
        "# Define a quantum device.\n",
        "device = qml.device(\"default.qubit\", wires = 1, shots=1000)\n",
        "\n",
        "# A perfect quantum setup\n",
        "@qml.qnode(device)\n",
        "def no_detector():\n",
        "    # Your code goes here ->\n",
        "    qml.Hadamard(wires=0)\n",
        "    qml.Hadamard(wires=0)\n",
        "    return qml.counts(qml.PauliZ(wires=0))\n",
        "fig, ax = qml.draw_mpl(no_detector)()\n",
        "fig.show()"
      ]
    },
    {
      "cell_type": "markdown",
      "metadata": {
        "id": "onh7P7hMz2VP"
      },
      "source": [
        "execute the circuit"
      ]
    },
    {
      "cell_type": "code",
      "execution_count": 15,
      "metadata": {
        "colab": {
          "base_uri": "https://localhost:8080/"
        },
        "id": "cSNUbSraz2VP",
        "outputId": "979c898f-d3b2-436b-f9ae-3d943d27fdd1"
      },
      "outputs": [
        {
          "output_type": "execute_result",
          "data": {
            "text/plain": [
              "{'0': tensor(1000, requires_grad=True)}"
            ]
          },
          "metadata": {},
          "execution_count": 15
        }
      ],
      "source": [
        "no_detector()"
      ]
    },
    {
      "cell_type": "markdown",
      "metadata": {
        "id": "aJ0P2tdzz2VQ"
      },
      "source": [
        "Now we will appy a mid circuit measurement"
      ]
    },
    {
      "cell_type": "code",
      "execution_count": 19,
      "metadata": {
        "colab": {
          "base_uri": "https://localhost:8080/",
          "height": 237
        },
        "id": "ENNv8WYTz2VQ",
        "outputId": "22c288f4-0b78-410e-ffe2-2569dce1cc55"
      },
      "outputs": [
        {
          "output_type": "display_data",
          "data": {
            "text/plain": [
              "<Figure size 600x200 with 1 Axes>"
            ],
            "image/png": "[encoded data removed]"
          },
          "metadata": {}
        }
      ],
      "source": [
        "# Disturb the quantum system.\n",
        "@qml.qnode(device)\n",
        "def with_detector():\n",
        "    qml.Hadamard(wires=0)\n",
        "    qml.measure(wires=0)\n",
        "    qml.Hadamard(wires=0)\n",
        "    return qml.counts(qml.PauliZ(wires=0))\n",
        "fig, ax = qml.draw_mpl(with_detector)()\n",
        "fig.show()"
      ]
    },
    {
      "cell_type": "code",
      "execution_count": 20,
      "metadata": {
        "colab": {
          "base_uri": "https://localhost:8080/"
        },
        "id": "aUKhMROSz2VQ",
        "outputId": "39cc5af2-c9b6-4240-8aee-f98ad1c08088"
      },
      "outputs": [
        {
          "output_type": "execute_result",
          "data": {
            "text/plain": [
              "{-1: tensor(503, requires_grad=True), 1: tensor(497, requires_grad=True)}"
            ]
          },
          "metadata": {},
          "execution_count": 20
        }
      ],
      "source": [
        "with_detector()"
      ]
    }
  ],
  "metadata": {
    "kernelspec": {
      "display_name": "Python 3 (ipykernel)",
      "language": "python",
      "name": "python3"
    },
    "language_info": {
      "codemirror_mode": {
        "name": "ipython",
        "version": 3
      },
      "file_extension": ".py",
      "mimetype": "text/x-python",
      "name": "python",
      "nbconvert_exporter": "python",
      "pygments_lexer": "ipython3",
      "version": "3.12.3"
    },
    "colab": {
      "provenance": [],
      "include_colab_link": true
    }
  },
  "nbformat": 4,
  "nbformat_minor": 0
}