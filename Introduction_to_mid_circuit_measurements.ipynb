{
  "nbformat": 4,
  "nbformat_minor": 0,
  "metadata": {
    "colab": {
      "provenance": [],
      "authorship_tag": "ABX9TyOeQL2ErOx9lq5wcLGc+VnW",
      "include_colab_link": true
    },
    "kernelspec": {
      "name": "python3",
      "display_name": "Python 3"
    },
    "language_info": {
      "name": "python"
    }
  },
  "cells": [
    {
      "cell_type": "markdown",
      "metadata": {
        "id": "view-in-github",
        "colab_type": "text"
      },
      "source": [
        "<a href=\"https://colab.research.google.com/github/shreyasat27/pennylane-27524/blob/main/Introduction_to_mid_circuit_measurements.ipynb\" target=\"_parent\"><img src=\"https://colab.research.google.com/assets/colab-badge.svg\" alt=\"Open In Colab\"/></a>"
      ]
    },
    {
      "cell_type": "code",
      "execution_count": null,
      "metadata": {
        "id": "G7ZPqgHogLvr",
        "colab": {
          "base_uri": "https://localhost:8080/"
        },
        "outputId": "2d0aa3e9-7cf2-465e-e69c-18d54e04ea56"
      },
      "outputs": [
        {
          "output_type": "stream",
          "name": "stdout",
          "text": [
            "Collecting pennylane\n",
            "  Downloading PennyLane-0.36.0-py3-none-any.whl (1.7 MB)\n",
            "\u001b[2K     \u001b[90m━━━━━━━━━━━━━━━━━━━━━━━━━━━━━━━━━━━━━━━━\u001b[0m \u001b[32m1.7/1.7 MB\u001b[0m \u001b[31m6.3 MB/s\u001b[0m eta \u001b[36m0:00:00\u001b[0m\n",
            "\u001b[?25hRequirement already satisfied: numpy<2.0 in /usr/local/lib/python3.10/dist-packages (from pennylane) (1.25.2)\n",
            "Requirement already satisfied: scipy in /usr/local/lib/python3.10/dist-packages (from pennylane) (1.11.4)\n",
            "Requirement already satisfied: networkx in /usr/local/lib/python3.10/dist-packages (from pennylane) (3.3)\n",
            "Collecting rustworkx (from pennylane)\n",
            "  Downloading rustworkx-0.14.2-cp310-cp310-manylinux_2_17_x86_64.manylinux2014_x86_64.whl (2.1 MB)\n",
            "\u001b[2K     \u001b[90m━━━━━━━━━━━━━━━━━━━━━━━━━━━━━━━━━━━━━━━━\u001b[0m \u001b[32m2.1/2.1 MB\u001b[0m \u001b[31m28.5 MB/s\u001b[0m eta \u001b[36m0:00:00\u001b[0m\n",
            "\u001b[?25hRequirement already satisfied: autograd in /usr/local/lib/python3.10/dist-packages (from pennylane) (1.6.2)\n",
            "Requirement already satisfied: toml in /usr/local/lib/python3.10/dist-packages (from pennylane) (0.10.2)\n",
            "Collecting appdirs (from pennylane)\n",
            "  Downloading appdirs-1.4.4-py2.py3-none-any.whl (9.6 kB)\n",
            "Collecting semantic-version>=2.7 (from pennylane)\n",
            "  Downloading semantic_version-2.10.0-py2.py3-none-any.whl (15 kB)\n",
            "Collecting autoray>=0.6.1 (from pennylane)\n",
            "  Downloading autoray-0.6.12-py3-none-any.whl (50 kB)\n",
            "\u001b[2K     \u001b[90m━━━━━━━━━━━━━━━━━━━━━━━━━━━━━━━━━━━━━━━━\u001b[0m \u001b[32m51.0/51.0 kB\u001b[0m \u001b[31m3.1 MB/s\u001b[0m eta \u001b[36m0:00:00\u001b[0m\n",
            "\u001b[?25hRequirement already satisfied: cachetools in /usr/local/lib/python3.10/dist-packages (from pennylane) (5.3.3)\n",
            "Collecting pennylane-lightning>=0.36 (from pennylane)\n",
            "  Downloading PennyLane_Lightning-0.36.0-cp310-cp310-manylinux_2_17_x86_64.manylinux2014_x86_64.whl (19.1 MB)\n",
            "\u001b[2K     \u001b[90m━━━━━━━━━━━━━━━━━━━━━━━━━━━━━━━━━━━━━━━━\u001b[0m \u001b[32m19.1/19.1 MB\u001b[0m \u001b[31m28.0 MB/s\u001b[0m eta \u001b[36m0:00:00\u001b[0m\n",
            "\u001b[?25hRequirement already satisfied: requests in /usr/local/lib/python3.10/dist-packages (from pennylane) (2.31.0)\n",
            "Requirement already satisfied: typing-extensions in /usr/local/lib/python3.10/dist-packages (from pennylane) (4.11.0)\n",
            "Requirement already satisfied: future>=0.15.2 in /usr/local/lib/python3.10/dist-packages (from autograd->pennylane) (0.18.3)\n",
            "Requirement already satisfied: charset-normalizer<4,>=2 in /usr/local/lib/python3.10/dist-packages (from requests->pennylane) (3.3.2)\n",
            "Requirement already satisfied: idna<4,>=2.5 in /usr/local/lib/python3.10/dist-packages (from requests->pennylane) (3.7)\n",
            "Requirement already satisfied: urllib3<3,>=1.21.1 in /usr/local/lib/python3.10/dist-packages (from requests->pennylane) (2.0.7)\n",
            "Requirement already satisfied: certifi>=2017.4.17 in /usr/local/lib/python3.10/dist-packages (from requests->pennylane) (2024.2.2)\n",
            "Installing collected packages: appdirs, semantic-version, rustworkx, autoray, pennylane-lightning, pennylane\n",
            "Successfully installed appdirs-1.4.4 autoray-0.6.12 pennylane-0.36.0 pennylane-lightning-0.36.0 rustworkx-0.14.2 semantic-version-2.10.0\n"
          ]
        }
      ],
      "source": [
        "!pip install pennylane\n",
        "import pennylane as qml"
      ]
    },
    {
      "cell_type": "markdown",
      "source": [
        "Measuring a single qubit"
      ],
      "metadata": {
        "id": "FEu0fLxt6rrW"
      }
    },
    {
      "cell_type": "code",
      "source": [
        "#define a device\n",
        "dev =qml.device(\"default.qubit\")\n",
        "\n",
        "#define node\n",
        "@qml.qnode(dev)\n",
        "def before():\n",
        "  qml.Hadamard(0) #creates the plus state\n",
        "  return qml.expval(qml.X(0)), qml.expval(qml.Z(0))\n",
        "\n",
        "b = before()\n",
        "\n",
        "print(f\"Expectation values before any measurement: {b[0]:.1f},{b[1]:.1f}\")"
      ],
      "metadata": {
        "colab": {
          "base_uri": "https://localhost:8080/"
        },
        "id": "NnEDNeet6qjt",
        "outputId": "529c2071-6dbb-4e95-e060-57295e30d126"
      },
      "execution_count": null,
      "outputs": [
        {
          "output_type": "stream",
          "name": "stdout",
          "text": [
            "Expectation values before any measurement: 1.0,0.0\n"
          ]
        }
      ]
    },
    {
      "cell_type": "code",
      "source": [
        "@qml.qnode(dev)\n",
        "\n",
        "def after():\n",
        "  qml.Hadamard(0) #create a plus state\n",
        "  qml.measure(0)\n",
        "  return qml.expval(qml.X(0)), qml.expval(qml.Z(0))\n",
        "\n",
        "a = after()\n",
        "print(f\"Expectation value after the measurement: {a[0]:.1f}, {a[1]:.1f}\")\n",
        "\n"
      ],
      "metadata": {
        "colab": {
          "base_uri": "https://localhost:8080/"
        },
        "id": "wDyU_DPQ9n__",
        "outputId": "01939ca9-ce28-4b9a-81eb-cd674e669562"
      },
      "execution_count": null,
      "outputs": [
        {
          "output_type": "stream",
          "name": "stdout",
          "text": [
            "Expectation value after the measurement: 0.0, 0.0\n"
          ]
        }
      ]
    },
    {
      "cell_type": "code",
      "source": [
        "#post selection\n",
        "\n",
        "@qml.qnode(dev)\n",
        "\n",
        "def after():\n",
        "  qml.Hadamard(0) #plus state\n",
        "  qml.measure(0, postselect=0) #measure and only accept 1 as outcome\n",
        "  return qml.expval(qml.X(0)), qml.expval(qml.Z(0))\n",
        "\n",
        "a = after()\n",
        "print(f\"Expectation value after the measurement: {a[0]:.1f}, {a[1]:.1f}\")"
      ],
      "metadata": {
        "colab": {
          "base_uri": "https://localhost:8080/"
        },
        "id": "oX1qXlUY-uoY",
        "outputId": "b7ab96d7-714e-42ce-d40c-f41602ecb43b"
      },
      "execution_count": null,
      "outputs": [
        {
          "output_type": "stream",
          "name": "stdout",
          "text": [
            "Expectation value after the measurement: 0.0, 1.0\n"
          ]
        }
      ]
    },
    {
      "cell_type": "markdown",
      "source": [
        "Measuring a Bell pair"
      ],
      "metadata": {
        "id": "vQJAFRijFeG2"
      }
    },
    {
      "cell_type": "code",
      "source": [
        "def bell_pair_prepration(**kwargs):\n",
        "    qml.Hadamard(0)\n",
        "    qml.CNOT([0,1]) #create a bell pair\n",
        "    qml.measure(0,**kwargs) #here we are measuring the first qubit, using keyword arguments\n",
        "\n"
      ],
      "metadata": {
        "id": "Ni4iSONlGmmU"
      },
      "execution_count": null,
      "outputs": []
    },
    {
      "cell_type": "code",
      "source": [
        "@qml.qnode(dev)\n",
        "def bell_pair(postselect):\n",
        "  bell_pair_prepration(postselect=postselect)\n",
        "  return qml.purity([0,1]), qml.vn_entropy(0)\n",
        "\n"
      ],
      "metadata": {
        "id": "N8lfZ4B_gU6q"
      },
      "execution_count": null,
      "outputs": []
    },
    {
      "cell_type": "markdown",
      "source": [
        "comapring the ppurities and von Neumann entropies of the Bell state after measurement:"
      ],
      "metadata": {
        "id": "fVcY7O6Ygz5v"
      }
    },
    {
      "cell_type": "code",
      "source": [
        "without_ps = bell_pair(None)\n",
        "with_ps = bell_pair(1)\n",
        "print(f\"                     |without ps | with ps \")\n",
        "print(f\"Purity               |    {without_ps[0]:.1f}  | {with_ps[0]:.1f}\")\n",
        "print(f\"Entanglement entropy |    {without_ps[1]:.2f} | {with_ps[1]:.1f}\")\n",
        "\n"
      ],
      "metadata": {
        "colab": {
          "base_uri": "https://localhost:8080/"
        },
        "id": "3iIv9br4gyo2",
        "outputId": "2f336795-0581-4d98-cfd2-be0ea5276da2"
      },
      "execution_count": null,
      "outputs": [
        {
          "output_type": "stream",
          "name": "stdout",
          "text": [
            "                     |without ps | with ps \n",
            "Purity               |    0.5  | 1.0\n",
            "Entanglement entropy |    0.69 | -0.0\n"
          ]
        }
      ]
    },
    {
      "cell_type": "markdown",
      "source": [
        "Qubit Reset"
      ],
      "metadata": {
        "id": "W1eAtIpOlxRa"
      }
    },
    {
      "cell_type": "code",
      "source": [
        "@qml.qnode(dev)\n",
        "def bell_pair_with_reset(reset):\n",
        "  bell_pair_prepration(reset=reset)\n",
        "  return qml.expval(qml.Z(0)), qml.expval(qml.Z(1)), qml.expval(qml.Z(0) @ qml.Z(1))\n",
        "no_reset = bell_pair_with_reset(reset=False)\n",
        "reset =bell_pair_with_reset(reset=True)\n",
        "\n",
        "print(f\"              | <Z₀> | <Z₁> | <Z₀Z₁> \")\n",
        "print(f\"Without reset |  {no_reset[0]:.1f} |  {no_reset[1]:.1f} |   {no_reset[2]:.1f}\")\n",
        "print(f\"With reset    |  {reset[0]:.1f} |  {reset[1]:.1f} |   {reset[2]:.1f}\")\n",
        "\n",
        "\n",
        "\n",
        "\n"
      ],
      "metadata": {
        "colab": {
          "base_uri": "https://localhost:8080/"
        },
        "id": "l5-UdN3zlzER",
        "outputId": "5f2e3532-c15c-4212-d96c-c0840d739472"
      },
      "execution_count": null,
      "outputs": [
        {
          "output_type": "stream",
          "name": "stdout",
          "text": [
            "              | <Z₀> | <Z₁> | <Z₀Z₁> \n",
            "Without reset |  0.0 |  0.0 |   1.0\n",
            "With reset    |  1.0 |  0.0 |   0.0\n"
          ]
        }
      ]
    },
    {
      "cell_type": "markdown",
      "source": [
        "Dynamically controlling a quantum circuit"
      ],
      "metadata": {
        "id": "C_NTWc_c2FF8"
      }
    },
    {
      "cell_type": "markdown",
      "source": [
        "1. T-gadget (a technique related to quantum teleportation)"
      ],
      "metadata": {
        "id": "C3PI2AO_40ma"
      }
    },
    {
      "cell_type": "code",
      "source": [
        "import numpy as np\n",
        "\n",
        "magic_state = np.array([1, np.exp(1j * np.pi / 4)]) / np.sqrt(2)\n",
        "\n",
        "def t_gadget(wire, aux_wire):\n",
        "    qml.QubitStateVector(magic_state, aux_wire)\n",
        "    qml.CNOT([wire, aux_wire])\n",
        "    mcm = qml.measure(aux_wire, reset=True)  # Resetting disentangles aux qubit\n",
        "    qml.cond(mcm, qml.S)(wire)  # Apply qml.S(wire) if mcm was 1"
      ],
      "metadata": {
        "id": "ngrfppaw29XT"
      },
      "execution_count": null,
      "outputs": []
    },
    {
      "cell_type": "code",
      "source": [
        "@qml.qnode(dev)\n",
        "def test_t_gadget(init_state):\n",
        "    qml.Hadamard(0)  # Create |+> state\n",
        "    if init_state == \"-\":\n",
        "        qml.Z(0)  # Flip to |-> state\n",
        "\n",
        "    t_gadget(0, 1)  # Apply T-gadget\n",
        "    qml.adjoint(qml.T)(0)  # Apply T^† to undo the gadget\n",
        "\n",
        "    return qml.expval(qml.X(0))\n",
        "\n",
        "print(f\"<X₀> with initial state |+>: {test_t_gadget('+'):4.1f}\")\n",
        "print(f\"<X₀> with initial state |->: {test_t_gadget('-'):4.1f}\")"
      ],
      "metadata": {
        "id": "JCuDFEG7Mq4r",
        "outputId": "db574108-4a95-49ba-cf1f-7811d3cc0c2c",
        "colab": {
          "base_uri": "https://localhost:8080/"
        }
      },
      "execution_count": null,
      "outputs": [
        {
          "output_type": "stream",
          "name": "stdout",
          "text": [
            "<X₀> with initial state |+>:  1.0\n",
            "<X₀> with initial state |->: -1.0\n"
          ]
        }
      ]
    }
  ]
}