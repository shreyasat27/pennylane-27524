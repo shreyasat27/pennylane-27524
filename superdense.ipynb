{
 "cells": [
  {
   "cell_type": "markdown",
   "metadata": {},
   "source": [
    "Day 2 exercise\n",
    "\n",
    "## Superdense coding\n",
    "\n",
    "[Sending classical information using qubits]\n",
    "\n",
    "The problem: Alice wants to send classical information to Bob, say one of four cricketers, Virat, Sachin, Ganguly and Dravid. She can either send her preference using classical bits or qubits, and we will see that if Alice and Bob share entanglement, Alice only needs to send half the number of qubits as she would bits."
   ]
  },
  {
   "cell_type": "markdown",
   "metadata": {},
   "source": [
    "What you would do classically?\n",
    "\n",
    "Well, classically for the `4` possibilities, Alice has to send two bits of classical information. For example, `00` for `Virat`, `01` for `Sachin`, `10` for `Ganguly` and `11` for `Dravid`."
   ]
  },
  {
   "cell_type": "markdown",
   "metadata": {},
   "source": [
    "#### The Quantum solution:\n",
    "\n",
    "Using superdense protocol Alice can just send 1 qubit to Bob and convey her choice.\n",
    "The protocol is as follows:\n",
    "1. Alice and Bob share an entangled state.\n",
    "2. Alice choses the two classical bits, she wants to send to Bob.\n",
    "3. Alice applies the following gate on her shared entangled qubit, depending on the choice.\n",
    "\n",
    "| Alice's choice     | Gate on Alice's qubit|\n",
    "|--------------------|----------------------|\n",
    "| 00                 | I                    |\n",
    "| 01                 | X                    |\n",
    "| 10                 | Z                    |\n",
    "| 11                 | ZX                   |\n",
    "\n",
    "4. Now Alice sends her qubit to Bob.\n",
    "5. Bob performs the Bell basis measurement.\n",
    "\n",
    "The above protocol is the standard `superdense coding`."
   ]
  },
  {
   "cell_type": "code",
   "execution_count": 1,
   "metadata": {},
   "outputs": [],
   "source": [
    "# Import pennylane module\n",
    "import pennylane as qml"
   ]
  },
  {
   "cell_type": "code",
   "execution_count": 3,
   "metadata": {},
   "outputs": [],
   "source": [
    "# Prepares the Bell state.\n",
    "def bell_state():\n",
    "    qml.Hadamard(wires='alice')\n",
    "    qml.CNOT(wires=['alice','bob'])\n"
   ]
  },
  {
   "cell_type": "markdown",
   "metadata": {},
   "source": [
    "Task: Design Alice' operation according to the table"
   ]
  },
  {
   "cell_type": "code",
   "execution_count": 7,
   "metadata": {},
   "outputs": [],
   "source": [
    "# Alice's operations:\n",
    "def alice(message: str):\n",
    "    # Your code goes here ->\n",
    "     if message =='00':\n",
    "         pass\n",
    "     elif message =='01':\n",
    "         qml.PauliX(wires='alice')\n",
    "     elif message == '10':\n",
    "         qml.PauliZ(wires='alice')\n",
    "     elif message == '11':\n",
    "         qml.PauliZ(wires='alice')\n",
    "         qml.PauliX(wires='alice')\n",
    "     \n",
    "         \n"
   ]
  },
  {
   "cell_type": "markdown",
   "metadata": {},
   "source": [
    "Now Alice sends her qubit to Bob and thus, Bob has both the qubits.\n",
    "\n",
    "Task: Write down the code for Bell basis transformation from computational basis."
   ]
  },
  {
   "cell_type": "code",
   "execution_count": 10,
   "metadata": {},
   "outputs": [],
   "source": [
    "# Bell basis measurement:\n",
    "def bell_basis_transform():\n",
    "    qml.CNOT(wires=['alice', 'bob'])\n",
    "    qml.Hadamard(wires=0)"
   ]
  },
  {
   "cell_type": "code",
   "execution_count": null,
   "metadata": {},
   "outputs": [],
   "source": [
    "# Define a quantum device\n",
    "device = qml.device(\"default.qubit\", wires=[\"alice\", \"bob\"])\n",
    "\n",
    "@qml.qnode(device)\n",
    "# The complete protocol\n",
    "def superdense(message: str):\n",
    "    # Your code goes here ->\n",
    "    bell_state()\n",
    "    alice(message = message)\n",
    "    bell_basis_transform()\n",
    "    # returns probabilities of the computational basis states\n",
    "    return qml.probs(wires=[\"alice\",\"bob\"])"
   ]
  },
  {
   "cell_type": "code",
   "execution_count": null,
   "metadata": {},
   "outputs": [],
   "source": [
    "message=\"10\""
   ]
  },
  {
   "cell_type": "code",
   "execution_count": null,
   "metadata": {},
   "outputs": [],
   "source": [
    "# Visualize the teleportation circuit\n",
    "_ = qml.draw_mpl(superdense, style=\"pennylane\")(message)"
   ]
  },
  {
   "cell_type": "code",
   "execution_count": null,
   "metadata": {},
   "outputs": [],
   "source": [
    "# Execute the protocol\n",
    "superdense(message)"
   ]
  },
  {
   "cell_type": "code",
   "execution_count": null,
   "metadata": {},
   "outputs": [],
   "source": []
  }
 ],
 "metadata": {
  "kernelspec": {
   "display_name": "Python 3 (ipykernel)",
   "language": "python",
   "name": "python3"
  },
  "language_info": {
   "codemirror_mode": {
    "name": "ipython",
    "version": 3
   },
   "file_extension": ".py",
   "mimetype": "text/x-python",
   "name": "python",
   "nbconvert_exporter": "python",
   "pygments_lexer": "ipython3",
   "version": "3.12.3"
  }
 },
 "nbformat": 4,
 "nbformat_minor": 4
}
